{
 "cells": [
  {
   "cell_type": "code",
   "execution_count": 1,
   "id": "69297ec9",
   "metadata": {
    "extensions": {
     "jupyter_dashboards": {
      "version": 1,
      "views": {
       "grid_default": {},
       "report_default": {
        "hidden": true
       }
      }
     }
    }
   },
   "outputs": [],
   "source": [
    "# Install packages if not available in Jupyter Notebook\n",
    "# !pip install pandas\n",
    "# !pip install ipywidgets\n",
    "# !pip install pycountry_convert\n",
    "# !pip install plotly\n",
    "# !pip install matplotlib\n",
    "# !pip install openpyxl\n",
    "# !pip install IPython"
   ]
  },
  {
   "cell_type": "code",
   "execution_count": 2,
   "id": "77836f11",
   "metadata": {
    "extensions": {
     "jupyter_dashboards": {
      "version": 1,
      "views": {
       "grid_default": {},
       "report_default": {
        "hidden": false
       }
      }
     }
    }
   },
   "outputs": [],
   "source": [
    "import pandas as pd\n",
    "import plotly.express as px\n",
    "import ipywidgets as widgets\n",
    "from IPython.display import display\n",
    "import matplotlib.pyplot as plt\n",
    "import pycountry_convert as pc\n",
    "import plotly.graph_objs as go"
   ]
  },
  {
   "cell_type": "code",
   "execution_count": 3,
   "id": "f01e0dd7",
   "metadata": {
    "extensions": {
     "jupyter_dashboards": {
      "version": 1,
      "views": {
       "grid_default": {},
       "report_default": {
        "hidden": false
       }
      }
     }
    }
   },
   "outputs": [],
   "source": [
    "# import the data\n",
    "cv_df = pd.read_excel(\"Covid Protection Efficacy By Country.xlsx\")"
   ]
  },
  {
   "cell_type": "markdown",
   "id": "e0e412ba",
   "metadata": {
    "extensions": {
     "jupyter_dashboards": {
      "version": 1,
      "views": {
       "grid_default": {},
       "report_default": {
        "hidden": false
       }
      }
     }
    }
   },
   "source": [
    "## This is the dataset of the Covid Efficacy and here the data will be cleaned such as dropping any rows with no values because no information can be found on the country thus is useless"
   ]
  },
  {
   "cell_type": "code",
   "execution_count": 4,
   "id": "f2ecfcbe",
   "metadata": {
    "extensions": {
     "jupyter_dashboards": {
      "version": 1,
      "views": {
       "grid_default": {},
       "report_default": {
        "hidden": false
       }
      }
     }
    },
    "scrolled": false
   },
   "outputs": [
    {
     "data": {
      "text/html": [
       "<div>\n",
       "<style scoped>\n",
       "    .dataframe tbody tr th:only-of-type {\n",
       "        vertical-align: middle;\n",
       "    }\n",
       "\n",
       "    .dataframe tbody tr th {\n",
       "        vertical-align: top;\n",
       "    }\n",
       "\n",
       "    .dataframe thead th {\n",
       "        text-align: right;\n",
       "    }\n",
       "</style>\n",
       "<table border=\"1\" class=\"dataframe\">\n",
       "  <thead>\n",
       "    <tr style=\"text-align: right;\">\n",
       "      <th></th>\n",
       "      <th>COUNTRY</th>\n",
       "      <th>ISO3</th>\n",
       "      <th>WHO_REGION</th>\n",
       "      <th>DATE_UPDATED</th>\n",
       "      <th>VACCINES_USED</th>\n",
       "      <th>NUMBER_VACCINES_TYPES_USED</th>\n",
       "      <th>Protection against ORIGINAL Var- SEVERE, % average</th>\n",
       "      <th>Protection against ORIGINAL Var- INFECTION, % average</th>\n",
       "      <th>Protection against LATEST var BA1.n SEVERE, % average</th>\n",
       "      <th>Protection against LATEST var BA1.n INFECTION, % average</th>\n",
       "      <th>...</th>\n",
       "      <th>% Population vaccinated</th>\n",
       "      <th>% People Protected for ORGINAL SEVERE</th>\n",
       "      <th>% People Protected for ORGINAL INFECTION</th>\n",
       "      <th>% People Protected for OMICRON SEVERE</th>\n",
       "      <th>% People Protected for OMICRON INFECTION</th>\n",
       "      <th>% SUCEPTIBLE for  BREAKTHROUGH  ORGINAL SEVERE</th>\n",
       "      <th>% SUCEPTIBLE for  BREAKTHROUGH ORIGINAL  INFECTION</th>\n",
       "      <th>% SUCEPTIBLE for  BREAKTHROUGH OMICRON SEVERE</th>\n",
       "      <th>% SUCEPTIBLE for  BREAKTHROUGH OMICRON INFECTION</th>\n",
       "      <th>% Population NOT VACCINATED</th>\n",
       "    </tr>\n",
       "  </thead>\n",
       "  <tbody>\n",
       "    <tr>\n",
       "      <th>0</th>\n",
       "      <td>Afghanistan</td>\n",
       "      <td>AFG</td>\n",
       "      <td>EMRO</td>\n",
       "      <td>2022-12-22</td>\n",
       "      <td>AstraZeneca - Vaxzevria,Beijing CNBG - BBIBP-C...</td>\n",
       "      <td>11.0</td>\n",
       "      <td>83.0</td>\n",
       "      <td>73.0</td>\n",
       "      <td>61.0</td>\n",
       "      <td>38.0</td>\n",
       "      <td>...</td>\n",
       "      <td>28.41</td>\n",
       "      <td>23.5803</td>\n",
       "      <td>20.7393</td>\n",
       "      <td>17.3301</td>\n",
       "      <td>10.7958</td>\n",
       "      <td>4.8297</td>\n",
       "      <td>7.6707</td>\n",
       "      <td>11.0799</td>\n",
       "      <td>17.6142</td>\n",
       "      <td>71.59</td>\n",
       "    </tr>\n",
       "    <tr>\n",
       "      <th>1</th>\n",
       "      <td>Albania</td>\n",
       "      <td>ALB</td>\n",
       "      <td>EURO</td>\n",
       "      <td>2022-12-11</td>\n",
       "      <td>AstraZeneca - Vaxzevria,Gamaleya - Gam-Covid-V...</td>\n",
       "      <td>5.0</td>\n",
       "      <td>85.0</td>\n",
       "      <td>69.0</td>\n",
       "      <td>64.0</td>\n",
       "      <td>37.0</td>\n",
       "      <td>...</td>\n",
       "      <td>47.31</td>\n",
       "      <td>40.2135</td>\n",
       "      <td>32.6439</td>\n",
       "      <td>30.2784</td>\n",
       "      <td>17.5047</td>\n",
       "      <td>7.0965</td>\n",
       "      <td>14.6661</td>\n",
       "      <td>17.0316</td>\n",
       "      <td>29.8053</td>\n",
       "      <td>52.69</td>\n",
       "    </tr>\n",
       "    <tr>\n",
       "      <th>2</th>\n",
       "      <td>Algeria</td>\n",
       "      <td>DZA</td>\n",
       "      <td>AFRO</td>\n",
       "      <td>2022-09-04</td>\n",
       "      <td>Beijing CNBG - BBIBP-CorV,Gamaleya - Gam-Covid...</td>\n",
       "      <td>4.0</td>\n",
       "      <td>77.0</td>\n",
       "      <td>66.0</td>\n",
       "      <td>57.0</td>\n",
       "      <td>35.0</td>\n",
       "      <td>...</td>\n",
       "      <td>17.46</td>\n",
       "      <td>13.4442</td>\n",
       "      <td>11.5236</td>\n",
       "      <td>9.9522</td>\n",
       "      <td>6.1110</td>\n",
       "      <td>4.0158</td>\n",
       "      <td>5.9364</td>\n",
       "      <td>7.5078</td>\n",
       "      <td>11.3490</td>\n",
       "      <td>82.54</td>\n",
       "    </tr>\n",
       "    <tr>\n",
       "      <th>3</th>\n",
       "      <td>American Samoa</td>\n",
       "      <td>ASM</td>\n",
       "      <td>WPRO</td>\n",
       "      <td>2022-08-23</td>\n",
       "      <td>Janssen - Ad26.COV 2-S,Moderna - Spikevax,Pfiz...</td>\n",
       "      <td>3.0</td>\n",
       "      <td>93.0</td>\n",
       "      <td>83.0</td>\n",
       "      <td>67.0</td>\n",
       "      <td>42.0</td>\n",
       "      <td>...</td>\n",
       "      <td>NaN</td>\n",
       "      <td>0.0000</td>\n",
       "      <td>0.0000</td>\n",
       "      <td>0.0000</td>\n",
       "      <td>0.0000</td>\n",
       "      <td>0.0000</td>\n",
       "      <td>0.0000</td>\n",
       "      <td>0.0000</td>\n",
       "      <td>0.0000</td>\n",
       "      <td>100.00</td>\n",
       "    </tr>\n",
       "    <tr>\n",
       "      <th>4</th>\n",
       "      <td>Andorra</td>\n",
       "      <td>AND</td>\n",
       "      <td>EURO</td>\n",
       "      <td>2022-11-13</td>\n",
       "      <td>AstraZeneca - Vaxzevria,Moderna - Spikevax,Pfi...</td>\n",
       "      <td>3.0</td>\n",
       "      <td>95.0</td>\n",
       "      <td>80.0</td>\n",
       "      <td>72.0</td>\n",
       "      <td>43.0</td>\n",
       "      <td>...</td>\n",
       "      <td>72.52</td>\n",
       "      <td>68.8940</td>\n",
       "      <td>58.0160</td>\n",
       "      <td>52.2144</td>\n",
       "      <td>31.1836</td>\n",
       "      <td>3.6260</td>\n",
       "      <td>14.5040</td>\n",
       "      <td>20.3056</td>\n",
       "      <td>41.3364</td>\n",
       "      <td>27.48</td>\n",
       "    </tr>\n",
       "  </tbody>\n",
       "</table>\n",
       "<p>5 rows × 22 columns</p>\n",
       "</div>"
      ],
      "text/plain": [
       "          COUNTRY ISO3 WHO_REGION DATE_UPDATED  \\\n",
       "0     Afghanistan  AFG       EMRO   2022-12-22   \n",
       "1         Albania  ALB       EURO   2022-12-11   \n",
       "2         Algeria  DZA       AFRO   2022-09-04   \n",
       "3  American Samoa  ASM       WPRO   2022-08-23   \n",
       "4         Andorra  AND       EURO   2022-11-13   \n",
       "\n",
       "                                       VACCINES_USED  \\\n",
       "0  AstraZeneca - Vaxzevria,Beijing CNBG - BBIBP-C...   \n",
       "1  AstraZeneca - Vaxzevria,Gamaleya - Gam-Covid-V...   \n",
       "2  Beijing CNBG - BBIBP-CorV,Gamaleya - Gam-Covid...   \n",
       "3  Janssen - Ad26.COV 2-S,Moderna - Spikevax,Pfiz...   \n",
       "4  AstraZeneca - Vaxzevria,Moderna - Spikevax,Pfi...   \n",
       "\n",
       "   NUMBER_VACCINES_TYPES_USED  \\\n",
       "0                        11.0   \n",
       "1                         5.0   \n",
       "2                         4.0   \n",
       "3                         3.0   \n",
       "4                         3.0   \n",
       "\n",
       "   Protection against ORIGINAL Var- SEVERE, % average  \\\n",
       "0                                               83.0    \n",
       "1                                               85.0    \n",
       "2                                               77.0    \n",
       "3                                               93.0    \n",
       "4                                               95.0    \n",
       "\n",
       "   Protection against ORIGINAL Var- INFECTION, % average  \\\n",
       "0                                               73.0       \n",
       "1                                               69.0       \n",
       "2                                               66.0       \n",
       "3                                               83.0       \n",
       "4                                               80.0       \n",
       "\n",
       "   Protection against LATEST var BA1.n SEVERE, % average  \\\n",
       "0                                               61.0       \n",
       "1                                               64.0       \n",
       "2                                               57.0       \n",
       "3                                               67.0       \n",
       "4                                               72.0       \n",
       "\n",
       "   Protection against LATEST var BA1.n INFECTION, % average  ...  \\\n",
       "0                                               38.0         ...   \n",
       "1                                               37.0         ...   \n",
       "2                                               35.0         ...   \n",
       "3                                               42.0         ...   \n",
       "4                                               43.0         ...   \n",
       "\n",
       "   % Population vaccinated  % People Protected for ORGINAL SEVERE  \\\n",
       "0                    28.41                                23.5803   \n",
       "1                    47.31                                40.2135   \n",
       "2                    17.46                                13.4442   \n",
       "3                      NaN                                 0.0000   \n",
       "4                    72.52                                68.8940   \n",
       "\n",
       "   % People Protected for ORGINAL INFECTION  \\\n",
       "0                                   20.7393   \n",
       "1                                   32.6439   \n",
       "2                                   11.5236   \n",
       "3                                    0.0000   \n",
       "4                                   58.0160   \n",
       "\n",
       "   % People Protected for OMICRON SEVERE  \\\n",
       "0                                17.3301   \n",
       "1                                30.2784   \n",
       "2                                 9.9522   \n",
       "3                                 0.0000   \n",
       "4                                52.2144   \n",
       "\n",
       "   % People Protected for OMICRON INFECTION  \\\n",
       "0                                   10.7958   \n",
       "1                                   17.5047   \n",
       "2                                    6.1110   \n",
       "3                                    0.0000   \n",
       "4                                   31.1836   \n",
       "\n",
       "   % SUCEPTIBLE for  BREAKTHROUGH  ORGINAL SEVERE  \\\n",
       "0                                          4.8297   \n",
       "1                                          7.0965   \n",
       "2                                          4.0158   \n",
       "3                                          0.0000   \n",
       "4                                          3.6260   \n",
       "\n",
       "   % SUCEPTIBLE for  BREAKTHROUGH ORIGINAL  INFECTION  \\\n",
       "0                                             7.6707    \n",
       "1                                            14.6661    \n",
       "2                                             5.9364    \n",
       "3                                             0.0000    \n",
       "4                                            14.5040    \n",
       "\n",
       "   % SUCEPTIBLE for  BREAKTHROUGH OMICRON SEVERE  \\\n",
       "0                                        11.0799   \n",
       "1                                        17.0316   \n",
       "2                                         7.5078   \n",
       "3                                         0.0000   \n",
       "4                                        20.3056   \n",
       "\n",
       "   % SUCEPTIBLE for  BREAKTHROUGH OMICRON INFECTION  \\\n",
       "0                                           17.6142   \n",
       "1                                           29.8053   \n",
       "2                                           11.3490   \n",
       "3                                            0.0000   \n",
       "4                                           41.3364   \n",
       "\n",
       "   % Population NOT VACCINATED  \n",
       "0                        71.59  \n",
       "1                        52.69  \n",
       "2                        82.54  \n",
       "3                       100.00  \n",
       "4                        27.48  \n",
       "\n",
       "[5 rows x 22 columns]"
      ]
     },
     "execution_count": 4,
     "metadata": {},
     "output_type": "execute_result"
    }
   ],
   "source": [
    "cv_df.head()"
   ]
  },
  {
   "cell_type": "code",
   "execution_count": 5,
   "id": "89be1a7f",
   "metadata": {
    "extensions": {
     "jupyter_dashboards": {
      "version": 1,
      "views": {
       "grid_default": {},
       "report_default": {
        "hidden": false
       }
      }
     }
    }
   },
   "outputs": [],
   "source": [
    "# Null values are dropped\n",
    "# cv_df.isnull().sum()\n",
    "cv_df = cv_df.dropna()\n",
    "# cv_df.isnull().sum()"
   ]
  },
  {
   "cell_type": "code",
   "execution_count": 6,
   "id": "98208d92",
   "metadata": {
    "extensions": {
     "jupyter_dashboards": {
      "version": 1,
      "views": {
       "grid_default": {},
       "report_default": {
        "hidden": true
       }
      }
     }
    }
   },
   "outputs": [],
   "source": [
    "# Get a list of all unique vaccines used in the world\n",
    "all_vaccines = cv_df['VACCINES_USED'].str.split(',').tolist()\n",
    "l = []\n",
    "for i in all_vaccines:\n",
    "    for j in i:\n",
    "        if '-' in j:\n",
    "            l.append(j.split('-')[0])\n",
    "        else:\n",
    "            l.append(j.split()[0])\n",
    "vaccines_list = list(set([vaccine.strip() for vaccine in l]))\n",
    "vaccines_list.sort()"
   ]
  },
  {
   "cell_type": "markdown",
   "id": "8d46c779",
   "metadata": {
    "extensions": {
     "jupyter_dashboards": {
      "version": 1,
      "views": {
       "grid_default": {},
       "report_default": {
        "hidden": false
       }
      }
     }
    }
   },
   "source": [
    "# A World Map with the distribution of vaccines around the world based on vaccine types"
   ]
  },
  {
   "cell_type": "code",
   "execution_count": 7,
   "id": "9c9de830",
   "metadata": {
    "extensions": {
     "jupyter_dashboards": {
      "version": 1,
      "views": {
       "grid_default": {},
       "report_default": {
        "hidden": false
       }
      }
     }
    }
   },
   "outputs": [
    {
     "data": {
      "application/vnd.jupyter.widget-view+json": {
       "model_id": "cc7c87fad9414880853ee2fd8d7828a2",
       "version_major": 2,
       "version_minor": 0
      },
      "text/plain": [
       "interactive(children=(Dropdown(description='Vaccine:', layout=Layout(width='300px'), options=('Anhui ZL', 'Ast…"
      ]
     },
     "metadata": {},
     "output_type": "display_data"
    },
    {
     "data": {
      "text/plain": [
       "<function __main__.chlo(vaccine)>"
      ]
     },
     "execution_count": 7,
     "metadata": {},
     "output_type": "execute_result"
    }
   ],
   "source": [
    "# do a world map to find distribution of vaccines around the world based on vaccine types\n",
    "def chlo(vaccine):\n",
    "    vaccine_df = cv_df[cv_df['VACCINES_USED'].str.contains(vaccine)] \n",
    "    fig1 = px.choropleth(vaccine_df,\n",
    "                        locations='ISO3',\n",
    "                        hover_name='COUNTRY',\n",
    "                        hover_data={'COUNTRY': True, 'NUMBER_VACCINES_TYPES_USED': True,},\n",
    "                        labels={'VACCINES_USED': 'Vaccines Used'},\n",
    "                        title=f\"Countries using {vaccine}\"\n",
    "                       )\n",
    "    fig1.show()\n",
    "\n",
    "# Create a dropdown widget from the vaccine list\n",
    "vaccine_dropdown = widgets.Dropdown(options=vaccines_list,\n",
    "                                    description='Vaccine:', \n",
    "                                    layout={'width': '300px'})\n",
    "\n",
    "# Attach the chlo function to the dropdown widget\n",
    "widgets.interact(chlo, vaccine=vaccine_dropdown)"
   ]
  },
  {
   "cell_type": "markdown",
   "id": "cf3788a0",
   "metadata": {
    "extensions": {
     "jupyter_dashboards": {
      "version": 1,
      "views": {
       "grid_default": {},
       "report_default": {
        "hidden": false
       }
      }
     }
    }
   },
   "source": [
    "# Bar Chart of List of Vaccines Distributed Around the World"
   ]
  },
  {
   "cell_type": "code",
   "execution_count": 8,
   "id": "fd498a4f",
   "metadata": {
    "extensions": {
     "jupyter_dashboards": {
      "version": 1,
      "views": {
       "grid_default": {},
       "report_default": {
        "hidden": false
       }
      }
     }
    }
   },
   "outputs": [
    {
     "data": {
      "application/vnd.plotly.v1+json": {
       "config": {
        "plotlyServerURL": "https://plot.ly"
       },
       "data": [
        {
         "name": "Vaccine Distribution Count",
         "type": "bar",
         "x": [
          "Anhui ZL",
          "AstraZeneca",
          "Beijing CNBG",
          "Bharat",
          "Biological E",
          "CIGB",
          "CanSino",
          "Chumakov",
          "Finlay",
          "Gamaleya",
          "IMB",
          "Janssen",
          "Julphar",
          "Moderna",
          "Moderna â€“ Spikevax Bivalent Original/Omicron",
          "Novavax",
          "Pfizer BioNTech",
          "Pfizer/BioNTech",
          "RIBSP",
          "SII",
          "SRCVB",
          "Shenzhen",
          "Shifa",
          "Sinovac",
          "Turkovac",
          "Unknown",
          "Valneva",
          "Wuhan CNBG",
          "Zydus"
         ],
         "y": [
          3,
          144,
          99,
          33,
          1,
          4,
          28,
          1,
          6,
          101,
          1,
          114,
          3,
          128,
          7,
          29,
          179,
          1,
          3,
          93,
          2,
          1,
          1,
          64,
          1,
          15,
          2,
          3,
          1
         ]
        }
       ],
       "layout": {
        "legend": {
         "title": {
          "text": "Vaccine Lists"
         }
        },
        "template": {
         "data": {
          "bar": [
           {
            "error_x": {
             "color": "#2a3f5f"
            },
            "error_y": {
             "color": "#2a3f5f"
            },
            "marker": {
             "line": {
              "color": "#E5ECF6",
              "width": 0.5
             },
             "pattern": {
              "fillmode": "overlay",
              "size": 10,
              "solidity": 0.2
             }
            },
            "type": "bar"
           }
          ],
          "barpolar": [
           {
            "marker": {
             "line": {
              "color": "#E5ECF6",
              "width": 0.5
             },
             "pattern": {
              "fillmode": "overlay",
              "size": 10,
              "solidity": 0.2
             }
            },
            "type": "barpolar"
           }
          ],
          "carpet": [
           {
            "aaxis": {
             "endlinecolor": "#2a3f5f",
             "gridcolor": "white",
             "linecolor": "white",
             "minorgridcolor": "white",
             "startlinecolor": "#2a3f5f"
            },
            "baxis": {
             "endlinecolor": "#2a3f5f",
             "gridcolor": "white",
             "linecolor": "white",
             "minorgridcolor": "white",
             "startlinecolor": "#2a3f5f"
            },
            "type": "carpet"
           }
          ],
          "choropleth": [
           {
            "colorbar": {
             "outlinewidth": 0,
             "ticks": ""
            },
            "type": "choropleth"
           }
          ],
          "contour": [
           {
            "colorbar": {
             "outlinewidth": 0,
             "ticks": ""
            },
            "colorscale": [
             [
              0,
              "#0d0887"
             ],
             [
              0.1111111111111111,
              "#46039f"
             ],
             [
              0.2222222222222222,
              "#7201a8"
             ],
             [
              0.3333333333333333,
              "#9c179e"
             ],
             [
              0.4444444444444444,
              "#bd3786"
             ],
             [
              0.5555555555555556,
              "#d8576b"
             ],
             [
              0.6666666666666666,
              "#ed7953"
             ],
             [
              0.7777777777777778,
              "#fb9f3a"
             ],
             [
              0.8888888888888888,
              "#fdca26"
             ],
             [
              1,
              "#f0f921"
             ]
            ],
            "type": "contour"
           }
          ],
          "contourcarpet": [
           {
            "colorbar": {
             "outlinewidth": 0,
             "ticks": ""
            },
            "type": "contourcarpet"
           }
          ],
          "heatmap": [
           {
            "colorbar": {
             "outlinewidth": 0,
             "ticks": ""
            },
            "colorscale": [
             [
              0,
              "#0d0887"
             ],
             [
              0.1111111111111111,
              "#46039f"
             ],
             [
              0.2222222222222222,
              "#7201a8"
             ],
             [
              0.3333333333333333,
              "#9c179e"
             ],
             [
              0.4444444444444444,
              "#bd3786"
             ],
             [
              0.5555555555555556,
              "#d8576b"
             ],
             [
              0.6666666666666666,
              "#ed7953"
             ],
             [
              0.7777777777777778,
              "#fb9f3a"
             ],
             [
              0.8888888888888888,
              "#fdca26"
             ],
             [
              1,
              "#f0f921"
             ]
            ],
            "type": "heatmap"
           }
          ],
          "heatmapgl": [
           {
            "colorbar": {
             "outlinewidth": 0,
             "ticks": ""
            },
            "colorscale": [
             [
              0,
              "#0d0887"
             ],
             [
              0.1111111111111111,
              "#46039f"
             ],
             [
              0.2222222222222222,
              "#7201a8"
             ],
             [
              0.3333333333333333,
              "#9c179e"
             ],
             [
              0.4444444444444444,
              "#bd3786"
             ],
             [
              0.5555555555555556,
              "#d8576b"
             ],
             [
              0.6666666666666666,
              "#ed7953"
             ],
             [
              0.7777777777777778,
              "#fb9f3a"
             ],
             [
              0.8888888888888888,
              "#fdca26"
             ],
             [
              1,
              "#f0f921"
             ]
            ],
            "type": "heatmapgl"
           }
          ],
          "histogram": [
           {
            "marker": {
             "pattern": {
              "fillmode": "overlay",
              "size": 10,
              "solidity": 0.2
             }
            },
            "type": "histogram"
           }
          ],
          "histogram2d": [
           {
            "colorbar": {
             "outlinewidth": 0,
             "ticks": ""
            },
            "colorscale": [
             [
              0,
              "#0d0887"
             ],
             [
              0.1111111111111111,
              "#46039f"
             ],
             [
              0.2222222222222222,
              "#7201a8"
             ],
             [
              0.3333333333333333,
              "#9c179e"
             ],
             [
              0.4444444444444444,
              "#bd3786"
             ],
             [
              0.5555555555555556,
              "#d8576b"
             ],
             [
              0.6666666666666666,
              "#ed7953"
             ],
             [
              0.7777777777777778,
              "#fb9f3a"
             ],
             [
              0.8888888888888888,
              "#fdca26"
             ],
             [
              1,
              "#f0f921"
             ]
            ],
            "type": "histogram2d"
           }
          ],
          "histogram2dcontour": [
           {
            "colorbar": {
             "outlinewidth": 0,
             "ticks": ""
            },
            "colorscale": [
             [
              0,
              "#0d0887"
             ],
             [
              0.1111111111111111,
              "#46039f"
             ],
             [
              0.2222222222222222,
              "#7201a8"
             ],
             [
              0.3333333333333333,
              "#9c179e"
             ],
             [
              0.4444444444444444,
              "#bd3786"
             ],
             [
              0.5555555555555556,
              "#d8576b"
             ],
             [
              0.6666666666666666,
              "#ed7953"
             ],
             [
              0.7777777777777778,
              "#fb9f3a"
             ],
             [
              0.8888888888888888,
              "#fdca26"
             ],
             [
              1,
              "#f0f921"
             ]
            ],
            "type": "histogram2dcontour"
           }
          ],
          "mesh3d": [
           {
            "colorbar": {
             "outlinewidth": 0,
             "ticks": ""
            },
            "type": "mesh3d"
           }
          ],
          "parcoords": [
           {
            "line": {
             "colorbar": {
              "outlinewidth": 0,
              "ticks": ""
             }
            },
            "type": "parcoords"
           }
          ],
          "pie": [
           {
            "automargin": true,
            "type": "pie"
           }
          ],
          "scatter": [
           {
            "fillpattern": {
             "fillmode": "overlay",
             "size": 10,
             "solidity": 0.2
            },
            "type": "scatter"
           }
          ],
          "scatter3d": [
           {
            "line": {
             "colorbar": {
              "outlinewidth": 0,
              "ticks": ""
             }
            },
            "marker": {
             "colorbar": {
              "outlinewidth": 0,
              "ticks": ""
             }
            },
            "type": "scatter3d"
           }
          ],
          "scattercarpet": [
           {
            "marker": {
             "colorbar": {
              "outlinewidth": 0,
              "ticks": ""
             }
            },
            "type": "scattercarpet"
           }
          ],
          "scattergeo": [
           {
            "marker": {
             "colorbar": {
              "outlinewidth": 0,
              "ticks": ""
             }
            },
            "type": "scattergeo"
           }
          ],
          "scattergl": [
           {
            "marker": {
             "colorbar": {
              "outlinewidth": 0,
              "ticks": ""
             }
            },
            "type": "scattergl"
           }
          ],
          "scattermapbox": [
           {
            "marker": {
             "colorbar": {
              "outlinewidth": 0,
              "ticks": ""
             }
            },
            "type": "scattermapbox"
           }
          ],
          "scatterpolar": [
           {
            "marker": {
             "colorbar": {
              "outlinewidth": 0,
              "ticks": ""
             }
            },
            "type": "scatterpolar"
           }
          ],
          "scatterpolargl": [
           {
            "marker": {
             "colorbar": {
              "outlinewidth": 0,
              "ticks": ""
             }
            },
            "type": "scatterpolargl"
           }
          ],
          "scatterternary": [
           {
            "marker": {
             "colorbar": {
              "outlinewidth": 0,
              "ticks": ""
             }
            },
            "type": "scatterternary"
           }
          ],
          "surface": [
           {
            "colorbar": {
             "outlinewidth": 0,
             "ticks": ""
            },
            "colorscale": [
             [
              0,
              "#0d0887"
             ],
             [
              0.1111111111111111,
              "#46039f"
             ],
             [
              0.2222222222222222,
              "#7201a8"
             ],
             [
              0.3333333333333333,
              "#9c179e"
             ],
             [
              0.4444444444444444,
              "#bd3786"
             ],
             [
              0.5555555555555556,
              "#d8576b"
             ],
             [
              0.6666666666666666,
              "#ed7953"
             ],
             [
              0.7777777777777778,
              "#fb9f3a"
             ],
             [
              0.8888888888888888,
              "#fdca26"
             ],
             [
              1,
              "#f0f921"
             ]
            ],
            "type": "surface"
           }
          ],
          "table": [
           {
            "cells": {
             "fill": {
              "color": "#EBF0F8"
             },
             "line": {
              "color": "white"
             }
            },
            "header": {
             "fill": {
              "color": "#C8D4E3"
             },
             "line": {
              "color": "white"
             }
            },
            "type": "table"
           }
          ]
         },
         "layout": {
          "annotationdefaults": {
           "arrowcolor": "#2a3f5f",
           "arrowhead": 0,
           "arrowwidth": 1
          },
          "autotypenumbers": "strict",
          "coloraxis": {
           "colorbar": {
            "outlinewidth": 0,
            "ticks": ""
           }
          },
          "colorscale": {
           "diverging": [
            [
             0,
             "#8e0152"
            ],
            [
             0.1,
             "#c51b7d"
            ],
            [
             0.2,
             "#de77ae"
            ],
            [
             0.3,
             "#f1b6da"
            ],
            [
             0.4,
             "#fde0ef"
            ],
            [
             0.5,
             "#f7f7f7"
            ],
            [
             0.6,
             "#e6f5d0"
            ],
            [
             0.7,
             "#b8e186"
            ],
            [
             0.8,
             "#7fbc41"
            ],
            [
             0.9,
             "#4d9221"
            ],
            [
             1,
             "#276419"
            ]
           ],
           "sequential": [
            [
             0,
             "#0d0887"
            ],
            [
             0.1111111111111111,
             "#46039f"
            ],
            [
             0.2222222222222222,
             "#7201a8"
            ],
            [
             0.3333333333333333,
             "#9c179e"
            ],
            [
             0.4444444444444444,
             "#bd3786"
            ],
            [
             0.5555555555555556,
             "#d8576b"
            ],
            [
             0.6666666666666666,
             "#ed7953"
            ],
            [
             0.7777777777777778,
             "#fb9f3a"
            ],
            [
             0.8888888888888888,
             "#fdca26"
            ],
            [
             1,
             "#f0f921"
            ]
           ],
           "sequentialminus": [
            [
             0,
             "#0d0887"
            ],
            [
             0.1111111111111111,
             "#46039f"
            ],
            [
             0.2222222222222222,
             "#7201a8"
            ],
            [
             0.3333333333333333,
             "#9c179e"
            ],
            [
             0.4444444444444444,
             "#bd3786"
            ],
            [
             0.5555555555555556,
             "#d8576b"
            ],
            [
             0.6666666666666666,
             "#ed7953"
            ],
            [
             0.7777777777777778,
             "#fb9f3a"
            ],
            [
             0.8888888888888888,
             "#fdca26"
            ],
            [
             1,
             "#f0f921"
            ]
           ]
          },
          "colorway": [
           "#636efa",
           "#EF553B",
           "#00cc96",
           "#ab63fa",
           "#FFA15A",
           "#19d3f3",
           "#FF6692",
           "#B6E880",
           "#FF97FF",
           "#FECB52"
          ],
          "font": {
           "color": "#2a3f5f"
          },
          "geo": {
           "bgcolor": "white",
           "lakecolor": "white",
           "landcolor": "#E5ECF6",
           "showlakes": true,
           "showland": true,
           "subunitcolor": "white"
          },
          "hoverlabel": {
           "align": "left"
          },
          "hovermode": "closest",
          "mapbox": {
           "style": "light"
          },
          "paper_bgcolor": "white",
          "plot_bgcolor": "#E5ECF6",
          "polar": {
           "angularaxis": {
            "gridcolor": "white",
            "linecolor": "white",
            "ticks": ""
           },
           "bgcolor": "#E5ECF6",
           "radialaxis": {
            "gridcolor": "white",
            "linecolor": "white",
            "ticks": ""
           }
          },
          "scene": {
           "xaxis": {
            "backgroundcolor": "#E5ECF6",
            "gridcolor": "white",
            "gridwidth": 2,
            "linecolor": "white",
            "showbackground": true,
            "ticks": "",
            "zerolinecolor": "white"
           },
           "yaxis": {
            "backgroundcolor": "#E5ECF6",
            "gridcolor": "white",
            "gridwidth": 2,
            "linecolor": "white",
            "showbackground": true,
            "ticks": "",
            "zerolinecolor": "white"
           },
           "zaxis": {
            "backgroundcolor": "#E5ECF6",
            "gridcolor": "white",
            "gridwidth": 2,
            "linecolor": "white",
            "showbackground": true,
            "ticks": "",
            "zerolinecolor": "white"
           }
          },
          "shapedefaults": {
           "line": {
            "color": "#2a3f5f"
           }
          },
          "ternary": {
           "aaxis": {
            "gridcolor": "white",
            "linecolor": "white",
            "ticks": ""
           },
           "baxis": {
            "gridcolor": "white",
            "linecolor": "white",
            "ticks": ""
           },
           "bgcolor": "#E5ECF6",
           "caxis": {
            "gridcolor": "white",
            "linecolor": "white",
            "ticks": ""
           }
          },
          "title": {
           "x": 0.05
          },
          "xaxis": {
           "automargin": true,
           "gridcolor": "white",
           "linecolor": "white",
           "ticks": "",
           "title": {
            "standoff": 15
           },
           "zerolinecolor": "white",
           "zerolinewidth": 2
          },
          "yaxis": {
           "automargin": true,
           "gridcolor": "white",
           "linecolor": "white",
           "ticks": "",
           "title": {
            "standoff": 15
           },
           "zerolinecolor": "white",
           "zerolinewidth": 2
          }
         }
        },
        "title": {
         "text": "Vaccination Distribution"
        },
        "xaxis": {
         "title": {
          "text": "Country"
         }
        },
        "yaxis": {
         "title": {
          "text": "Number of Vaccines"
         }
        }
       }
      },
      "text/html": [
       "<div>                            <div id=\"ef19f730-e27f-42a9-aa6b-ac9099908c83\" class=\"plotly-graph-div\" style=\"height:525px; width:100%;\"></div>            <script type=\"text/javascript\">                require([\"plotly\"], function(Plotly) {                    window.PLOTLYENV=window.PLOTLYENV || {};                                    if (document.getElementById(\"ef19f730-e27f-42a9-aa6b-ac9099908c83\")) {                    Plotly.newPlot(                        \"ef19f730-e27f-42a9-aa6b-ac9099908c83\",                        [{\"name\":\"Vaccine Distribution Count\",\"x\":[\"Anhui ZL\",\"AstraZeneca\",\"Beijing CNBG\",\"Bharat\",\"Biological E\",\"CIGB\",\"CanSino\",\"Chumakov\",\"Finlay\",\"Gamaleya\",\"IMB\",\"Janssen\",\"Julphar\",\"Moderna\",\"Moderna \\u00e2\\u20ac\\u201c Spikevax Bivalent Original/Omicron\",\"Novavax\",\"Pfizer BioNTech\",\"Pfizer/BioNTech\",\"RIBSP\",\"SII\",\"SRCVB\",\"Shenzhen\",\"Shifa\",\"Sinovac\",\"Turkovac\",\"Unknown\",\"Valneva\",\"Wuhan CNBG\",\"Zydus\"],\"y\":[3,144,99,33,1,4,28,1,6,101,1,114,3,128,7,29,179,1,3,93,2,1,1,64,1,15,2,3,1],\"type\":\"bar\"}],                        {\"legend\":{\"title\":{\"text\":\"Vaccine Lists\"}},\"title\":{\"text\":\"Vaccination Distribution\"},\"xaxis\":{\"title\":{\"text\":\"Country\"}},\"yaxis\":{\"title\":{\"text\":\"Number of Vaccines\"}},\"template\":{\"data\":{\"histogram2dcontour\":[{\"type\":\"histogram2dcontour\",\"colorbar\":{\"outlinewidth\":0,\"ticks\":\"\"},\"colorscale\":[[0.0,\"#0d0887\"],[0.1111111111111111,\"#46039f\"],[0.2222222222222222,\"#7201a8\"],[0.3333333333333333,\"#9c179e\"],[0.4444444444444444,\"#bd3786\"],[0.5555555555555556,\"#d8576b\"],[0.6666666666666666,\"#ed7953\"],[0.7777777777777778,\"#fb9f3a\"],[0.8888888888888888,\"#fdca26\"],[1.0,\"#f0f921\"]]}],\"choropleth\":[{\"type\":\"choropleth\",\"colorbar\":{\"outlinewidth\":0,\"ticks\":\"\"}}],\"histogram2d\":[{\"type\":\"histogram2d\",\"colorbar\":{\"outlinewidth\":0,\"ticks\":\"\"},\"colorscale\":[[0.0,\"#0d0887\"],[0.1111111111111111,\"#46039f\"],[0.2222222222222222,\"#7201a8\"],[0.3333333333333333,\"#9c179e\"],[0.4444444444444444,\"#bd3786\"],[0.5555555555555556,\"#d8576b\"],[0.6666666666666666,\"#ed7953\"],[0.7777777777777778,\"#fb9f3a\"],[0.8888888888888888,\"#fdca26\"],[1.0,\"#f0f921\"]]}],\"heatmap\":[{\"type\":\"heatmap\",\"colorbar\":{\"outlinewidth\":0,\"ticks\":\"\"},\"colorscale\":[[0.0,\"#0d0887\"],[0.1111111111111111,\"#46039f\"],[0.2222222222222222,\"#7201a8\"],[0.3333333333333333,\"#9c179e\"],[0.4444444444444444,\"#bd3786\"],[0.5555555555555556,\"#d8576b\"],[0.6666666666666666,\"#ed7953\"],[0.7777777777777778,\"#fb9f3a\"],[0.8888888888888888,\"#fdca26\"],[1.0,\"#f0f921\"]]}],\"heatmapgl\":[{\"type\":\"heatmapgl\",\"colorbar\":{\"outlinewidth\":0,\"ticks\":\"\"},\"colorscale\":[[0.0,\"#0d0887\"],[0.1111111111111111,\"#46039f\"],[0.2222222222222222,\"#7201a8\"],[0.3333333333333333,\"#9c179e\"],[0.4444444444444444,\"#bd3786\"],[0.5555555555555556,\"#d8576b\"],[0.6666666666666666,\"#ed7953\"],[0.7777777777777778,\"#fb9f3a\"],[0.8888888888888888,\"#fdca26\"],[1.0,\"#f0f921\"]]}],\"contourcarpet\":[{\"type\":\"contourcarpet\",\"colorbar\":{\"outlinewidth\":0,\"ticks\":\"\"}}],\"contour\":[{\"type\":\"contour\",\"colorbar\":{\"outlinewidth\":0,\"ticks\":\"\"},\"colorscale\":[[0.0,\"#0d0887\"],[0.1111111111111111,\"#46039f\"],[0.2222222222222222,\"#7201a8\"],[0.3333333333333333,\"#9c179e\"],[0.4444444444444444,\"#bd3786\"],[0.5555555555555556,\"#d8576b\"],[0.6666666666666666,\"#ed7953\"],[0.7777777777777778,\"#fb9f3a\"],[0.8888888888888888,\"#fdca26\"],[1.0,\"#f0f921\"]]}],\"surface\":[{\"type\":\"surface\",\"colorbar\":{\"outlinewidth\":0,\"ticks\":\"\"},\"colorscale\":[[0.0,\"#0d0887\"],[0.1111111111111111,\"#46039f\"],[0.2222222222222222,\"#7201a8\"],[0.3333333333333333,\"#9c179e\"],[0.4444444444444444,\"#bd3786\"],[0.5555555555555556,\"#d8576b\"],[0.6666666666666666,\"#ed7953\"],[0.7777777777777778,\"#fb9f3a\"],[0.8888888888888888,\"#fdca26\"],[1.0,\"#f0f921\"]]}],\"mesh3d\":[{\"type\":\"mesh3d\",\"colorbar\":{\"outlinewidth\":0,\"ticks\":\"\"}}],\"scatter\":[{\"fillpattern\":{\"fillmode\":\"overlay\",\"size\":10,\"solidity\":0.2},\"type\":\"scatter\"}],\"parcoords\":[{\"type\":\"parcoords\",\"line\":{\"colorbar\":{\"outlinewidth\":0,\"ticks\":\"\"}}}],\"scatterpolargl\":[{\"type\":\"scatterpolargl\",\"marker\":{\"colorbar\":{\"outlinewidth\":0,\"ticks\":\"\"}}}],\"bar\":[{\"error_x\":{\"color\":\"#2a3f5f\"},\"error_y\":{\"color\":\"#2a3f5f\"},\"marker\":{\"line\":{\"color\":\"#E5ECF6\",\"width\":0.5},\"pattern\":{\"fillmode\":\"overlay\",\"size\":10,\"solidity\":0.2}},\"type\":\"bar\"}],\"scattergeo\":[{\"type\":\"scattergeo\",\"marker\":{\"colorbar\":{\"outlinewidth\":0,\"ticks\":\"\"}}}],\"scatterpolar\":[{\"type\":\"scatterpolar\",\"marker\":{\"colorbar\":{\"outlinewidth\":0,\"ticks\":\"\"}}}],\"histogram\":[{\"marker\":{\"pattern\":{\"fillmode\":\"overlay\",\"size\":10,\"solidity\":0.2}},\"type\":\"histogram\"}],\"scattergl\":[{\"type\":\"scattergl\",\"marker\":{\"colorbar\":{\"outlinewidth\":0,\"ticks\":\"\"}}}],\"scatter3d\":[{\"type\":\"scatter3d\",\"line\":{\"colorbar\":{\"outlinewidth\":0,\"ticks\":\"\"}},\"marker\":{\"colorbar\":{\"outlinewidth\":0,\"ticks\":\"\"}}}],\"scattermapbox\":[{\"type\":\"scattermapbox\",\"marker\":{\"colorbar\":{\"outlinewidth\":0,\"ticks\":\"\"}}}],\"scatterternary\":[{\"type\":\"scatterternary\",\"marker\":{\"colorbar\":{\"outlinewidth\":0,\"ticks\":\"\"}}}],\"scattercarpet\":[{\"type\":\"scattercarpet\",\"marker\":{\"colorbar\":{\"outlinewidth\":0,\"ticks\":\"\"}}}],\"carpet\":[{\"aaxis\":{\"endlinecolor\":\"#2a3f5f\",\"gridcolor\":\"white\",\"linecolor\":\"white\",\"minorgridcolor\":\"white\",\"startlinecolor\":\"#2a3f5f\"},\"baxis\":{\"endlinecolor\":\"#2a3f5f\",\"gridcolor\":\"white\",\"linecolor\":\"white\",\"minorgridcolor\":\"white\",\"startlinecolor\":\"#2a3f5f\"},\"type\":\"carpet\"}],\"table\":[{\"cells\":{\"fill\":{\"color\":\"#EBF0F8\"},\"line\":{\"color\":\"white\"}},\"header\":{\"fill\":{\"color\":\"#C8D4E3\"},\"line\":{\"color\":\"white\"}},\"type\":\"table\"}],\"barpolar\":[{\"marker\":{\"line\":{\"color\":\"#E5ECF6\",\"width\":0.5},\"pattern\":{\"fillmode\":\"overlay\",\"size\":10,\"solidity\":0.2}},\"type\":\"barpolar\"}],\"pie\":[{\"automargin\":true,\"type\":\"pie\"}]},\"layout\":{\"autotypenumbers\":\"strict\",\"colorway\":[\"#636efa\",\"#EF553B\",\"#00cc96\",\"#ab63fa\",\"#FFA15A\",\"#19d3f3\",\"#FF6692\",\"#B6E880\",\"#FF97FF\",\"#FECB52\"],\"font\":{\"color\":\"#2a3f5f\"},\"hovermode\":\"closest\",\"hoverlabel\":{\"align\":\"left\"},\"paper_bgcolor\":\"white\",\"plot_bgcolor\":\"#E5ECF6\",\"polar\":{\"bgcolor\":\"#E5ECF6\",\"angularaxis\":{\"gridcolor\":\"white\",\"linecolor\":\"white\",\"ticks\":\"\"},\"radialaxis\":{\"gridcolor\":\"white\",\"linecolor\":\"white\",\"ticks\":\"\"}},\"ternary\":{\"bgcolor\":\"#E5ECF6\",\"aaxis\":{\"gridcolor\":\"white\",\"linecolor\":\"white\",\"ticks\":\"\"},\"baxis\":{\"gridcolor\":\"white\",\"linecolor\":\"white\",\"ticks\":\"\"},\"caxis\":{\"gridcolor\":\"white\",\"linecolor\":\"white\",\"ticks\":\"\"}},\"coloraxis\":{\"colorbar\":{\"outlinewidth\":0,\"ticks\":\"\"}},\"colorscale\":{\"sequential\":[[0.0,\"#0d0887\"],[0.1111111111111111,\"#46039f\"],[0.2222222222222222,\"#7201a8\"],[0.3333333333333333,\"#9c179e\"],[0.4444444444444444,\"#bd3786\"],[0.5555555555555556,\"#d8576b\"],[0.6666666666666666,\"#ed7953\"],[0.7777777777777778,\"#fb9f3a\"],[0.8888888888888888,\"#fdca26\"],[1.0,\"#f0f921\"]],\"sequentialminus\":[[0.0,\"#0d0887\"],[0.1111111111111111,\"#46039f\"],[0.2222222222222222,\"#7201a8\"],[0.3333333333333333,\"#9c179e\"],[0.4444444444444444,\"#bd3786\"],[0.5555555555555556,\"#d8576b\"],[0.6666666666666666,\"#ed7953\"],[0.7777777777777778,\"#fb9f3a\"],[0.8888888888888888,\"#fdca26\"],[1.0,\"#f0f921\"]],\"diverging\":[[0,\"#8e0152\"],[0.1,\"#c51b7d\"],[0.2,\"#de77ae\"],[0.3,\"#f1b6da\"],[0.4,\"#fde0ef\"],[0.5,\"#f7f7f7\"],[0.6,\"#e6f5d0\"],[0.7,\"#b8e186\"],[0.8,\"#7fbc41\"],[0.9,\"#4d9221\"],[1,\"#276419\"]]},\"xaxis\":{\"gridcolor\":\"white\",\"linecolor\":\"white\",\"ticks\":\"\",\"title\":{\"standoff\":15},\"zerolinecolor\":\"white\",\"automargin\":true,\"zerolinewidth\":2},\"yaxis\":{\"gridcolor\":\"white\",\"linecolor\":\"white\",\"ticks\":\"\",\"title\":{\"standoff\":15},\"zerolinecolor\":\"white\",\"automargin\":true,\"zerolinewidth\":2},\"scene\":{\"xaxis\":{\"backgroundcolor\":\"#E5ECF6\",\"gridcolor\":\"white\",\"linecolor\":\"white\",\"showbackground\":true,\"ticks\":\"\",\"zerolinecolor\":\"white\",\"gridwidth\":2},\"yaxis\":{\"backgroundcolor\":\"#E5ECF6\",\"gridcolor\":\"white\",\"linecolor\":\"white\",\"showbackground\":true,\"ticks\":\"\",\"zerolinecolor\":\"white\",\"gridwidth\":2},\"zaxis\":{\"backgroundcolor\":\"#E5ECF6\",\"gridcolor\":\"white\",\"linecolor\":\"white\",\"showbackground\":true,\"ticks\":\"\",\"zerolinecolor\":\"white\",\"gridwidth\":2}},\"shapedefaults\":{\"line\":{\"color\":\"#2a3f5f\"}},\"annotationdefaults\":{\"arrowcolor\":\"#2a3f5f\",\"arrowhead\":0,\"arrowwidth\":1},\"geo\":{\"bgcolor\":\"white\",\"landcolor\":\"#E5ECF6\",\"subunitcolor\":\"white\",\"showland\":true,\"showlakes\":true,\"lakecolor\":\"white\"},\"title\":{\"x\":0.05},\"mapbox\":{\"style\":\"light\"}}}},                        {\"responsive\": true}                    ).then(function(){\n",
       "                            \n",
       "var gd = document.getElementById('ef19f730-e27f-42a9-aa6b-ac9099908c83');\n",
       "var x = new MutationObserver(function (mutations, observer) {{\n",
       "        var display = window.getComputedStyle(gd).display;\n",
       "        if (!display || display === 'none') {{\n",
       "            console.log([gd, 'removed!']);\n",
       "            Plotly.purge(gd);\n",
       "            observer.disconnect();\n",
       "        }}\n",
       "}});\n",
       "\n",
       "// Listen for the removal of the full notebook cells\n",
       "var notebookContainer = gd.closest('#notebook-container');\n",
       "if (notebookContainer) {{\n",
       "    x.observe(notebookContainer, {childList: true});\n",
       "}}\n",
       "\n",
       "// Listen for the clearing of the current output cell\n",
       "var outputEl = gd.closest('.output');\n",
       "if (outputEl) {{\n",
       "    x.observe(outputEl, {childList: true});\n",
       "}}\n",
       "\n",
       "                        })                };                });            </script>        </div>"
      ]
     },
     "metadata": {},
     "output_type": "display_data"
    }
   ],
   "source": [
    "# store the vaccine counts for unique vaccines around the world\n",
    "vaccine_counts = {}\n",
    "for vaccine in vaccines_list:\n",
    "    vaccine_counts[vaccine] = 0\n",
    "\n",
    "# Loop through the rows of the dataframe\n",
    "for vaccines in all_vaccines:\n",
    "    # Loop through the vaccines used by each country\n",
    "    for vaccine in vaccines:\n",
    "        # Loop through each vaccine in the vaccines_list \n",
    "        for vac in vaccines_list:\n",
    "            # check if it is in the list of vaccines used by the country\n",
    "            if vac in vaccine:\n",
    "                # if the vaccine is in the list, then increment the count and store it in dictionary\n",
    "                vaccine_counts[vac] += 1\n",
    "\n",
    "name = list(vaccine_counts.keys())\n",
    "number = list(vaccine_counts.values())\n",
    "\n",
    "# bar chart for the dictionary of vaccines and the number of the vaccines\n",
    "dat_vac = go.Bar(\n",
    "    x = name,\n",
    "    y = number,\n",
    "    name = \"Vaccine Distribution Count\"\n",
    ")\n",
    "layout_vac = go.Layout(title = 'Vaccination Distribution', legend_title='Vaccine Lists', xaxis_title='Country', yaxis_title='Number of Vaccines')\n",
    "fig_vac = go.Figure(data = dat_vac, layout = layout_vac)\n",
    "\n",
    "fig_vac.show()"
   ]
  },
  {
   "cell_type": "markdown",
   "id": "0e43a373",
   "metadata": {
    "extensions": {
     "jupyter_dashboards": {
      "version": 1,
      "views": {
       "grid_default": {},
       "report_default": {
        "hidden": false
       }
      }
     }
    }
   },
   "source": [
    "# Scatter Plot of the information of the Columns of Excel Sheet Such as % Vaccinated, % Protected from virus, etc when you hover"
   ]
  },
  {
   "cell_type": "code",
   "execution_count": 9,
   "id": "a9706b89",
   "metadata": {
    "extensions": {
     "jupyter_dashboards": {
      "version": 1,
      "views": {
       "grid_default": {},
       "report_default": {
        "hidden": false
       }
      }
     }
    }
   },
   "outputs": [
    {
     "data": {
      "application/vnd.jupyter.widget-view+json": {
       "model_id": "71dbe74d6e094de2a80077ca75c8eed5",
       "version_major": 2,
       "version_minor": 0
      },
      "text/plain": [
       "interactive(children=(Dropdown(description='Columns:', layout=Layout(width='300px'), options=('NUMBER_VACCINES…"
      ]
     },
     "metadata": {},
     "output_type": "display_data"
    },
    {
     "data": {
      "text/plain": [
       "<function __main__.sca6(col)>"
      ]
     },
     "execution_count": 9,
     "metadata": {},
     "output_type": "execute_result"
    }
   ],
   "source": [
    "def sca6(col):\n",
    "    fig1 = px.scatter_geo(cv_df,\n",
    "                        locations='ISO3',\n",
    "                        color='WHO_REGION',\n",
    "                        hover_name='COUNTRY',\n",
    "                        hover_data=[col],\n",
    "    )\n",
    "    display(fig1)\n",
    "SELECT_COLUMN = widgets.Dropdown(options=list(cv_df.columns[5:22]), value=cv_df.columns[5], \n",
    "                                 description='Columns:', layout={'width': '300px'})\n",
    "\n",
    "# Attach the scatter_geo plot function to the dropdown widget\n",
    "widgets.interact(sca6, col=SELECT_COLUMN)"
   ]
  },
  {
   "cell_type": "markdown",
   "id": "1deac28e",
   "metadata": {
    "extensions": {
     "jupyter_dashboards": {
      "version": 1,
      "views": {
       "grid_default": {},
       "report_default": {
        "hidden": false
       }
      }
     }
    }
   },
   "source": [
    "# Countries in WHO_REGION are Less so Decided to Compare based on Continent"
   ]
  },
  {
   "cell_type": "code",
   "execution_count": 10,
   "id": "65267091",
   "metadata": {
    "extensions": {
     "jupyter_dashboards": {
      "version": 1,
      "views": {
       "grid_default": {},
       "report_default": {
        "hidden": false
       }
      }
     }
    }
   },
   "outputs": [
    {
     "name": "stdout",
     "output_type": "stream",
     "text": [
      "WHO_REGION\n",
      "AFRO     47\n",
      "AMRO     48\n",
      "EMRO     22\n",
      "EURO     60\n",
      "OTHER     1\n",
      "SEARO    10\n",
      "WPRO     29\n",
      "Name: COUNTRY, dtype: int64\n"
     ]
    }
   ],
   "source": [
    "# I was planning to use who_region to find more information on people vaccinated, etc however there are less countries on some region\n",
    "# and only 1 on other so I decided to use continents to find more information\n",
    "who_region = cv_df.groupby('WHO_REGION')['COUNTRY'].nunique()\n",
    "print(who_region)"
   ]
  },
  {
   "cell_type": "code",
   "execution_count": 11,
   "id": "3d57dedf",
   "metadata": {
    "extensions": {
     "jupyter_dashboards": {
      "version": 1,
      "views": {
       "grid_default": {},
       "report_default": {
        "hidden": false
       }
      }
     }
    }
   },
   "outputs": [],
   "source": [
    "# To add column on continents I decided to use py_country to find continents based on country iso3 code however the way some countries are\n",
    "# named does not seem to work so I decided to correct the information on the countries on specific index\n",
    "row_updates = {24: \"Bolivia\", 49: \"Ivory Coast\", 52: 'Curaçao', 97: 'Iran', 154: 'Palestine', 168: 'South Korea', 204: 'United Kingdom', 223: 'Venezuela'}\n",
    "for i, country in row_updates.items():\n",
    "    cv_df.loc[i, 'COUNTRY'] = country"
   ]
  },
  {
   "cell_type": "code",
   "execution_count": 12,
   "id": "0ceb7f1f",
   "metadata": {
    "extensions": {
     "jupyter_dashboards": {
      "version": 1,
      "views": {
       "grid_default": {},
       "report_default": {
        "hidden": false
       }
      }
     }
    }
   },
   "outputs": [],
   "source": [
    "# copy the data information because I will be changing the countries\n",
    "df_new = cv_df.copy()"
   ]
  },
  {
   "cell_type": "code",
   "execution_count": 13,
   "id": "441b5d41",
   "metadata": {
    "extensions": {
     "jupyter_dashboards": {
      "version": 1,
      "views": {
       "grid_default": {},
       "report_default": {
        "hidden": false
       }
      }
     }
    }
   },
   "outputs": [],
   "source": [
    "# df_new.head()"
   ]
  },
  {
   "cell_type": "code",
   "execution_count": 14,
   "id": "af5514c3",
   "metadata": {
    "extensions": {
     "jupyter_dashboards": {
      "version": 1,
      "views": {
       "grid_default": {},
       "report_default": {
        "hidden": false
       }
      }
     }
    }
   },
   "outputs": [],
   "source": [
    "# Define a function to get the continent based on ISO3 code\n",
    "def convert(country):\n",
    "    code = pc.country_name_to_country_alpha2(country.COUNTRY, cn_name_format = 'default')\n",
    "    conti = pc.country_alpha2_to_continent_code(code)\n",
    "    return conti\n",
    "# Remove the continents that cannot be found on ISO3 code \n",
    "count_remove = ['Kosovo', 'Pitcairn Islands', 'Sint Maarten', 'Timor-Leste']\n",
    "for country in count_remove:\n",
    "    df_new = df_new[df_new['COUNTRY'] != country]\n",
    "# Create a new column and apply the continents in that column\n",
    "df_new['Continent'] = df_new.apply(convert, axis=1)\n"
   ]
  },
  {
   "cell_type": "code",
   "execution_count": 15,
   "id": "e0e7e7a9",
   "metadata": {
    "extensions": {
     "jupyter_dashboards": {
      "version": 1,
      "views": {
       "grid_default": {},
       "report_default": {
        "hidden": false
       }
      }
     }
    }
   },
   "outputs": [],
   "source": [
    "# df_new.head()"
   ]
  },
  {
   "cell_type": "code",
   "execution_count": 16,
   "id": "5b5f7b80",
   "metadata": {
    "extensions": {
     "jupyter_dashboards": {
      "version": 1,
      "views": {
       "grid_default": {},
       "report_default": {
        "hidden": false
       }
      }
     }
    }
   },
   "outputs": [],
   "source": [
    "# since they are abbreviated change it to the full continent name\n",
    "conti = {\"AS\": \"Asia\", \"SA\": \"South America\", \"NA\": \"North America\", \"OC\": \"Oceania\", \"EU\": \"Europe\", \"AF\": \"Africa\"}\n",
    "df_new[\"Continent\"] = df_new[\"Continent\"].map(conti)"
   ]
  },
  {
   "cell_type": "markdown",
   "id": "67ed0eeb",
   "metadata": {
    "extensions": {
     "jupyter_dashboards": {
      "version": 1,
      "views": {
       "grid_default": {},
       "report_default": {
        "hidden": false
       }
      }
     }
    }
   },
   "source": [
    "# This is the Dataset that has the Continent Column for Better Comparison"
   ]
  },
  {
   "cell_type": "code",
   "execution_count": 17,
   "id": "02afa678",
   "metadata": {
    "extensions": {
     "jupyter_dashboards": {
      "version": 1,
      "views": {
       "grid_default": {},
       "report_default": {
        "hidden": false
       }
      }
     }
    }
   },
   "outputs": [
    {
     "data": {
      "text/html": [
       "<div>\n",
       "<style scoped>\n",
       "    .dataframe tbody tr th:only-of-type {\n",
       "        vertical-align: middle;\n",
       "    }\n",
       "\n",
       "    .dataframe tbody tr th {\n",
       "        vertical-align: top;\n",
       "    }\n",
       "\n",
       "    .dataframe thead th {\n",
       "        text-align: right;\n",
       "    }\n",
       "</style>\n",
       "<table border=\"1\" class=\"dataframe\">\n",
       "  <thead>\n",
       "    <tr style=\"text-align: right;\">\n",
       "      <th></th>\n",
       "      <th>COUNTRY</th>\n",
       "      <th>ISO3</th>\n",
       "      <th>WHO_REGION</th>\n",
       "      <th>DATE_UPDATED</th>\n",
       "      <th>VACCINES_USED</th>\n",
       "      <th>NUMBER_VACCINES_TYPES_USED</th>\n",
       "      <th>Protection against ORIGINAL Var- SEVERE, % average</th>\n",
       "      <th>Protection against ORIGINAL Var- INFECTION, % average</th>\n",
       "      <th>Protection against LATEST var BA1.n SEVERE, % average</th>\n",
       "      <th>Protection against LATEST var BA1.n INFECTION, % average</th>\n",
       "      <th>...</th>\n",
       "      <th>% People Protected for ORGINAL SEVERE</th>\n",
       "      <th>% People Protected for ORGINAL INFECTION</th>\n",
       "      <th>% People Protected for OMICRON SEVERE</th>\n",
       "      <th>% People Protected for OMICRON INFECTION</th>\n",
       "      <th>% SUCEPTIBLE for  BREAKTHROUGH  ORGINAL SEVERE</th>\n",
       "      <th>% SUCEPTIBLE for  BREAKTHROUGH ORIGINAL  INFECTION</th>\n",
       "      <th>% SUCEPTIBLE for  BREAKTHROUGH OMICRON SEVERE</th>\n",
       "      <th>% SUCEPTIBLE for  BREAKTHROUGH OMICRON INFECTION</th>\n",
       "      <th>% Population NOT VACCINATED</th>\n",
       "      <th>Continent</th>\n",
       "    </tr>\n",
       "  </thead>\n",
       "  <tbody>\n",
       "    <tr>\n",
       "      <th>0</th>\n",
       "      <td>Afghanistan</td>\n",
       "      <td>AFG</td>\n",
       "      <td>EMRO</td>\n",
       "      <td>2022-12-22</td>\n",
       "      <td>AstraZeneca - Vaxzevria,Beijing CNBG - BBIBP-C...</td>\n",
       "      <td>11.0</td>\n",
       "      <td>83.0</td>\n",
       "      <td>73.0</td>\n",
       "      <td>61.0</td>\n",
       "      <td>38.0</td>\n",
       "      <td>...</td>\n",
       "      <td>23.5803</td>\n",
       "      <td>20.7393</td>\n",
       "      <td>17.3301</td>\n",
       "      <td>10.7958</td>\n",
       "      <td>4.8297</td>\n",
       "      <td>7.6707</td>\n",
       "      <td>11.0799</td>\n",
       "      <td>17.6142</td>\n",
       "      <td>71.59</td>\n",
       "      <td>Asia</td>\n",
       "    </tr>\n",
       "    <tr>\n",
       "      <th>1</th>\n",
       "      <td>Albania</td>\n",
       "      <td>ALB</td>\n",
       "      <td>EURO</td>\n",
       "      <td>2022-12-11</td>\n",
       "      <td>AstraZeneca - Vaxzevria,Gamaleya - Gam-Covid-V...</td>\n",
       "      <td>5.0</td>\n",
       "      <td>85.0</td>\n",
       "      <td>69.0</td>\n",
       "      <td>64.0</td>\n",
       "      <td>37.0</td>\n",
       "      <td>...</td>\n",
       "      <td>40.2135</td>\n",
       "      <td>32.6439</td>\n",
       "      <td>30.2784</td>\n",
       "      <td>17.5047</td>\n",
       "      <td>7.0965</td>\n",
       "      <td>14.6661</td>\n",
       "      <td>17.0316</td>\n",
       "      <td>29.8053</td>\n",
       "      <td>52.69</td>\n",
       "      <td>Europe</td>\n",
       "    </tr>\n",
       "    <tr>\n",
       "      <th>2</th>\n",
       "      <td>Algeria</td>\n",
       "      <td>DZA</td>\n",
       "      <td>AFRO</td>\n",
       "      <td>2022-09-04</td>\n",
       "      <td>Beijing CNBG - BBIBP-CorV,Gamaleya - Gam-Covid...</td>\n",
       "      <td>4.0</td>\n",
       "      <td>77.0</td>\n",
       "      <td>66.0</td>\n",
       "      <td>57.0</td>\n",
       "      <td>35.0</td>\n",
       "      <td>...</td>\n",
       "      <td>13.4442</td>\n",
       "      <td>11.5236</td>\n",
       "      <td>9.9522</td>\n",
       "      <td>6.1110</td>\n",
       "      <td>4.0158</td>\n",
       "      <td>5.9364</td>\n",
       "      <td>7.5078</td>\n",
       "      <td>11.3490</td>\n",
       "      <td>82.54</td>\n",
       "      <td>Africa</td>\n",
       "    </tr>\n",
       "    <tr>\n",
       "      <th>4</th>\n",
       "      <td>Andorra</td>\n",
       "      <td>AND</td>\n",
       "      <td>EURO</td>\n",
       "      <td>2022-11-13</td>\n",
       "      <td>AstraZeneca - Vaxzevria,Moderna - Spikevax,Pfi...</td>\n",
       "      <td>3.0</td>\n",
       "      <td>95.0</td>\n",
       "      <td>80.0</td>\n",
       "      <td>72.0</td>\n",
       "      <td>43.0</td>\n",
       "      <td>...</td>\n",
       "      <td>68.8940</td>\n",
       "      <td>58.0160</td>\n",
       "      <td>52.2144</td>\n",
       "      <td>31.1836</td>\n",
       "      <td>3.6260</td>\n",
       "      <td>14.5040</td>\n",
       "      <td>20.3056</td>\n",
       "      <td>41.3364</td>\n",
       "      <td>27.48</td>\n",
       "      <td>Europe</td>\n",
       "    </tr>\n",
       "    <tr>\n",
       "      <th>5</th>\n",
       "      <td>Angola</td>\n",
       "      <td>AGO</td>\n",
       "      <td>AFRO</td>\n",
       "      <td>2022-12-18</td>\n",
       "      <td>SII - Covishield</td>\n",
       "      <td>1.0</td>\n",
       "      <td>94.0</td>\n",
       "      <td>63.0</td>\n",
       "      <td>71.0</td>\n",
       "      <td>36.0</td>\n",
       "      <td>...</td>\n",
       "      <td>39.8278</td>\n",
       "      <td>26.6931</td>\n",
       "      <td>30.0827</td>\n",
       "      <td>15.2532</td>\n",
       "      <td>2.5422</td>\n",
       "      <td>15.6769</td>\n",
       "      <td>12.2873</td>\n",
       "      <td>27.1168</td>\n",
       "      <td>57.63</td>\n",
       "      <td>Africa</td>\n",
       "    </tr>\n",
       "  </tbody>\n",
       "</table>\n",
       "<p>5 rows × 23 columns</p>\n",
       "</div>"
      ],
      "text/plain": [
       "       COUNTRY ISO3 WHO_REGION DATE_UPDATED  \\\n",
       "0  Afghanistan  AFG       EMRO   2022-12-22   \n",
       "1      Albania  ALB       EURO   2022-12-11   \n",
       "2      Algeria  DZA       AFRO   2022-09-04   \n",
       "4      Andorra  AND       EURO   2022-11-13   \n",
       "5       Angola  AGO       AFRO   2022-12-18   \n",
       "\n",
       "                                       VACCINES_USED  \\\n",
       "0  AstraZeneca - Vaxzevria,Beijing CNBG - BBIBP-C...   \n",
       "1  AstraZeneca - Vaxzevria,Gamaleya - Gam-Covid-V...   \n",
       "2  Beijing CNBG - BBIBP-CorV,Gamaleya - Gam-Covid...   \n",
       "4  AstraZeneca - Vaxzevria,Moderna - Spikevax,Pfi...   \n",
       "5                                   SII - Covishield   \n",
       "\n",
       "   NUMBER_VACCINES_TYPES_USED  \\\n",
       "0                        11.0   \n",
       "1                         5.0   \n",
       "2                         4.0   \n",
       "4                         3.0   \n",
       "5                         1.0   \n",
       "\n",
       "   Protection against ORIGINAL Var- SEVERE, % average  \\\n",
       "0                                               83.0    \n",
       "1                                               85.0    \n",
       "2                                               77.0    \n",
       "4                                               95.0    \n",
       "5                                               94.0    \n",
       "\n",
       "   Protection against ORIGINAL Var- INFECTION, % average  \\\n",
       "0                                               73.0       \n",
       "1                                               69.0       \n",
       "2                                               66.0       \n",
       "4                                               80.0       \n",
       "5                                               63.0       \n",
       "\n",
       "   Protection against LATEST var BA1.n SEVERE, % average  \\\n",
       "0                                               61.0       \n",
       "1                                               64.0       \n",
       "2                                               57.0       \n",
       "4                                               72.0       \n",
       "5                                               71.0       \n",
       "\n",
       "   Protection against LATEST var BA1.n INFECTION, % average  ...  \\\n",
       "0                                               38.0         ...   \n",
       "1                                               37.0         ...   \n",
       "2                                               35.0         ...   \n",
       "4                                               43.0         ...   \n",
       "5                                               36.0         ...   \n",
       "\n",
       "   % People Protected for ORGINAL SEVERE  \\\n",
       "0                                23.5803   \n",
       "1                                40.2135   \n",
       "2                                13.4442   \n",
       "4                                68.8940   \n",
       "5                                39.8278   \n",
       "\n",
       "   % People Protected for ORGINAL INFECTION  \\\n",
       "0                                   20.7393   \n",
       "1                                   32.6439   \n",
       "2                                   11.5236   \n",
       "4                                   58.0160   \n",
       "5                                   26.6931   \n",
       "\n",
       "   % People Protected for OMICRON SEVERE  \\\n",
       "0                                17.3301   \n",
       "1                                30.2784   \n",
       "2                                 9.9522   \n",
       "4                                52.2144   \n",
       "5                                30.0827   \n",
       "\n",
       "   % People Protected for OMICRON INFECTION  \\\n",
       "0                                   10.7958   \n",
       "1                                   17.5047   \n",
       "2                                    6.1110   \n",
       "4                                   31.1836   \n",
       "5                                   15.2532   \n",
       "\n",
       "   % SUCEPTIBLE for  BREAKTHROUGH  ORGINAL SEVERE  \\\n",
       "0                                          4.8297   \n",
       "1                                          7.0965   \n",
       "2                                          4.0158   \n",
       "4                                          3.6260   \n",
       "5                                          2.5422   \n",
       "\n",
       "   % SUCEPTIBLE for  BREAKTHROUGH ORIGINAL  INFECTION  \\\n",
       "0                                             7.6707    \n",
       "1                                            14.6661    \n",
       "2                                             5.9364    \n",
       "4                                            14.5040    \n",
       "5                                            15.6769    \n",
       "\n",
       "   % SUCEPTIBLE for  BREAKTHROUGH OMICRON SEVERE  \\\n",
       "0                                        11.0799   \n",
       "1                                        17.0316   \n",
       "2                                         7.5078   \n",
       "4                                        20.3056   \n",
       "5                                        12.2873   \n",
       "\n",
       "   % SUCEPTIBLE for  BREAKTHROUGH OMICRON INFECTION  \\\n",
       "0                                           17.6142   \n",
       "1                                           29.8053   \n",
       "2                                           11.3490   \n",
       "4                                           41.3364   \n",
       "5                                           27.1168   \n",
       "\n",
       "   % Population NOT VACCINATED  Continent  \n",
       "0                        71.59       Asia  \n",
       "1                        52.69     Europe  \n",
       "2                        82.54     Africa  \n",
       "4                        27.48     Europe  \n",
       "5                        57.63     Africa  \n",
       "\n",
       "[5 rows x 23 columns]"
      ]
     },
     "execution_count": 17,
     "metadata": {},
     "output_type": "execute_result"
    }
   ],
   "source": [
    "df_new.head()"
   ]
  },
  {
   "cell_type": "code",
   "execution_count": 18,
   "id": "2bce416a",
   "metadata": {
    "extensions": {
     "jupyter_dashboards": {
      "version": 1,
      "views": {
       "grid_default": {},
       "report_default": {
        "hidden": false
       }
      }
     }
    }
   },
   "outputs": [],
   "source": [
    "# The continents that I removed before apply them from old dataset to new dataset\n",
    "count = {'Kosovo': 'Europe', 'Pitcairn Islands': 'Oceania', 'Sint Maarten': 'North America', 'Timor-Leste': 'Asia'}\n",
    "for country, continents in count.items():\n",
    "    row_to_copy = cv_df.loc[cv_df['COUNTRY'] == country]\n",
    "    df_new = pd.concat([df_new, row_to_copy], ignore_index=True)\n",
    "    df_new.loc[df_new['COUNTRY'] == country, 'Continent'] = continents"
   ]
  },
  {
   "cell_type": "markdown",
   "id": "59f5a7c3",
   "metadata": {
    "extensions": {
     "jupyter_dashboards": {
      "version": 1,
      "views": {
       "grid_default": {},
       "report_default": {
        "hidden": false
       }
      }
     }
    }
   },
   "source": [
    "# World Map based on Number of Vaccines Used "
   ]
  },
  {
   "cell_type": "markdown",
   "id": "591a49e2",
   "metadata": {
    "extensions": {
     "jupyter_dashboards": {
      "version": 1,
      "views": {
       "grid_default": {},
       "report_default": {
        "hidden": false
       }
      }
     }
    }
   },
   "source": [
    "# This is where we will do comparison whether there is a correlation between number of vaccines and people being vaccinated"
   ]
  },
  {
   "cell_type": "code",
   "execution_count": 19,
   "id": "0319f6b9",
   "metadata": {
    "extensions": {
     "jupyter_dashboards": {
      "version": 1,
      "views": {
       "grid_default": {},
       "report_default": {
        "hidden": false
       }
      }
     }
    }
   },
   "outputs": [
    {
     "data": {
      "application/vnd.plotly.v1+json": {
       "config": {
        "plotlyServerURL": "https://plot.ly"
       },
       "data": [
        {
         "coloraxis": "coloraxis",
         "customdata": [
          [
           11
          ],
          [
           8
          ],
          [
           5
          ],
          [
           11
          ],
          [
           8
          ],
          [
           5
          ],
          [
           5
          ],
          [
           7
          ],
          [
           8
          ],
          [
           5
          ],
          [
           4
          ],
          [
           8
          ],
          [
           7
          ],
          [
           12
          ],
          [
           10
          ],
          [
           3
          ],
          [
           4
          ],
          [
           10
          ],
          [
           5
          ],
          [
           10
          ],
          [
           6
          ],
          [
           8
          ],
          [
           10
          ],
          [
           8
          ],
          [
           8
          ],
          [
           6
          ],
          [
           2
          ],
          [
           8
          ],
          [
           10
          ],
          [
           11
          ],
          [
           11
          ],
          [
           11
          ],
          [
           10
          ],
          [
           5
          ],
          [
           10
          ],
          [
           4
          ],
          [
           6
          ],
          [
           11
          ],
          [
           6
          ],
          [
           8
          ],
          [
           3
          ],
          [
           7
          ],
          [
           11
          ],
          [
           8
          ],
          [
           6
          ],
          [
           11
          ],
          [
           4
          ]
         ],
         "geo": "geo",
         "hovertemplate": "<b>%{hovertext}</b><br><br>Continent=Asia<br>ISO3=%{location}<br>NUMBER_VACCINES_TYPES_USED=%{z}<extra></extra>",
         "hovertext": [
          "Afghanistan",
          "Armenia",
          "Azerbaijan",
          "Bahrain",
          "Bangladesh",
          "Bhutan",
          "Brunei Darussalam",
          "Cambodia",
          "China",
          "Cyprus",
          "Georgia",
          "India",
          "Indonesia",
          "Iran",
          "Iraq",
          "Israel",
          "Japan",
          "Jordan",
          "Kazakhstan",
          "Kuwait",
          "Kyrgyzstan",
          "Lao People's Democratic Republic",
          "Lebanon",
          "Malaysia",
          "Maldives",
          "Mongolia",
          "Myanmar",
          "Nepal",
          "Palestine",
          "Oman",
          "Pakistan",
          "Philippines",
          "Qatar",
          "South Korea",
          "Saudi Arabia",
          "Singapore",
          "Sri Lanka",
          "Syrian Arab Republic",
          "Tajikistan",
          "Thailand",
          "Turkey",
          "Turkmenistan",
          "United Arab Emirates",
          "Uzbekistan",
          "Viet Nam",
          "Yemen",
          "Timor-Leste"
         ],
         "locations": [
          "AFG",
          "ARM",
          "AZE",
          "BHR",
          "BGD",
          "BTN",
          "BRN",
          "KHM",
          "CHN",
          "CYP",
          "GEO",
          "IND",
          "IDN",
          "IRN",
          "IRQ",
          "ISR",
          "JPN",
          "JOR",
          "KAZ",
          "KWT",
          "KGZ",
          "LAO",
          "LBN",
          "MYS",
          "MDV",
          "MNG",
          "MMR",
          "NPL",
          "PSE",
          "OMN",
          "PAK",
          "PHL",
          "QAT",
          "KOR",
          "SAU",
          "SGP",
          "LKA",
          "SYR",
          "TJK",
          "THA",
          "TUR",
          "TKM",
          "ARE",
          "UZB",
          "VNM",
          "YEM",
          "TLS"
         ],
         "name": "",
         "type": "choropleth",
         "z": [
          11,
          8,
          5,
          11,
          8,
          5,
          5,
          7,
          8,
          5,
          4,
          8,
          7,
          12,
          10,
          3,
          4,
          10,
          5,
          10,
          6,
          8,
          10,
          8,
          8,
          6,
          2,
          8,
          10,
          11,
          11,
          11,
          10,
          5,
          10,
          4,
          6,
          11,
          6,
          8,
          3,
          7,
          11,
          8,
          6,
          11,
          4
         ]
        }
       ],
       "frames": [
        {
         "data": [
          {
           "coloraxis": "coloraxis",
           "customdata": [
            [
             11
            ],
            [
             8
            ],
            [
             5
            ],
            [
             11
            ],
            [
             8
            ],
            [
             5
            ],
            [
             5
            ],
            [
             7
            ],
            [
             8
            ],
            [
             5
            ],
            [
             4
            ],
            [
             8
            ],
            [
             7
            ],
            [
             12
            ],
            [
             10
            ],
            [
             3
            ],
            [
             4
            ],
            [
             10
            ],
            [
             5
            ],
            [
             10
            ],
            [
             6
            ],
            [
             8
            ],
            [
             10
            ],
            [
             8
            ],
            [
             8
            ],
            [
             6
            ],
            [
             2
            ],
            [
             8
            ],
            [
             10
            ],
            [
             11
            ],
            [
             11
            ],
            [
             11
            ],
            [
             10
            ],
            [
             5
            ],
            [
             10
            ],
            [
             4
            ],
            [
             6
            ],
            [
             11
            ],
            [
             6
            ],
            [
             8
            ],
            [
             3
            ],
            [
             7
            ],
            [
             11
            ],
            [
             8
            ],
            [
             6
            ],
            [
             11
            ],
            [
             4
            ]
           ],
           "geo": "geo",
           "hovertemplate": "<b>%{hovertext}</b><br><br>Continent=Asia<br>ISO3=%{location}<br>NUMBER_VACCINES_TYPES_USED=%{z}<extra></extra>",
           "hovertext": [
            "Afghanistan",
            "Armenia",
            "Azerbaijan",
            "Bahrain",
            "Bangladesh",
            "Bhutan",
            "Brunei Darussalam",
            "Cambodia",
            "China",
            "Cyprus",
            "Georgia",
            "India",
            "Indonesia",
            "Iran",
            "Iraq",
            "Israel",
            "Japan",
            "Jordan",
            "Kazakhstan",
            "Kuwait",
            "Kyrgyzstan",
            "Lao People's Democratic Republic",
            "Lebanon",
            "Malaysia",
            "Maldives",
            "Mongolia",
            "Myanmar",
            "Nepal",
            "Palestine",
            "Oman",
            "Pakistan",
            "Philippines",
            "Qatar",
            "South Korea",
            "Saudi Arabia",
            "Singapore",
            "Sri Lanka",
            "Syrian Arab Republic",
            "Tajikistan",
            "Thailand",
            "Turkey",
            "Turkmenistan",
            "United Arab Emirates",
            "Uzbekistan",
            "Viet Nam",
            "Yemen",
            "Timor-Leste"
           ],
           "locations": [
            "AFG",
            "ARM",
            "AZE",
            "BHR",
            "BGD",
            "BTN",
            "BRN",
            "KHM",
            "CHN",
            "CYP",
            "GEO",
            "IND",
            "IDN",
            "IRN",
            "IRQ",
            "ISR",
            "JPN",
            "JOR",
            "KAZ",
            "KWT",
            "KGZ",
            "LAO",
            "LBN",
            "MYS",
            "MDV",
            "MNG",
            "MMR",
            "NPL",
            "PSE",
            "OMN",
            "PAK",
            "PHL",
            "QAT",
            "KOR",
            "SAU",
            "SGP",
            "LKA",
            "SYR",
            "TJK",
            "THA",
            "TUR",
            "TKM",
            "ARE",
            "UZB",
            "VNM",
            "YEM",
            "TLS"
           ],
           "name": "",
           "type": "choropleth",
           "z": [
            11,
            8,
            5,
            11,
            8,
            5,
            5,
            7,
            8,
            5,
            4,
            8,
            7,
            12,
            10,
            3,
            4,
            10,
            5,
            10,
            6,
            8,
            10,
            8,
            8,
            6,
            2,
            8,
            10,
            11,
            11,
            11,
            10,
            5,
            10,
            4,
            6,
            11,
            6,
            8,
            3,
            7,
            11,
            8,
            6,
            11,
            4
           ]
          }
         ],
         "name": "Asia"
        },
        {
         "data": [
          {
           "coloraxis": "coloraxis",
           "customdata": [
            [
             5
            ],
            [
             3
            ],
            [
             10
            ],
            [
             4
            ],
            [
             4
            ],
            [
             4
            ],
            [
             4
            ],
            [
             6
            ],
            [
             7
            ],
            [
             5
            ],
            [
             8
            ],
            [
             2
            ],
            [
             5
            ],
            [
             6
            ],
            [
             9
            ],
            [
             2
            ],
            [
             7
            ],
            [
             3
            ],
            [
             8
            ],
            [
             5
            ],
            [
             5
            ],
            [
             3
            ],
            [
             8
            ],
            [
             3
            ],
            [
             5
            ],
            [
             3
            ],
            [
             5
            ],
            [
             8
            ],
            [
             4
            ],
            [
             7
            ],
            [
             5
            ],
            [
             6
            ],
            [
             7
            ],
            [
             4
            ],
            [
             5
            ],
            [
             11
            ],
            [
             7
            ],
            [
             4
            ],
            [
             2
            ],
            [
             2
            ],
            [
             5
            ],
            [
             7
            ],
            [
             6
            ],
            [
             4
            ],
            [
             5
            ],
            [
             6
            ],
            [
             3
            ],
            [
             6
            ],
            [
             2
            ]
           ],
           "geo": "geo",
           "hovertemplate": "<b>%{hovertext}</b><br><br>Continent=Europe<br>ISO3=%{location}<br>NUMBER_VACCINES_TYPES_USED=%{z}<extra></extra>",
           "hovertext": [
            "Albania",
            "Andorra",
            "Austria",
            "Belarus",
            "Belgium",
            "Bosnia and Herzegovina",
            "Bulgaria",
            "Croatia",
            "Czechia",
            "Denmark",
            "Estonia",
            "Faroe Islands",
            "Finland",
            "France",
            "Germany",
            "Gibraltar",
            "Greece",
            "Guernsey",
            "Hungary",
            "Iceland",
            "Ireland",
            "Isle of Man",
            "Italy",
            "Jersey",
            "Latvia",
            "Liechtenstein",
            "Lithuania",
            "Luxembourg",
            "Malta",
            "Monaco",
            "Montenegro",
            "Netherlands",
            "North Macedonia",
            "Norway",
            "Poland",
            "Portugal",
            "Republic of Moldova",
            "Romania",
            "Russian Federation",
            "San Marino",
            "Serbia",
            "Slovakia",
            "Slovenia",
            "Spain",
            "Sweden",
            "Switzerland",
            "United Kingdom",
            "Ukraine",
            "Kosovo"
           ],
           "locations": [
            "ALB",
            "AND",
            "AUT",
            "BLR",
            "BEL",
            "BIH",
            "BGR",
            "HRV",
            "CZE",
            "DNK",
            "EST",
            "FRO",
            "FIN",
            "FRA",
            "DEU",
            "GIB",
            "GRC",
            "GGY",
            "HUN",
            "ISL",
            "IRL",
            "IMN",
            "ITA",
            "JEY",
            "LVA",
            "LIE",
            "LTU",
            "LUX",
            "MLT",
            "MCO",
            "MNE",
            "NLD",
            "MKD",
            "NOR",
            "POL",
            "PRT",
            "MDA",
            "ROU",
            "RUS",
            "SMR",
            "SRB",
            "SVK",
            "SVN",
            "ESP",
            "SWE",
            "CHE",
            "GBR",
            "UKR",
            "XKX"
           ],
           "name": "",
           "type": "choropleth",
           "z": [
            5,
            3,
            10,
            4,
            4,
            4,
            4,
            6,
            7,
            5,
            8,
            2,
            5,
            6,
            9,
            2,
            7,
            3,
            8,
            5,
            5,
            3,
            8,
            3,
            5,
            3,
            5,
            8,
            4,
            7,
            5,
            6,
            7,
            4,
            5,
            11,
            7,
            4,
            2,
            2,
            5,
            7,
            6,
            4,
            5,
            6,
            3,
            6,
            2
           ]
          }
         ],
         "name": "Europe"
        },
        {
         "data": [
          {
           "coloraxis": "coloraxis",
           "customdata": [
            [
             4
            ],
            [
             1
            ],
            [
             5
            ],
            [
             6
            ],
            [
             3
            ],
            [
             1
            ],
            [
             4
            ],
            [
             4
            ],
            [
             2
            ],
            [
             1
            ],
            [
             3
            ],
            [
             4
            ],
            [
             5
            ],
            [
             1
            ],
            [
             11
            ],
            [
             10
            ],
            [
             2
            ],
            [
             3
            ],
            [
             4
            ],
            [
             3
            ],
            [
             2
            ],
            [
             2
            ],
            [
             6
            ],
            [
             2
            ],
            [
             5
            ],
            [
             3
            ],
            [
             1
            ],
            [
             10
            ],
            [
             3
            ],
            [
             2
            ],
            [
             1
            ],
            [
             2
            ],
            [
             3
            ],
            [
             10
            ],
            [
             3
            ],
            [
             4
            ],
            [
             2
            ],
            [
             1
            ],
            [
             7
            ],
            [
             1
            ],
            [
             2
            ],
            [
             3
            ],
            [
             4
            ],
            [
             2
            ],
            [
             11
            ],
            [
             2
            ],
            [
             2
            ],
            [
             11
            ],
            [
             1
            ],
            [
             10
            ],
            [
             5
            ],
            [
             3
            ],
            [
             3
            ],
            [
             4
            ]
           ],
           "geo": "geo",
           "hovertemplate": "<b>%{hovertext}</b><br><br>Continent=Africa<br>ISO3=%{location}<br>NUMBER_VACCINES_TYPES_USED=%{z}<extra></extra>",
           "hovertext": [
            "Algeria",
            "Angola",
            "Benin",
            "Botswana",
            "Burkina Faso",
            "Burundi",
            "Cabo Verde",
            "Cameroon",
            "Central African Republic",
            "Chad",
            "Comoros",
            "Congo",
            "Ivory Coast",
            "Democratic Republic of the Congo",
            "Djibouti",
            "Egypt",
            "Equatorial Guinea",
            "Eswatini",
            "Ethiopia",
            "Gabon",
            "Gambia",
            "Ghana",
            "Guinea",
            "Guinea-Bissau",
            "Kenya",
            "Lesotho",
            "Liberia",
            "Libya",
            "Madagascar",
            "Malawi",
            "Mali",
            "Mauritania",
            "Mauritius",
            "Morocco",
            "Mozambique",
            "Namibia",
            "Niger",
            "Nigeria",
            "Rwanda",
            "Saint Helena, Ascension and Tristan da Cunha",
            "Sao Tome and Principe",
            "Senegal",
            "Seychelles",
            "Sierra Leone",
            "Somalia",
            "South Africa",
            "South Sudan",
            "Sudan",
            "Togo",
            "Tunisia",
            "Uganda",
            "United Republic of Tanzania",
            "Zambia",
            "Zimbabwe"
           ],
           "locations": [
            "DZA",
            "AGO",
            "BEN",
            "BWA",
            "BFA",
            "BDI",
            "CPV",
            "CMR",
            "CAF",
            "TCD",
            "COM",
            "COG",
            "CIV",
            "COD",
            "DJI",
            "EGY",
            "GNQ",
            "SWZ",
            "ETH",
            "GAB",
            "GMB",
            "GHA",
            "GIN",
            "GNB",
            "KEN",
            "LSO",
            "LBR",
            "LBY",
            "MDG",
            "MWI",
            "MLI",
            "MRT",
            "MUS",
            "MAR",
            "MOZ",
            "NAM",
            "NER",
            "NGA",
            "RWA",
            "SHN",
            "STP",
            "SEN",
            "SYC",
            "SLE",
            "SOM",
            "ZAF",
            "SSD",
            "SDN",
            "TGO",
            "TUN",
            "UGA",
            "TZA",
            "ZMB",
            "ZWE"
           ],
           "name": "",
           "type": "choropleth",
           "z": [
            4,
            1,
            5,
            6,
            3,
            1,
            4,
            4,
            2,
            1,
            3,
            4,
            5,
            1,
            11,
            10,
            2,
            3,
            4,
            3,
            2,
            2,
            6,
            2,
            5,
            3,
            1,
            10,
            3,
            2,
            1,
            2,
            3,
            10,
            3,
            4,
            2,
            1,
            7,
            1,
            2,
            3,
            4,
            2,
            11,
            2,
            2,
            11,
            1,
            10,
            5,
            3,
            3,
            4
           ]
          }
         ],
         "name": "Africa"
        },
        {
         "data": [
          {
           "coloraxis": "coloraxis",
           "customdata": [
            [
             2
            ],
            [
             6
            ],
            [
             2
            ],
            [
             4
            ],
            [
             5
            ],
            [
             5
            ],
            [
             3
            ],
            [
             2
            ],
            [
             2
            ],
            [
             2
            ],
            [
             5
            ],
            [
             1
            ],
            [
             3
            ],
            [
             3
            ],
            [
             3
            ],
            [
             5
            ],
            [
             3
            ],
            [
             6
            ],
            [
             1
            ],
            [
             5
            ],
            [
             5
            ],
            [
             2
            ],
            [
             6
            ],
            [
             5
            ],
            [
             7
            ],
            [
             1
            ],
            [
             9
            ],
            [
             2
            ],
            [
             3
            ],
            [
             5
            ],
            [
             5
            ],
            [
             5
            ],
            [
             1
            ],
            [
             4
            ],
            [
             3
            ]
           ],
           "geo": "geo",
           "hovertemplate": "<b>%{hovertext}</b><br><br>Continent=North America<br>ISO3=%{location}<br>NUMBER_VACCINES_TYPES_USED=%{z}<extra></extra>",
           "hovertext": [
            "Anguilla",
            "Antigua and Barbuda",
            "Aruba",
            "Bahamas",
            "Barbados",
            "Belize",
            "Bermuda",
            "Bonaire",
            "Bonaire, Sint Eustatius and Saba",
            "British Virgin Islands",
            "Canada",
            "Cayman Islands",
            "Costa Rica",
            "Cuba",
            "Curaçao",
            "Dominica",
            "Dominican Republic",
            "El Salvador",
            "Greenland",
            "Grenada",
            "Guatemala",
            "Haiti",
            "Honduras",
            "Jamaica",
            "Mexico",
            "Montserrat",
            "Nicaragua",
            "Panama",
            "Saint Kitts and Nevis",
            "Saint Lucia",
            "Saint Vincent and the Grenadines",
            "Trinidad and Tobago",
            "Turks and Caicos Islands",
            "United States of America",
            "Sint Maarten"
           ],
           "locations": [
            "AIA",
            "ATG",
            "ABW",
            "BHS",
            "BRB",
            "BLZ",
            "BMU",
            "XAA",
            "BES",
            "VGB",
            "CAN",
            "CYM",
            "CRI",
            "CUB",
            "CUW",
            "DMA",
            "DOM",
            "SLV",
            "GRL",
            "GRD",
            "GTM",
            "HTI",
            "HND",
            "JAM",
            "MEX",
            "MSR",
            "NIC",
            "PAN",
            "KNA",
            "LCA",
            "VCT",
            "TTO",
            "TCA",
            "USA",
            "SXM"
           ],
           "name": "",
           "type": "choropleth",
           "z": [
            2,
            6,
            2,
            4,
            5,
            5,
            3,
            2,
            2,
            2,
            5,
            1,
            3,
            3,
            3,
            5,
            3,
            6,
            1,
            5,
            5,
            2,
            6,
            5,
            7,
            1,
            9,
            2,
            3,
            5,
            5,
            5,
            1,
            4,
            3
           ]
          }
         ],
         "name": "North America"
        },
        {
         "data": [
          {
           "coloraxis": "coloraxis",
           "customdata": [
            [
             7
            ],
            [
             7
            ],
            [
             5
            ],
            [
             5
            ],
            [
             5
            ],
            [
             4
            ],
            [
             1
            ],
            [
             2
            ],
            [
             7
            ],
            [
             8
            ],
            [
             4
            ],
            [
             5
            ],
            [
             3
            ],
            [
             6
            ]
           ],
           "geo": "geo",
           "hovertemplate": "<b>%{hovertext}</b><br><br>Continent=South America<br>ISO3=%{location}<br>NUMBER_VACCINES_TYPES_USED=%{z}<extra></extra>",
           "hovertext": [
            "Argentina",
            "Bolivia",
            "Brazil",
            "Chile",
            "Colombia",
            "Ecuador",
            "Falkland Islands (Malvinas)",
            "French Guiana",
            "Guyana",
            "Paraguay",
            "Peru",
            "Suriname",
            "Uruguay",
            "Venezuela"
           ],
           "locations": [
            "ARG",
            "BOL",
            "BRA",
            "CHL",
            "COL",
            "ECU",
            "FLK",
            "GUF",
            "GUY",
            "PRY",
            "PER",
            "SUR",
            "URY",
            "VEN"
           ],
           "name": "",
           "type": "choropleth",
           "z": [
            7,
            7,
            5,
            5,
            5,
            4,
            1,
            2,
            7,
            8,
            4,
            5,
            3,
            6
           ]
          }
         ],
         "name": "South America"
        },
        {
         "data": [
          {
           "coloraxis": "coloraxis",
           "customdata": [
            [
             5
            ],
            [
             1
            ],
            [
             3
            ],
            [
             2
            ],
            [
             2
            ],
            [
             2
            ],
            [
             2
            ],
            [
             4
            ],
            [
             1
            ],
            [
             4
            ],
            [
             2
            ],
            [
             4
            ],
            [
             1
            ],
            [
             2
            ],
            [
             1
            ],
            [
             3
            ],
            [
             1
            ],
            [
             1
            ]
           ],
           "geo": "geo",
           "hovertemplate": "<b>%{hovertext}</b><br><br>Continent=Oceania<br>ISO3=%{location}<br>NUMBER_VACCINES_TYPES_USED=%{z}<extra></extra>",
           "hovertext": [
            "Australia",
            "Cook Islands",
            "Fiji",
            "French Polynesia",
            "Kiribati",
            "Nauru",
            "New Caledonia",
            "New Zealand",
            "Niue",
            "Papua New Guinea",
            "Samoa",
            "Solomon Islands",
            "Tokelau",
            "Tonga",
            "Tuvalu",
            "Vanuatu",
            "Wallis and Futuna",
            "Pitcairn Islands"
           ],
           "locations": [
            "AUS",
            "COK",
            "FJI",
            "PYF",
            "KIR",
            "NRU",
            "NCL",
            "NZL",
            "NIU",
            "PNG",
            "WSM",
            "SLB",
            "TKL",
            "TON",
            "TUV",
            "VUT",
            "WLF",
            "PCN"
           ],
           "name": "",
           "type": "choropleth",
           "z": [
            5,
            1,
            3,
            2,
            2,
            2,
            2,
            4,
            1,
            4,
            2,
            4,
            1,
            2,
            1,
            3,
            1,
            1
           ]
          }
         ],
         "name": "Oceania"
        }
       ],
       "layout": {
        "coloraxis": {
         "colorbar": {
          "title": {
           "text": "NUMBER_VACCINES_TYPES_USED"
          }
         },
         "colorscale": [
          [
           0,
           "#0d0887"
          ],
          [
           0.1111111111111111,
           "#46039f"
          ],
          [
           0.2222222222222222,
           "#7201a8"
          ],
          [
           0.3333333333333333,
           "#9c179e"
          ],
          [
           0.4444444444444444,
           "#bd3786"
          ],
          [
           0.5555555555555556,
           "#d8576b"
          ],
          [
           0.6666666666666666,
           "#ed7953"
          ],
          [
           0.7777777777777778,
           "#fb9f3a"
          ],
          [
           0.8888888888888888,
           "#fdca26"
          ],
          [
           1,
           "#f0f921"
          ]
         ]
        },
        "geo": {
         "center": {},
         "domain": {
          "x": [
           0,
           1
          ],
          "y": [
           0,
           1
          ]
         }
        },
        "legend": {
         "tracegroupgap": 0
        },
        "margin": {
         "t": 60
        },
        "sliders": [
         {
          "active": 0,
          "currentvalue": {
           "prefix": "Continent="
          },
          "len": 0.9,
          "pad": {
           "b": 10,
           "t": 60
          },
          "steps": [
           {
            "args": [
             [
              "Asia"
             ],
             {
              "frame": {
               "duration": 0,
               "redraw": true
              },
              "fromcurrent": true,
              "mode": "immediate",
              "transition": {
               "duration": 0,
               "easing": "linear"
              }
             }
            ],
            "label": "Asia",
            "method": "animate"
           },
           {
            "args": [
             [
              "Europe"
             ],
             {
              "frame": {
               "duration": 0,
               "redraw": true
              },
              "fromcurrent": true,
              "mode": "immediate",
              "transition": {
               "duration": 0,
               "easing": "linear"
              }
             }
            ],
            "label": "Europe",
            "method": "animate"
           },
           {
            "args": [
             [
              "Africa"
             ],
             {
              "frame": {
               "duration": 0,
               "redraw": true
              },
              "fromcurrent": true,
              "mode": "immediate",
              "transition": {
               "duration": 0,
               "easing": "linear"
              }
             }
            ],
            "label": "Africa",
            "method": "animate"
           },
           {
            "args": [
             [
              "North America"
             ],
             {
              "frame": {
               "duration": 0,
               "redraw": true
              },
              "fromcurrent": true,
              "mode": "immediate",
              "transition": {
               "duration": 0,
               "easing": "linear"
              }
             }
            ],
            "label": "North America",
            "method": "animate"
           },
           {
            "args": [
             [
              "South America"
             ],
             {
              "frame": {
               "duration": 0,
               "redraw": true
              },
              "fromcurrent": true,
              "mode": "immediate",
              "transition": {
               "duration": 0,
               "easing": "linear"
              }
             }
            ],
            "label": "South America",
            "method": "animate"
           },
           {
            "args": [
             [
              "Oceania"
             ],
             {
              "frame": {
               "duration": 0,
               "redraw": true
              },
              "fromcurrent": true,
              "mode": "immediate",
              "transition": {
               "duration": 0,
               "easing": "linear"
              }
             }
            ],
            "label": "Oceania",
            "method": "animate"
           }
          ],
          "x": 0.1,
          "xanchor": "left",
          "y": 0,
          "yanchor": "top"
         }
        ],
        "template": {
         "data": {
          "bar": [
           {
            "error_x": {
             "color": "#2a3f5f"
            },
            "error_y": {
             "color": "#2a3f5f"
            },
            "marker": {
             "line": {
              "color": "#E5ECF6",
              "width": 0.5
             },
             "pattern": {
              "fillmode": "overlay",
              "size": 10,
              "solidity": 0.2
             }
            },
            "type": "bar"
           }
          ],
          "barpolar": [
           {
            "marker": {
             "line": {
              "color": "#E5ECF6",
              "width": 0.5
             },
             "pattern": {
              "fillmode": "overlay",
              "size": 10,
              "solidity": 0.2
             }
            },
            "type": "barpolar"
           }
          ],
          "carpet": [
           {
            "aaxis": {
             "endlinecolor": "#2a3f5f",
             "gridcolor": "white",
             "linecolor": "white",
             "minorgridcolor": "white",
             "startlinecolor": "#2a3f5f"
            },
            "baxis": {
             "endlinecolor": "#2a3f5f",
             "gridcolor": "white",
             "linecolor": "white",
             "minorgridcolor": "white",
             "startlinecolor": "#2a3f5f"
            },
            "type": "carpet"
           }
          ],
          "choropleth": [
           {
            "colorbar": {
             "outlinewidth": 0,
             "ticks": ""
            },
            "type": "choropleth"
           }
          ],
          "contour": [
           {
            "colorbar": {
             "outlinewidth": 0,
             "ticks": ""
            },
            "colorscale": [
             [
              0,
              "#0d0887"
             ],
             [
              0.1111111111111111,
              "#46039f"
             ],
             [
              0.2222222222222222,
              "#7201a8"
             ],
             [
              0.3333333333333333,
              "#9c179e"
             ],
             [
              0.4444444444444444,
              "#bd3786"
             ],
             [
              0.5555555555555556,
              "#d8576b"
             ],
             [
              0.6666666666666666,
              "#ed7953"
             ],
             [
              0.7777777777777778,
              "#fb9f3a"
             ],
             [
              0.8888888888888888,
              "#fdca26"
             ],
             [
              1,
              "#f0f921"
             ]
            ],
            "type": "contour"
           }
          ],
          "contourcarpet": [
           {
            "colorbar": {
             "outlinewidth": 0,
             "ticks": ""
            },
            "type": "contourcarpet"
           }
          ],
          "heatmap": [
           {
            "colorbar": {
             "outlinewidth": 0,
             "ticks": ""
            },
            "colorscale": [
             [
              0,
              "#0d0887"
             ],
             [
              0.1111111111111111,
              "#46039f"
             ],
             [
              0.2222222222222222,
              "#7201a8"
             ],
             [
              0.3333333333333333,
              "#9c179e"
             ],
             [
              0.4444444444444444,
              "#bd3786"
             ],
             [
              0.5555555555555556,
              "#d8576b"
             ],
             [
              0.6666666666666666,
              "#ed7953"
             ],
             [
              0.7777777777777778,
              "#fb9f3a"
             ],
             [
              0.8888888888888888,
              "#fdca26"
             ],
             [
              1,
              "#f0f921"
             ]
            ],
            "type": "heatmap"
           }
          ],
          "heatmapgl": [
           {
            "colorbar": {
             "outlinewidth": 0,
             "ticks": ""
            },
            "colorscale": [
             [
              0,
              "#0d0887"
             ],
             [
              0.1111111111111111,
              "#46039f"
             ],
             [
              0.2222222222222222,
              "#7201a8"
             ],
             [
              0.3333333333333333,
              "#9c179e"
             ],
             [
              0.4444444444444444,
              "#bd3786"
             ],
             [
              0.5555555555555556,
              "#d8576b"
             ],
             [
              0.6666666666666666,
              "#ed7953"
             ],
             [
              0.7777777777777778,
              "#fb9f3a"
             ],
             [
              0.8888888888888888,
              "#fdca26"
             ],
             [
              1,
              "#f0f921"
             ]
            ],
            "type": "heatmapgl"
           }
          ],
          "histogram": [
           {
            "marker": {
             "pattern": {
              "fillmode": "overlay",
              "size": 10,
              "solidity": 0.2
             }
            },
            "type": "histogram"
           }
          ],
          "histogram2d": [
           {
            "colorbar": {
             "outlinewidth": 0,
             "ticks": ""
            },
            "colorscale": [
             [
              0,
              "#0d0887"
             ],
             [
              0.1111111111111111,
              "#46039f"
             ],
             [
              0.2222222222222222,
              "#7201a8"
             ],
             [
              0.3333333333333333,
              "#9c179e"
             ],
             [
              0.4444444444444444,
              "#bd3786"
             ],
             [
              0.5555555555555556,
              "#d8576b"
             ],
             [
              0.6666666666666666,
              "#ed7953"
             ],
             [
              0.7777777777777778,
              "#fb9f3a"
             ],
             [
              0.8888888888888888,
              "#fdca26"
             ],
             [
              1,
              "#f0f921"
             ]
            ],
            "type": "histogram2d"
           }
          ],
          "histogram2dcontour": [
           {
            "colorbar": {
             "outlinewidth": 0,
             "ticks": ""
            },
            "colorscale": [
             [
              0,
              "#0d0887"
             ],
             [
              0.1111111111111111,
              "#46039f"
             ],
             [
              0.2222222222222222,
              "#7201a8"
             ],
             [
              0.3333333333333333,
              "#9c179e"
             ],
             [
              0.4444444444444444,
              "#bd3786"
             ],
             [
              0.5555555555555556,
              "#d8576b"
             ],
             [
              0.6666666666666666,
              "#ed7953"
             ],
             [
              0.7777777777777778,
              "#fb9f3a"
             ],
             [
              0.8888888888888888,
              "#fdca26"
             ],
             [
              1,
              "#f0f921"
             ]
            ],
            "type": "histogram2dcontour"
           }
          ],
          "mesh3d": [
           {
            "colorbar": {
             "outlinewidth": 0,
             "ticks": ""
            },
            "type": "mesh3d"
           }
          ],
          "parcoords": [
           {
            "line": {
             "colorbar": {
              "outlinewidth": 0,
              "ticks": ""
             }
            },
            "type": "parcoords"
           }
          ],
          "pie": [
           {
            "automargin": true,
            "type": "pie"
           }
          ],
          "scatter": [
           {
            "fillpattern": {
             "fillmode": "overlay",
             "size": 10,
             "solidity": 0.2
            },
            "type": "scatter"
           }
          ],
          "scatter3d": [
           {
            "line": {
             "colorbar": {
              "outlinewidth": 0,
              "ticks": ""
             }
            },
            "marker": {
             "colorbar": {
              "outlinewidth": 0,
              "ticks": ""
             }
            },
            "type": "scatter3d"
           }
          ],
          "scattercarpet": [
           {
            "marker": {
             "colorbar": {
              "outlinewidth": 0,
              "ticks": ""
             }
            },
            "type": "scattercarpet"
           }
          ],
          "scattergeo": [
           {
            "marker": {
             "colorbar": {
              "outlinewidth": 0,
              "ticks": ""
             }
            },
            "type": "scattergeo"
           }
          ],
          "scattergl": [
           {
            "marker": {
             "colorbar": {
              "outlinewidth": 0,
              "ticks": ""
             }
            },
            "type": "scattergl"
           }
          ],
          "scattermapbox": [
           {
            "marker": {
             "colorbar": {
              "outlinewidth": 0,
              "ticks": ""
             }
            },
            "type": "scattermapbox"
           }
          ],
          "scatterpolar": [
           {
            "marker": {
             "colorbar": {
              "outlinewidth": 0,
              "ticks": ""
             }
            },
            "type": "scatterpolar"
           }
          ],
          "scatterpolargl": [
           {
            "marker": {
             "colorbar": {
              "outlinewidth": 0,
              "ticks": ""
             }
            },
            "type": "scatterpolargl"
           }
          ],
          "scatterternary": [
           {
            "marker": {
             "colorbar": {
              "outlinewidth": 0,
              "ticks": ""
             }
            },
            "type": "scatterternary"
           }
          ],
          "surface": [
           {
            "colorbar": {
             "outlinewidth": 0,
             "ticks": ""
            },
            "colorscale": [
             [
              0,
              "#0d0887"
             ],
             [
              0.1111111111111111,
              "#46039f"
             ],
             [
              0.2222222222222222,
              "#7201a8"
             ],
             [
              0.3333333333333333,
              "#9c179e"
             ],
             [
              0.4444444444444444,
              "#bd3786"
             ],
             [
              0.5555555555555556,
              "#d8576b"
             ],
             [
              0.6666666666666666,
              "#ed7953"
             ],
             [
              0.7777777777777778,
              "#fb9f3a"
             ],
             [
              0.8888888888888888,
              "#fdca26"
             ],
             [
              1,
              "#f0f921"
             ]
            ],
            "type": "surface"
           }
          ],
          "table": [
           {
            "cells": {
             "fill": {
              "color": "#EBF0F8"
             },
             "line": {
              "color": "white"
             }
            },
            "header": {
             "fill": {
              "color": "#C8D4E3"
             },
             "line": {
              "color": "white"
             }
            },
            "type": "table"
           }
          ]
         },
         "layout": {
          "annotationdefaults": {
           "arrowcolor": "#2a3f5f",
           "arrowhead": 0,
           "arrowwidth": 1
          },
          "autotypenumbers": "strict",
          "coloraxis": {
           "colorbar": {
            "outlinewidth": 0,
            "ticks": ""
           }
          },
          "colorscale": {
           "diverging": [
            [
             0,
             "#8e0152"
            ],
            [
             0.1,
             "#c51b7d"
            ],
            [
             0.2,
             "#de77ae"
            ],
            [
             0.3,
             "#f1b6da"
            ],
            [
             0.4,
             "#fde0ef"
            ],
            [
             0.5,
             "#f7f7f7"
            ],
            [
             0.6,
             "#e6f5d0"
            ],
            [
             0.7,
             "#b8e186"
            ],
            [
             0.8,
             "#7fbc41"
            ],
            [
             0.9,
             "#4d9221"
            ],
            [
             1,
             "#276419"
            ]
           ],
           "sequential": [
            [
             0,
             "#0d0887"
            ],
            [
             0.1111111111111111,
             "#46039f"
            ],
            [
             0.2222222222222222,
             "#7201a8"
            ],
            [
             0.3333333333333333,
             "#9c179e"
            ],
            [
             0.4444444444444444,
             "#bd3786"
            ],
            [
             0.5555555555555556,
             "#d8576b"
            ],
            [
             0.6666666666666666,
             "#ed7953"
            ],
            [
             0.7777777777777778,
             "#fb9f3a"
            ],
            [
             0.8888888888888888,
             "#fdca26"
            ],
            [
             1,
             "#f0f921"
            ]
           ],
           "sequentialminus": [
            [
             0,
             "#0d0887"
            ],
            [
             0.1111111111111111,
             "#46039f"
            ],
            [
             0.2222222222222222,
             "#7201a8"
            ],
            [
             0.3333333333333333,
             "#9c179e"
            ],
            [
             0.4444444444444444,
             "#bd3786"
            ],
            [
             0.5555555555555556,
             "#d8576b"
            ],
            [
             0.6666666666666666,
             "#ed7953"
            ],
            [
             0.7777777777777778,
             "#fb9f3a"
            ],
            [
             0.8888888888888888,
             "#fdca26"
            ],
            [
             1,
             "#f0f921"
            ]
           ]
          },
          "colorway": [
           "#636efa",
           "#EF553B",
           "#00cc96",
           "#ab63fa",
           "#FFA15A",
           "#19d3f3",
           "#FF6692",
           "#B6E880",
           "#FF97FF",
           "#FECB52"
          ],
          "font": {
           "color": "#2a3f5f"
          },
          "geo": {
           "bgcolor": "white",
           "lakecolor": "white",
           "landcolor": "#E5ECF6",
           "showlakes": true,
           "showland": true,
           "subunitcolor": "white"
          },
          "hoverlabel": {
           "align": "left"
          },
          "hovermode": "closest",
          "mapbox": {
           "style": "light"
          },
          "paper_bgcolor": "white",
          "plot_bgcolor": "#E5ECF6",
          "polar": {
           "angularaxis": {
            "gridcolor": "white",
            "linecolor": "white",
            "ticks": ""
           },
           "bgcolor": "#E5ECF6",
           "radialaxis": {
            "gridcolor": "white",
            "linecolor": "white",
            "ticks": ""
           }
          },
          "scene": {
           "xaxis": {
            "backgroundcolor": "#E5ECF6",
            "gridcolor": "white",
            "gridwidth": 2,
            "linecolor": "white",
            "showbackground": true,
            "ticks": "",
            "zerolinecolor": "white"
           },
           "yaxis": {
            "backgroundcolor": "#E5ECF6",
            "gridcolor": "white",
            "gridwidth": 2,
            "linecolor": "white",
            "showbackground": true,
            "ticks": "",
            "zerolinecolor": "white"
           },
           "zaxis": {
            "backgroundcolor": "#E5ECF6",
            "gridcolor": "white",
            "gridwidth": 2,
            "linecolor": "white",
            "showbackground": true,
            "ticks": "",
            "zerolinecolor": "white"
           }
          },
          "shapedefaults": {
           "line": {
            "color": "#2a3f5f"
           }
          },
          "ternary": {
           "aaxis": {
            "gridcolor": "white",
            "linecolor": "white",
            "ticks": ""
           },
           "baxis": {
            "gridcolor": "white",
            "linecolor": "white",
            "ticks": ""
           },
           "bgcolor": "#E5ECF6",
           "caxis": {
            "gridcolor": "white",
            "linecolor": "white",
            "ticks": ""
           }
          },
          "title": {
           "x": 0.05
          },
          "xaxis": {
           "automargin": true,
           "gridcolor": "white",
           "linecolor": "white",
           "ticks": "",
           "title": {
            "standoff": 15
           },
           "zerolinecolor": "white",
           "zerolinewidth": 2
          },
          "yaxis": {
           "automargin": true,
           "gridcolor": "white",
           "linecolor": "white",
           "ticks": "",
           "title": {
            "standoff": 15
           },
           "zerolinecolor": "white",
           "zerolinewidth": 2
          }
         }
        },
        "updatemenus": [
         {
          "buttons": [
           {
            "args": [
             null,
             {
              "frame": {
               "duration": 500,
               "redraw": true
              },
              "fromcurrent": true,
              "mode": "immediate",
              "transition": {
               "duration": 500,
               "easing": "linear"
              }
             }
            ],
            "label": "&#9654;",
            "method": "animate"
           },
           {
            "args": [
             [
              null
             ],
             {
              "frame": {
               "duration": 0,
               "redraw": true
              },
              "fromcurrent": true,
              "mode": "immediate",
              "transition": {
               "duration": 0,
               "easing": "linear"
              }
             }
            ],
            "label": "&#9724;",
            "method": "animate"
           }
          ],
          "direction": "left",
          "pad": {
           "r": 10,
           "t": 70
          },
          "showactive": false,
          "type": "buttons",
          "x": 0.1,
          "xanchor": "right",
          "y": 0,
          "yanchor": "top"
         }
        ]
       }
      },
      "text/html": [
       "<div>                            <div id=\"71a2912c-99af-4f75-b515-dc26c4680bd2\" class=\"plotly-graph-div\" style=\"height:525px; width:100%;\"></div>            <script type=\"text/javascript\">                require([\"plotly\"], function(Plotly) {                    window.PLOTLYENV=window.PLOTLYENV || {};                                    if (document.getElementById(\"71a2912c-99af-4f75-b515-dc26c4680bd2\")) {                    Plotly.newPlot(                        \"71a2912c-99af-4f75-b515-dc26c4680bd2\",                        [{\"coloraxis\":\"coloraxis\",\"customdata\":[[11.0],[8.0],[5.0],[11.0],[8.0],[5.0],[5.0],[7.0],[8.0],[5.0],[4.0],[8.0],[7.0],[12.0],[10.0],[3.0],[4.0],[10.0],[5.0],[10.0],[6.0],[8.0],[10.0],[8.0],[8.0],[6.0],[2.0],[8.0],[10.0],[11.0],[11.0],[11.0],[10.0],[5.0],[10.0],[4.0],[6.0],[11.0],[6.0],[8.0],[3.0],[7.0],[11.0],[8.0],[6.0],[11.0],[4.0]],\"geo\":\"geo\",\"hovertemplate\":\"<b>%{hovertext}</b><br><br>Continent=Asia<br>ISO3=%{location}<br>NUMBER_VACCINES_TYPES_USED=%{z}<extra></extra>\",\"hovertext\":[\"Afghanistan\",\"Armenia\",\"Azerbaijan\",\"Bahrain\",\"Bangladesh\",\"Bhutan\",\"Brunei Darussalam\",\"Cambodia\",\"China\",\"Cyprus\",\"Georgia\",\"India\",\"Indonesia\",\"Iran\",\"Iraq\",\"Israel\",\"Japan\",\"Jordan\",\"Kazakhstan\",\"Kuwait\",\"Kyrgyzstan\",\"Lao People's Democratic Republic\",\"Lebanon\",\"Malaysia\",\"Maldives\",\"Mongolia\",\"Myanmar\",\"Nepal\",\"Palestine\",\"Oman\",\"Pakistan\",\"Philippines\",\"Qatar\",\"South Korea\",\"Saudi Arabia\",\"Singapore\",\"Sri Lanka\",\"Syrian Arab Republic\",\"Tajikistan\",\"Thailand\",\"Turkey\",\"Turkmenistan\",\"United Arab Emirates\",\"Uzbekistan\",\"Viet Nam\",\"Yemen\",\"Timor-Leste\"],\"locations\":[\"AFG\",\"ARM\",\"AZE\",\"BHR\",\"BGD\",\"BTN\",\"BRN\",\"KHM\",\"CHN\",\"CYP\",\"GEO\",\"IND\",\"IDN\",\"IRN\",\"IRQ\",\"ISR\",\"JPN\",\"JOR\",\"KAZ\",\"KWT\",\"KGZ\",\"LAO\",\"LBN\",\"MYS\",\"MDV\",\"MNG\",\"MMR\",\"NPL\",\"PSE\",\"OMN\",\"PAK\",\"PHL\",\"QAT\",\"KOR\",\"SAU\",\"SGP\",\"LKA\",\"SYR\",\"TJK\",\"THA\",\"TUR\",\"TKM\",\"ARE\",\"UZB\",\"VNM\",\"YEM\",\"TLS\"],\"name\":\"\",\"z\":[11.0,8.0,5.0,11.0,8.0,5.0,5.0,7.0,8.0,5.0,4.0,8.0,7.0,12.0,10.0,3.0,4.0,10.0,5.0,10.0,6.0,8.0,10.0,8.0,8.0,6.0,2.0,8.0,10.0,11.0,11.0,11.0,10.0,5.0,10.0,4.0,6.0,11.0,6.0,8.0,3.0,7.0,11.0,8.0,6.0,11.0,4.0],\"type\":\"choropleth\"}],                        {\"template\":{\"data\":{\"histogram2dcontour\":[{\"type\":\"histogram2dcontour\",\"colorbar\":{\"outlinewidth\":0,\"ticks\":\"\"},\"colorscale\":[[0.0,\"#0d0887\"],[0.1111111111111111,\"#46039f\"],[0.2222222222222222,\"#7201a8\"],[0.3333333333333333,\"#9c179e\"],[0.4444444444444444,\"#bd3786\"],[0.5555555555555556,\"#d8576b\"],[0.6666666666666666,\"#ed7953\"],[0.7777777777777778,\"#fb9f3a\"],[0.8888888888888888,\"#fdca26\"],[1.0,\"#f0f921\"]]}],\"choropleth\":[{\"type\":\"choropleth\",\"colorbar\":{\"outlinewidth\":0,\"ticks\":\"\"}}],\"histogram2d\":[{\"type\":\"histogram2d\",\"colorbar\":{\"outlinewidth\":0,\"ticks\":\"\"},\"colorscale\":[[0.0,\"#0d0887\"],[0.1111111111111111,\"#46039f\"],[0.2222222222222222,\"#7201a8\"],[0.3333333333333333,\"#9c179e\"],[0.4444444444444444,\"#bd3786\"],[0.5555555555555556,\"#d8576b\"],[0.6666666666666666,\"#ed7953\"],[0.7777777777777778,\"#fb9f3a\"],[0.8888888888888888,\"#fdca26\"],[1.0,\"#f0f921\"]]}],\"heatmap\":[{\"type\":\"heatmap\",\"colorbar\":{\"outlinewidth\":0,\"ticks\":\"\"},\"colorscale\":[[0.0,\"#0d0887\"],[0.1111111111111111,\"#46039f\"],[0.2222222222222222,\"#7201a8\"],[0.3333333333333333,\"#9c179e\"],[0.4444444444444444,\"#bd3786\"],[0.5555555555555556,\"#d8576b\"],[0.6666666666666666,\"#ed7953\"],[0.7777777777777778,\"#fb9f3a\"],[0.8888888888888888,\"#fdca26\"],[1.0,\"#f0f921\"]]}],\"heatmapgl\":[{\"type\":\"heatmapgl\",\"colorbar\":{\"outlinewidth\":0,\"ticks\":\"\"},\"colorscale\":[[0.0,\"#0d0887\"],[0.1111111111111111,\"#46039f\"],[0.2222222222222222,\"#7201a8\"],[0.3333333333333333,\"#9c179e\"],[0.4444444444444444,\"#bd3786\"],[0.5555555555555556,\"#d8576b\"],[0.6666666666666666,\"#ed7953\"],[0.7777777777777778,\"#fb9f3a\"],[0.8888888888888888,\"#fdca26\"],[1.0,\"#f0f921\"]]}],\"contourcarpet\":[{\"type\":\"contourcarpet\",\"colorbar\":{\"outlinewidth\":0,\"ticks\":\"\"}}],\"contour\":[{\"type\":\"contour\",\"colorbar\":{\"outlinewidth\":0,\"ticks\":\"\"},\"colorscale\":[[0.0,\"#0d0887\"],[0.1111111111111111,\"#46039f\"],[0.2222222222222222,\"#7201a8\"],[0.3333333333333333,\"#9c179e\"],[0.4444444444444444,\"#bd3786\"],[0.5555555555555556,\"#d8576b\"],[0.6666666666666666,\"#ed7953\"],[0.7777777777777778,\"#fb9f3a\"],[0.8888888888888888,\"#fdca26\"],[1.0,\"#f0f921\"]]}],\"surface\":[{\"type\":\"surface\",\"colorbar\":{\"outlinewidth\":0,\"ticks\":\"\"},\"colorscale\":[[0.0,\"#0d0887\"],[0.1111111111111111,\"#46039f\"],[0.2222222222222222,\"#7201a8\"],[0.3333333333333333,\"#9c179e\"],[0.4444444444444444,\"#bd3786\"],[0.5555555555555556,\"#d8576b\"],[0.6666666666666666,\"#ed7953\"],[0.7777777777777778,\"#fb9f3a\"],[0.8888888888888888,\"#fdca26\"],[1.0,\"#f0f921\"]]}],\"mesh3d\":[{\"type\":\"mesh3d\",\"colorbar\":{\"outlinewidth\":0,\"ticks\":\"\"}}],\"scatter\":[{\"fillpattern\":{\"fillmode\":\"overlay\",\"size\":10,\"solidity\":0.2},\"type\":\"scatter\"}],\"parcoords\":[{\"type\":\"parcoords\",\"line\":{\"colorbar\":{\"outlinewidth\":0,\"ticks\":\"\"}}}],\"scatterpolargl\":[{\"type\":\"scatterpolargl\",\"marker\":{\"colorbar\":{\"outlinewidth\":0,\"ticks\":\"\"}}}],\"bar\":[{\"error_x\":{\"color\":\"#2a3f5f\"},\"error_y\":{\"color\":\"#2a3f5f\"},\"marker\":{\"line\":{\"color\":\"#E5ECF6\",\"width\":0.5},\"pattern\":{\"fillmode\":\"overlay\",\"size\":10,\"solidity\":0.2}},\"type\":\"bar\"}],\"scattergeo\":[{\"type\":\"scattergeo\",\"marker\":{\"colorbar\":{\"outlinewidth\":0,\"ticks\":\"\"}}}],\"scatterpolar\":[{\"type\":\"scatterpolar\",\"marker\":{\"colorbar\":{\"outlinewidth\":0,\"ticks\":\"\"}}}],\"histogram\":[{\"marker\":{\"pattern\":{\"fillmode\":\"overlay\",\"size\":10,\"solidity\":0.2}},\"type\":\"histogram\"}],\"scattergl\":[{\"type\":\"scattergl\",\"marker\":{\"colorbar\":{\"outlinewidth\":0,\"ticks\":\"\"}}}],\"scatter3d\":[{\"type\":\"scatter3d\",\"line\":{\"colorbar\":{\"outlinewidth\":0,\"ticks\":\"\"}},\"marker\":{\"colorbar\":{\"outlinewidth\":0,\"ticks\":\"\"}}}],\"scattermapbox\":[{\"type\":\"scattermapbox\",\"marker\":{\"colorbar\":{\"outlinewidth\":0,\"ticks\":\"\"}}}],\"scatterternary\":[{\"type\":\"scatterternary\",\"marker\":{\"colorbar\":{\"outlinewidth\":0,\"ticks\":\"\"}}}],\"scattercarpet\":[{\"type\":\"scattercarpet\",\"marker\":{\"colorbar\":{\"outlinewidth\":0,\"ticks\":\"\"}}}],\"carpet\":[{\"aaxis\":{\"endlinecolor\":\"#2a3f5f\",\"gridcolor\":\"white\",\"linecolor\":\"white\",\"minorgridcolor\":\"white\",\"startlinecolor\":\"#2a3f5f\"},\"baxis\":{\"endlinecolor\":\"#2a3f5f\",\"gridcolor\":\"white\",\"linecolor\":\"white\",\"minorgridcolor\":\"white\",\"startlinecolor\":\"#2a3f5f\"},\"type\":\"carpet\"}],\"table\":[{\"cells\":{\"fill\":{\"color\":\"#EBF0F8\"},\"line\":{\"color\":\"white\"}},\"header\":{\"fill\":{\"color\":\"#C8D4E3\"},\"line\":{\"color\":\"white\"}},\"type\":\"table\"}],\"barpolar\":[{\"marker\":{\"line\":{\"color\":\"#E5ECF6\",\"width\":0.5},\"pattern\":{\"fillmode\":\"overlay\",\"size\":10,\"solidity\":0.2}},\"type\":\"barpolar\"}],\"pie\":[{\"automargin\":true,\"type\":\"pie\"}]},\"layout\":{\"autotypenumbers\":\"strict\",\"colorway\":[\"#636efa\",\"#EF553B\",\"#00cc96\",\"#ab63fa\",\"#FFA15A\",\"#19d3f3\",\"#FF6692\",\"#B6E880\",\"#FF97FF\",\"#FECB52\"],\"font\":{\"color\":\"#2a3f5f\"},\"hovermode\":\"closest\",\"hoverlabel\":{\"align\":\"left\"},\"paper_bgcolor\":\"white\",\"plot_bgcolor\":\"#E5ECF6\",\"polar\":{\"bgcolor\":\"#E5ECF6\",\"angularaxis\":{\"gridcolor\":\"white\",\"linecolor\":\"white\",\"ticks\":\"\"},\"radialaxis\":{\"gridcolor\":\"white\",\"linecolor\":\"white\",\"ticks\":\"\"}},\"ternary\":{\"bgcolor\":\"#E5ECF6\",\"aaxis\":{\"gridcolor\":\"white\",\"linecolor\":\"white\",\"ticks\":\"\"},\"baxis\":{\"gridcolor\":\"white\",\"linecolor\":\"white\",\"ticks\":\"\"},\"caxis\":{\"gridcolor\":\"white\",\"linecolor\":\"white\",\"ticks\":\"\"}},\"coloraxis\":{\"colorbar\":{\"outlinewidth\":0,\"ticks\":\"\"}},\"colorscale\":{\"sequential\":[[0.0,\"#0d0887\"],[0.1111111111111111,\"#46039f\"],[0.2222222222222222,\"#7201a8\"],[0.3333333333333333,\"#9c179e\"],[0.4444444444444444,\"#bd3786\"],[0.5555555555555556,\"#d8576b\"],[0.6666666666666666,\"#ed7953\"],[0.7777777777777778,\"#fb9f3a\"],[0.8888888888888888,\"#fdca26\"],[1.0,\"#f0f921\"]],\"sequentialminus\":[[0.0,\"#0d0887\"],[0.1111111111111111,\"#46039f\"],[0.2222222222222222,\"#7201a8\"],[0.3333333333333333,\"#9c179e\"],[0.4444444444444444,\"#bd3786\"],[0.5555555555555556,\"#d8576b\"],[0.6666666666666666,\"#ed7953\"],[0.7777777777777778,\"#fb9f3a\"],[0.8888888888888888,\"#fdca26\"],[1.0,\"#f0f921\"]],\"diverging\":[[0,\"#8e0152\"],[0.1,\"#c51b7d\"],[0.2,\"#de77ae\"],[0.3,\"#f1b6da\"],[0.4,\"#fde0ef\"],[0.5,\"#f7f7f7\"],[0.6,\"#e6f5d0\"],[0.7,\"#b8e186\"],[0.8,\"#7fbc41\"],[0.9,\"#4d9221\"],[1,\"#276419\"]]},\"xaxis\":{\"gridcolor\":\"white\",\"linecolor\":\"white\",\"ticks\":\"\",\"title\":{\"standoff\":15},\"zerolinecolor\":\"white\",\"automargin\":true,\"zerolinewidth\":2},\"yaxis\":{\"gridcolor\":\"white\",\"linecolor\":\"white\",\"ticks\":\"\",\"title\":{\"standoff\":15},\"zerolinecolor\":\"white\",\"automargin\":true,\"zerolinewidth\":2},\"scene\":{\"xaxis\":{\"backgroundcolor\":\"#E5ECF6\",\"gridcolor\":\"white\",\"linecolor\":\"white\",\"showbackground\":true,\"ticks\":\"\",\"zerolinecolor\":\"white\",\"gridwidth\":2},\"yaxis\":{\"backgroundcolor\":\"#E5ECF6\",\"gridcolor\":\"white\",\"linecolor\":\"white\",\"showbackground\":true,\"ticks\":\"\",\"zerolinecolor\":\"white\",\"gridwidth\":2},\"zaxis\":{\"backgroundcolor\":\"#E5ECF6\",\"gridcolor\":\"white\",\"linecolor\":\"white\",\"showbackground\":true,\"ticks\":\"\",\"zerolinecolor\":\"white\",\"gridwidth\":2}},\"shapedefaults\":{\"line\":{\"color\":\"#2a3f5f\"}},\"annotationdefaults\":{\"arrowcolor\":\"#2a3f5f\",\"arrowhead\":0,\"arrowwidth\":1},\"geo\":{\"bgcolor\":\"white\",\"landcolor\":\"#E5ECF6\",\"subunitcolor\":\"white\",\"showland\":true,\"showlakes\":true,\"lakecolor\":\"white\"},\"title\":{\"x\":0.05},\"mapbox\":{\"style\":\"light\"}}},\"geo\":{\"domain\":{\"x\":[0.0,1.0],\"y\":[0.0,1.0]},\"center\":{}},\"coloraxis\":{\"colorbar\":{\"title\":{\"text\":\"NUMBER_VACCINES_TYPES_USED\"}},\"colorscale\":[[0.0,\"#0d0887\"],[0.1111111111111111,\"#46039f\"],[0.2222222222222222,\"#7201a8\"],[0.3333333333333333,\"#9c179e\"],[0.4444444444444444,\"#bd3786\"],[0.5555555555555556,\"#d8576b\"],[0.6666666666666666,\"#ed7953\"],[0.7777777777777778,\"#fb9f3a\"],[0.8888888888888888,\"#fdca26\"],[1.0,\"#f0f921\"]]},\"legend\":{\"tracegroupgap\":0},\"margin\":{\"t\":60},\"updatemenus\":[{\"buttons\":[{\"args\":[null,{\"frame\":{\"duration\":500,\"redraw\":true},\"mode\":\"immediate\",\"fromcurrent\":true,\"transition\":{\"duration\":500,\"easing\":\"linear\"}}],\"label\":\"&#9654;\",\"method\":\"animate\"},{\"args\":[[null],{\"frame\":{\"duration\":0,\"redraw\":true},\"mode\":\"immediate\",\"fromcurrent\":true,\"transition\":{\"duration\":0,\"easing\":\"linear\"}}],\"label\":\"&#9724;\",\"method\":\"animate\"}],\"direction\":\"left\",\"pad\":{\"r\":10,\"t\":70},\"showactive\":false,\"type\":\"buttons\",\"x\":0.1,\"xanchor\":\"right\",\"y\":0,\"yanchor\":\"top\"}],\"sliders\":[{\"active\":0,\"currentvalue\":{\"prefix\":\"Continent=\"},\"len\":0.9,\"pad\":{\"b\":10,\"t\":60},\"steps\":[{\"args\":[[\"Asia\"],{\"frame\":{\"duration\":0,\"redraw\":true},\"mode\":\"immediate\",\"fromcurrent\":true,\"transition\":{\"duration\":0,\"easing\":\"linear\"}}],\"label\":\"Asia\",\"method\":\"animate\"},{\"args\":[[\"Europe\"],{\"frame\":{\"duration\":0,\"redraw\":true},\"mode\":\"immediate\",\"fromcurrent\":true,\"transition\":{\"duration\":0,\"easing\":\"linear\"}}],\"label\":\"Europe\",\"method\":\"animate\"},{\"args\":[[\"Africa\"],{\"frame\":{\"duration\":0,\"redraw\":true},\"mode\":\"immediate\",\"fromcurrent\":true,\"transition\":{\"duration\":0,\"easing\":\"linear\"}}],\"label\":\"Africa\",\"method\":\"animate\"},{\"args\":[[\"North America\"],{\"frame\":{\"duration\":0,\"redraw\":true},\"mode\":\"immediate\",\"fromcurrent\":true,\"transition\":{\"duration\":0,\"easing\":\"linear\"}}],\"label\":\"North America\",\"method\":\"animate\"},{\"args\":[[\"South America\"],{\"frame\":{\"duration\":0,\"redraw\":true},\"mode\":\"immediate\",\"fromcurrent\":true,\"transition\":{\"duration\":0,\"easing\":\"linear\"}}],\"label\":\"South America\",\"method\":\"animate\"},{\"args\":[[\"Oceania\"],{\"frame\":{\"duration\":0,\"redraw\":true},\"mode\":\"immediate\",\"fromcurrent\":true,\"transition\":{\"duration\":0,\"easing\":\"linear\"}}],\"label\":\"Oceania\",\"method\":\"animate\"}],\"x\":0.1,\"xanchor\":\"left\",\"y\":0,\"yanchor\":\"top\"}]},                        {\"responsive\": true}                    ).then(function(){\n",
       "                            Plotly.addFrames('71a2912c-99af-4f75-b515-dc26c4680bd2', [{\"data\":[{\"coloraxis\":\"coloraxis\",\"customdata\":[[11.0],[8.0],[5.0],[11.0],[8.0],[5.0],[5.0],[7.0],[8.0],[5.0],[4.0],[8.0],[7.0],[12.0],[10.0],[3.0],[4.0],[10.0],[5.0],[10.0],[6.0],[8.0],[10.0],[8.0],[8.0],[6.0],[2.0],[8.0],[10.0],[11.0],[11.0],[11.0],[10.0],[5.0],[10.0],[4.0],[6.0],[11.0],[6.0],[8.0],[3.0],[7.0],[11.0],[8.0],[6.0],[11.0],[4.0]],\"geo\":\"geo\",\"hovertemplate\":\"<b>%{hovertext}</b><br><br>Continent=Asia<br>ISO3=%{location}<br>NUMBER_VACCINES_TYPES_USED=%{z}<extra></extra>\",\"hovertext\":[\"Afghanistan\",\"Armenia\",\"Azerbaijan\",\"Bahrain\",\"Bangladesh\",\"Bhutan\",\"Brunei Darussalam\",\"Cambodia\",\"China\",\"Cyprus\",\"Georgia\",\"India\",\"Indonesia\",\"Iran\",\"Iraq\",\"Israel\",\"Japan\",\"Jordan\",\"Kazakhstan\",\"Kuwait\",\"Kyrgyzstan\",\"Lao People's Democratic Republic\",\"Lebanon\",\"Malaysia\",\"Maldives\",\"Mongolia\",\"Myanmar\",\"Nepal\",\"Palestine\",\"Oman\",\"Pakistan\",\"Philippines\",\"Qatar\",\"South Korea\",\"Saudi Arabia\",\"Singapore\",\"Sri Lanka\",\"Syrian Arab Republic\",\"Tajikistan\",\"Thailand\",\"Turkey\",\"Turkmenistan\",\"United Arab Emirates\",\"Uzbekistan\",\"Viet Nam\",\"Yemen\",\"Timor-Leste\"],\"locations\":[\"AFG\",\"ARM\",\"AZE\",\"BHR\",\"BGD\",\"BTN\",\"BRN\",\"KHM\",\"CHN\",\"CYP\",\"GEO\",\"IND\",\"IDN\",\"IRN\",\"IRQ\",\"ISR\",\"JPN\",\"JOR\",\"KAZ\",\"KWT\",\"KGZ\",\"LAO\",\"LBN\",\"MYS\",\"MDV\",\"MNG\",\"MMR\",\"NPL\",\"PSE\",\"OMN\",\"PAK\",\"PHL\",\"QAT\",\"KOR\",\"SAU\",\"SGP\",\"LKA\",\"SYR\",\"TJK\",\"THA\",\"TUR\",\"TKM\",\"ARE\",\"UZB\",\"VNM\",\"YEM\",\"TLS\"],\"name\":\"\",\"z\":[11.0,8.0,5.0,11.0,8.0,5.0,5.0,7.0,8.0,5.0,4.0,8.0,7.0,12.0,10.0,3.0,4.0,10.0,5.0,10.0,6.0,8.0,10.0,8.0,8.0,6.0,2.0,8.0,10.0,11.0,11.0,11.0,10.0,5.0,10.0,4.0,6.0,11.0,6.0,8.0,3.0,7.0,11.0,8.0,6.0,11.0,4.0],\"type\":\"choropleth\"}],\"name\":\"Asia\"},{\"data\":[{\"coloraxis\":\"coloraxis\",\"customdata\":[[5.0],[3.0],[10.0],[4.0],[4.0],[4.0],[4.0],[6.0],[7.0],[5.0],[8.0],[2.0],[5.0],[6.0],[9.0],[2.0],[7.0],[3.0],[8.0],[5.0],[5.0],[3.0],[8.0],[3.0],[5.0],[3.0],[5.0],[8.0],[4.0],[7.0],[5.0],[6.0],[7.0],[4.0],[5.0],[11.0],[7.0],[4.0],[2.0],[2.0],[5.0],[7.0],[6.0],[4.0],[5.0],[6.0],[3.0],[6.0],[2.0]],\"geo\":\"geo\",\"hovertemplate\":\"<b>%{hovertext}</b><br><br>Continent=Europe<br>ISO3=%{location}<br>NUMBER_VACCINES_TYPES_USED=%{z}<extra></extra>\",\"hovertext\":[\"Albania\",\"Andorra\",\"Austria\",\"Belarus\",\"Belgium\",\"Bosnia and Herzegovina\",\"Bulgaria\",\"Croatia\",\"Czechia\",\"Denmark\",\"Estonia\",\"Faroe Islands\",\"Finland\",\"France\",\"Germany\",\"Gibraltar\",\"Greece\",\"Guernsey\",\"Hungary\",\"Iceland\",\"Ireland\",\"Isle of Man\",\"Italy\",\"Jersey\",\"Latvia\",\"Liechtenstein\",\"Lithuania\",\"Luxembourg\",\"Malta\",\"Monaco\",\"Montenegro\",\"Netherlands\",\"North Macedonia\",\"Norway\",\"Poland\",\"Portugal\",\"Republic of Moldova\",\"Romania\",\"Russian Federation\",\"San Marino\",\"Serbia\",\"Slovakia\",\"Slovenia\",\"Spain\",\"Sweden\",\"Switzerland\",\"United Kingdom\",\"Ukraine\",\"Kosovo\"],\"locations\":[\"ALB\",\"AND\",\"AUT\",\"BLR\",\"BEL\",\"BIH\",\"BGR\",\"HRV\",\"CZE\",\"DNK\",\"EST\",\"FRO\",\"FIN\",\"FRA\",\"DEU\",\"GIB\",\"GRC\",\"GGY\",\"HUN\",\"ISL\",\"IRL\",\"IMN\",\"ITA\",\"JEY\",\"LVA\",\"LIE\",\"LTU\",\"LUX\",\"MLT\",\"MCO\",\"MNE\",\"NLD\",\"MKD\",\"NOR\",\"POL\",\"PRT\",\"MDA\",\"ROU\",\"RUS\",\"SMR\",\"SRB\",\"SVK\",\"SVN\",\"ESP\",\"SWE\",\"CHE\",\"GBR\",\"UKR\",\"XKX\"],\"name\":\"\",\"z\":[5.0,3.0,10.0,4.0,4.0,4.0,4.0,6.0,7.0,5.0,8.0,2.0,5.0,6.0,9.0,2.0,7.0,3.0,8.0,5.0,5.0,3.0,8.0,3.0,5.0,3.0,5.0,8.0,4.0,7.0,5.0,6.0,7.0,4.0,5.0,11.0,7.0,4.0,2.0,2.0,5.0,7.0,6.0,4.0,5.0,6.0,3.0,6.0,2.0],\"type\":\"choropleth\"}],\"name\":\"Europe\"},{\"data\":[{\"coloraxis\":\"coloraxis\",\"customdata\":[[4.0],[1.0],[5.0],[6.0],[3.0],[1.0],[4.0],[4.0],[2.0],[1.0],[3.0],[4.0],[5.0],[1.0],[11.0],[10.0],[2.0],[3.0],[4.0],[3.0],[2.0],[2.0],[6.0],[2.0],[5.0],[3.0],[1.0],[10.0],[3.0],[2.0],[1.0],[2.0],[3.0],[10.0],[3.0],[4.0],[2.0],[1.0],[7.0],[1.0],[2.0],[3.0],[4.0],[2.0],[11.0],[2.0],[2.0],[11.0],[1.0],[10.0],[5.0],[3.0],[3.0],[4.0]],\"geo\":\"geo\",\"hovertemplate\":\"<b>%{hovertext}</b><br><br>Continent=Africa<br>ISO3=%{location}<br>NUMBER_VACCINES_TYPES_USED=%{z}<extra></extra>\",\"hovertext\":[\"Algeria\",\"Angola\",\"Benin\",\"Botswana\",\"Burkina Faso\",\"Burundi\",\"Cabo Verde\",\"Cameroon\",\"Central African Republic\",\"Chad\",\"Comoros\",\"Congo\",\"Ivory Coast\",\"Democratic Republic of the Congo\",\"Djibouti\",\"Egypt\",\"Equatorial Guinea\",\"Eswatini\",\"Ethiopia\",\"Gabon\",\"Gambia\",\"Ghana\",\"Guinea\",\"Guinea-Bissau\",\"Kenya\",\"Lesotho\",\"Liberia\",\"Libya\",\"Madagascar\",\"Malawi\",\"Mali\",\"Mauritania\",\"Mauritius\",\"Morocco\",\"Mozambique\",\"Namibia\",\"Niger\",\"Nigeria\",\"Rwanda\",\"Saint Helena, Ascension and Tristan da Cunha\",\"Sao Tome and Principe\",\"Senegal\",\"Seychelles\",\"Sierra Leone\",\"Somalia\",\"South Africa\",\"South Sudan\",\"Sudan\",\"Togo\",\"Tunisia\",\"Uganda\",\"United Republic of Tanzania\",\"Zambia\",\"Zimbabwe\"],\"locations\":[\"DZA\",\"AGO\",\"BEN\",\"BWA\",\"BFA\",\"BDI\",\"CPV\",\"CMR\",\"CAF\",\"TCD\",\"COM\",\"COG\",\"CIV\",\"COD\",\"DJI\",\"EGY\",\"GNQ\",\"SWZ\",\"ETH\",\"GAB\",\"GMB\",\"GHA\",\"GIN\",\"GNB\",\"KEN\",\"LSO\",\"LBR\",\"LBY\",\"MDG\",\"MWI\",\"MLI\",\"MRT\",\"MUS\",\"MAR\",\"MOZ\",\"NAM\",\"NER\",\"NGA\",\"RWA\",\"SHN\",\"STP\",\"SEN\",\"SYC\",\"SLE\",\"SOM\",\"ZAF\",\"SSD\",\"SDN\",\"TGO\",\"TUN\",\"UGA\",\"TZA\",\"ZMB\",\"ZWE\"],\"name\":\"\",\"z\":[4.0,1.0,5.0,6.0,3.0,1.0,4.0,4.0,2.0,1.0,3.0,4.0,5.0,1.0,11.0,10.0,2.0,3.0,4.0,3.0,2.0,2.0,6.0,2.0,5.0,3.0,1.0,10.0,3.0,2.0,1.0,2.0,3.0,10.0,3.0,4.0,2.0,1.0,7.0,1.0,2.0,3.0,4.0,2.0,11.0,2.0,2.0,11.0,1.0,10.0,5.0,3.0,3.0,4.0],\"type\":\"choropleth\"}],\"name\":\"Africa\"},{\"data\":[{\"coloraxis\":\"coloraxis\",\"customdata\":[[2.0],[6.0],[2.0],[4.0],[5.0],[5.0],[3.0],[2.0],[2.0],[2.0],[5.0],[1.0],[3.0],[3.0],[3.0],[5.0],[3.0],[6.0],[1.0],[5.0],[5.0],[2.0],[6.0],[5.0],[7.0],[1.0],[9.0],[2.0],[3.0],[5.0],[5.0],[5.0],[1.0],[4.0],[3.0]],\"geo\":\"geo\",\"hovertemplate\":\"<b>%{hovertext}</b><br><br>Continent=North America<br>ISO3=%{location}<br>NUMBER_VACCINES_TYPES_USED=%{z}<extra></extra>\",\"hovertext\":[\"Anguilla\",\"Antigua and Barbuda\",\"Aruba\",\"Bahamas\",\"Barbados\",\"Belize\",\"Bermuda\",\"Bonaire\",\"Bonaire, Sint Eustatius and Saba\",\"British Virgin Islands\",\"Canada\",\"Cayman Islands\",\"Costa Rica\",\"Cuba\",\"Cura\\u00e7ao\",\"Dominica\",\"Dominican Republic\",\"El Salvador\",\"Greenland\",\"Grenada\",\"Guatemala\",\"Haiti\",\"Honduras\",\"Jamaica\",\"Mexico\",\"Montserrat\",\"Nicaragua\",\"Panama\",\"Saint Kitts and Nevis\",\"Saint Lucia\",\"Saint Vincent and the Grenadines\",\"Trinidad and Tobago\",\"Turks and Caicos Islands\",\"United States of America\",\"Sint Maarten\"],\"locations\":[\"AIA\",\"ATG\",\"ABW\",\"BHS\",\"BRB\",\"BLZ\",\"BMU\",\"XAA\",\"BES\",\"VGB\",\"CAN\",\"CYM\",\"CRI\",\"CUB\",\"CUW\",\"DMA\",\"DOM\",\"SLV\",\"GRL\",\"GRD\",\"GTM\",\"HTI\",\"HND\",\"JAM\",\"MEX\",\"MSR\",\"NIC\",\"PAN\",\"KNA\",\"LCA\",\"VCT\",\"TTO\",\"TCA\",\"USA\",\"SXM\"],\"name\":\"\",\"z\":[2.0,6.0,2.0,4.0,5.0,5.0,3.0,2.0,2.0,2.0,5.0,1.0,3.0,3.0,3.0,5.0,3.0,6.0,1.0,5.0,5.0,2.0,6.0,5.0,7.0,1.0,9.0,2.0,3.0,5.0,5.0,5.0,1.0,4.0,3.0],\"type\":\"choropleth\"}],\"name\":\"North America\"},{\"data\":[{\"coloraxis\":\"coloraxis\",\"customdata\":[[7.0],[7.0],[5.0],[5.0],[5.0],[4.0],[1.0],[2.0],[7.0],[8.0],[4.0],[5.0],[3.0],[6.0]],\"geo\":\"geo\",\"hovertemplate\":\"<b>%{hovertext}</b><br><br>Continent=South America<br>ISO3=%{location}<br>NUMBER_VACCINES_TYPES_USED=%{z}<extra></extra>\",\"hovertext\":[\"Argentina\",\"Bolivia\",\"Brazil\",\"Chile\",\"Colombia\",\"Ecuador\",\"Falkland Islands (Malvinas)\",\"French Guiana\",\"Guyana\",\"Paraguay\",\"Peru\",\"Suriname\",\"Uruguay\",\"Venezuela\"],\"locations\":[\"ARG\",\"BOL\",\"BRA\",\"CHL\",\"COL\",\"ECU\",\"FLK\",\"GUF\",\"GUY\",\"PRY\",\"PER\",\"SUR\",\"URY\",\"VEN\"],\"name\":\"\",\"z\":[7.0,7.0,5.0,5.0,5.0,4.0,1.0,2.0,7.0,8.0,4.0,5.0,3.0,6.0],\"type\":\"choropleth\"}],\"name\":\"South America\"},{\"data\":[{\"coloraxis\":\"coloraxis\",\"customdata\":[[5.0],[1.0],[3.0],[2.0],[2.0],[2.0],[2.0],[4.0],[1.0],[4.0],[2.0],[4.0],[1.0],[2.0],[1.0],[3.0],[1.0],[1.0]],\"geo\":\"geo\",\"hovertemplate\":\"<b>%{hovertext}</b><br><br>Continent=Oceania<br>ISO3=%{location}<br>NUMBER_VACCINES_TYPES_USED=%{z}<extra></extra>\",\"hovertext\":[\"Australia\",\"Cook Islands\",\"Fiji\",\"French Polynesia\",\"Kiribati\",\"Nauru\",\"New Caledonia\",\"New Zealand\",\"Niue\",\"Papua New Guinea\",\"Samoa\",\"Solomon Islands\",\"Tokelau\",\"Tonga\",\"Tuvalu\",\"Vanuatu\",\"Wallis and Futuna\",\"Pitcairn Islands\"],\"locations\":[\"AUS\",\"COK\",\"FJI\",\"PYF\",\"KIR\",\"NRU\",\"NCL\",\"NZL\",\"NIU\",\"PNG\",\"WSM\",\"SLB\",\"TKL\",\"TON\",\"TUV\",\"VUT\",\"WLF\",\"PCN\"],\"name\":\"\",\"z\":[5.0,1.0,3.0,2.0,2.0,2.0,2.0,4.0,1.0,4.0,2.0,4.0,1.0,2.0,1.0,3.0,1.0,1.0],\"type\":\"choropleth\"}],\"name\":\"Oceania\"}]);\n",
       "                        }).then(function(){\n",
       "                            \n",
       "var gd = document.getElementById('71a2912c-99af-4f75-b515-dc26c4680bd2');\n",
       "var x = new MutationObserver(function (mutations, observer) {{\n",
       "        var display = window.getComputedStyle(gd).display;\n",
       "        if (!display || display === 'none') {{\n",
       "            console.log([gd, 'removed!']);\n",
       "            Plotly.purge(gd);\n",
       "            observer.disconnect();\n",
       "        }}\n",
       "}});\n",
       "\n",
       "// Listen for the removal of the full notebook cells\n",
       "var notebookContainer = gd.closest('#notebook-container');\n",
       "if (notebookContainer) {{\n",
       "    x.observe(notebookContainer, {childList: true});\n",
       "}}\n",
       "\n",
       "// Listen for the clearing of the current output cell\n",
       "var outputEl = gd.closest('.output');\n",
       "if (outputEl) {{\n",
       "    x.observe(outputEl, {childList: true});\n",
       "}}\n",
       "\n",
       "                        })                };                });            </script>        </div>"
      ]
     },
     "metadata": {},
     "output_type": "display_data"
    }
   ],
   "source": [
    "fig = px.choropleth(df_new,\n",
    "                    locations='ISO3',\n",
    "                    color='NUMBER_VACCINES_TYPES_USED',\n",
    "                    hover_name='COUNTRY',\n",
    "                    hover_data=['NUMBER_VACCINES_TYPES_USED'],\n",
    "                    animation_frame='Continent'\n",
    ")\n",
    "fig.show()"
   ]
  },
  {
   "cell_type": "code",
   "execution_count": 20,
   "id": "22c1be87",
   "metadata": {
    "extensions": {
     "jupyter_dashboards": {
      "version": 1,
      "views": {
       "grid_default": {},
       "report_default": {
        "hidden": false
       }
      }
     }
    }
   },
   "outputs": [
    {
     "name": "stdout",
     "output_type": "stream",
     "text": [
      "{'Asia', 'Europe', 'North America', 'Africa', 'South America', 'Oceania'}\n"
     ]
    }
   ],
   "source": [
    "# Find the continents that are in the column continent\n",
    "all_continent = df_new['Continent']\n",
    "continent_list = []\n",
    "for i in all_continent:\n",
    "    if i not in continent_list:\n",
    "        continent_list.append(i)\n",
    "countries = set(continent_list)\n",
    "print(countries)"
   ]
  },
  {
   "cell_type": "markdown",
   "id": "43981301",
   "metadata": {
    "extensions": {
     "jupyter_dashboards": {
      "version": 1,
      "views": {
       "grid_default": {},
       "report_default": {
        "hidden": false
       }
      }
     }
    }
   },
   "source": [
    "# Number of Vaccines Used and % Vaccinated Scatter Plot\n",
    "## Are more people vaccinated as there are more vaccines?"
   ]
  },
  {
   "cell_type": "markdown",
   "id": "f7d0d279",
   "metadata": {
    "extensions": {
     "jupyter_dashboards": {
      "version": 1,
      "views": {
       "grid_default": {},
       "report_default": {
        "hidden": false
       }
      }
     }
    }
   },
   "source": [
    "## We see that even with more vaccines around it does not mean that there is going to be more people vaccinated which we see especially in Africa that even if they have one vaccine, there are some countries that have more people vaccinated with one vaccine than a country that has more than 10. In some cases there are some that have more vaccines and more people are vaccinated compared to other countries. Such include some countries in Asia as there are more vaccines, more people are likely to be vaccinated but not all countries are like that."
   ]
  },
  {
   "cell_type": "code",
   "execution_count": 21,
   "id": "74e76bdb",
   "metadata": {
    "extensions": {
     "jupyter_dashboards": {
      "version": 1,
      "views": {
       "grid_default": {},
       "report_default": {
        "hidden": false
       }
      }
     }
    }
   },
   "outputs": [
    {
     "data": {
      "application/vnd.jupyter.widget-view+json": {
       "model_id": "86dc8c90bae44fe4a14e9869f5045ea2",
       "version_major": 2,
       "version_minor": 0
      },
      "text/plain": [
       "interactive(children=(Dropdown(description='Continents:', layout=Layout(width='300px'), options=('Asia', 'Euro…"
      ]
     },
     "metadata": {},
     "output_type": "display_data"
    },
    {
     "data": {
      "text/plain": [
       "<function __main__.cont_vac(countr_vac)>"
      ]
     },
     "execution_count": 21,
     "metadata": {},
     "output_type": "execute_result"
    }
   ],
   "source": [
    "# Using the continents find out the number of vaccines and the vaccines used and % vaccinated in each continent\n",
    "data_num = {}\n",
    "for i in countries:\n",
    "    # find the country, number of vaccines and vaccines used in a continent along with population vaccinated\n",
    "    af_num = df_new.loc[df_new['Continent']== i, ['COUNTRY', 'NUMBER_VACCINES_TYPES_USED', 'VACCINES_USED']]\n",
    "    os_num = df_new.loc[df_new['Continent']== i, ['COUNTRY', '% Population vaccinated']]\n",
    "    # create a scatter plot of the vaccinations\n",
    "    data_num[i] = go.Scatter(\n",
    "            x=af_num['NUMBER_VACCINES_TYPES_USED'], \n",
    "            y=os_num['% Population vaccinated'], \n",
    "            name=\"Number of Vaccinations vs People Vaccinated\", \n",
    "            mode='markers', \n",
    "            marker=dict(size=8), \n",
    "            text=af_num['COUNTRY'] + '<br>' + af_num['VACCINES_USED']\n",
    "        )\n",
    "layout_num = go.Layout(title='Number of Vaccinations vs People Vaccinated', legend_title='Vaccination Status', xaxis_title='Number of Vaccines', yaxis_title='% Vaccinated')\n",
    "\n",
    "def cont_vac(countr_vac):\n",
    "    fig_num = go.Figure(data=data_num[countr_vac], layout=layout_num)\n",
    "    fig_num.show()\n",
    "\n",
    "# create a widget of each continent to find the information\n",
    "countr_vac1 = widgets.Dropdown(options=countries,\n",
    "                                    description='Continents:', \n",
    "                                    layout={'width': '300px'})\n",
    "\n",
    "# Attach the cont_vac function to the dropdown widget\n",
    "widgets.interact(cont_vac, countr_vac=countr_vac1)\n",
    "    "
   ]
  },
  {
   "cell_type": "code",
   "execution_count": 22,
   "id": "87e153e1",
   "metadata": {
    "extensions": {
     "jupyter_dashboards": {
      "version": 1,
      "views": {
       "grid_default": {},
       "report_default": {
        "hidden": false
       }
      }
     }
    }
   },
   "outputs": [],
   "source": [
    "# find number of countries in each continent\n",
    "countries_by_continent = df_new.groupby('Continent')['COUNTRY'].nunique()\n",
    "# for continent, num_countries in countries_by_continent.items():\n",
    "#     print(f\"{continent}: {num_countries}\")"
   ]
  },
  {
   "cell_type": "code",
   "execution_count": 23,
   "id": "d26698bd",
   "metadata": {
    "extensions": {
     "jupyter_dashboards": {
      "version": 1,
      "views": {
       "grid_default": {},
       "report_default": {
        "hidden": false
       }
      }
     }
    }
   },
   "outputs": [],
   "source": [
    "# number of countries in a continent multiplied by 100\n",
    "counts = {}\n",
    "# store number of percentage vaccinated \n",
    "vaccinated = {}\n",
    "# store number of percentage not vaccinated \n",
    "non_vaccinated = {}\n",
    "\n",
    "# store breakthrough original severe\n",
    "breakthrough = {}\n",
    "# store original severe\n",
    "original = {}\n",
    "# store breakthrough original infection\n",
    "breakthrough1 = {}\n",
    "# store original infection\n",
    "original1 = {}\n",
    "# store breakthrough omicron severe\n",
    "breakthrough2 = {}\n",
    "# store omicron severe\n",
    "original2 = {}\n",
    "# store breakthrough omicron infection\n",
    "breakthrough3 = {}\n",
    "# store omicron infection\n",
    "original3 = {}   \n",
    "\n",
    "# loop through the number of countries in a continent\n",
    "for continent, num_countries in countries_by_continent.items():\n",
    "    # multiply the number by 100\n",
    "    counts[continent] = 100 * num_countries\n",
    "    # sum the percentage of people vaccinated\n",
    "    vaccinated[continent] = df_new[df_new['Continent'] == continent]['% Population vaccinated'].sum()\n",
    "    # sum the percentage of people not vaccinated\n",
    "    non_vaccinated[continent] = df_new[df_new['Continent'] == continent]['% Population NOT VACCINATED'].sum()\n",
    "    # sum the percentage of people protected for original severe\n",
    "    original[continent] = df_new[df_new['Continent'] == continent]['% People Protected for ORGINAL SEVERE'].sum()\n",
    "    # sum the percentage of people susceptible of breakthrough original severe \n",
    "    breakthrough[continent] = df_new[df_new['Continent'] == continent]['% SUCEPTIBLE for  BREAKTHROUGH  ORGINAL SEVERE'].sum()\n",
    "    # sum the percentage of people protected for original infection\n",
    "    original1[continent] = df_new[df_new['Continent'] == continent]['% People Protected for ORGINAL INFECTION'].sum()\n",
    "    # sum the percentage of peoplesusceptible of breakthrough original infection\n",
    "    breakthrough1[continent] = df_new[df_new['Continent'] == continent]['% SUCEPTIBLE for  BREAKTHROUGH ORIGINAL  INFECTION'].sum()\n",
    "    # sum the percentage of people protected for omicron severe\n",
    "    original2[continent] = df_new[df_new['Continent'] == continent]['% People Protected for OMICRON SEVERE'].sum()\n",
    "    # sum the percentage of people susceptible of breakthrough omicron severe \n",
    "    breakthrough2[continent] = df_new[df_new['Continent'] == continent]['% SUCEPTIBLE for  BREAKTHROUGH OMICRON SEVERE'].sum()\n",
    "    # sum the percentage of people protected for omicron infection\n",
    "    original3[continent] = df_new[df_new['Continent'] == continent]['% People Protected for OMICRON INFECTION'].sum()\n",
    "    # sum the percentage of people susceptible of breakthrough omicron infection\n",
    "    breakthrough3[continent] = df_new[df_new['Continent'] == continent]['% SUCEPTIBLE for  BREAKTHROUGH OMICRON INFECTION'].sum()\n",
    "\n",
    "# store the values found after summing the percentage, divide it with the continents and the average percentage found store them in the variables\n",
    "val = {continent: vaccinated[continent] / counts[continent] for continent in counts}\n",
    "val2 = {continent: non_vaccinated[continent] / counts[continent] for continent in counts}\n",
    "val3 = {continent: breakthrough[continent] / counts[continent] for continent in counts}\n",
    "val4 = {continent: original[continent] / counts[continent] for continent in counts}\n",
    "val5 = {continent: breakthrough1[continent] / counts[continent] for continent in counts}\n",
    "val6 = {continent: original1[continent] / counts[continent] for continent in counts}\n",
    "val7 = {continent: breakthrough2[continent] / counts[continent] for continent in counts}\n",
    "val8 = {continent: original2[continent] / counts[continent] for continent in counts}\n",
    "val9 = {continent: breakthrough3[continent] / counts[continent] for continent in counts}\n",
    "val10 = {continent: original3[continent] / counts[continent] for continent in counts}"
   ]
  },
  {
   "cell_type": "markdown",
   "id": "3c9e78b6",
   "metadata": {
    "extensions": {
     "jupyter_dashboards": {
      "version": 1,
      "views": {
       "grid_default": {},
       "report_default": {
        "hidden": false
       }
      }
     }
    }
   },
   "source": [
    "# Vaccination Status Based on Continent"
   ]
  },
  {
   "cell_type": "markdown",
   "id": "bed1ba86",
   "metadata": {
    "extensions": {
     "jupyter_dashboards": {
      "version": 1,
      "views": {
       "grid_default": {},
       "report_default": {
        "hidden": false
       }
      }
     }
    }
   },
   "source": [
    "## Since Number of Vaccines received does not matter I want to compare how many people were and weren't vaccinated based on continents to get more understanding on whether continent regions impact people being vaccinated. From there I want to compare how people in different contries and continents fare on handling the viruses and infections as more or less people are vaccinated and how likely are they to be protected against virus. "
   ]
  },
  {
   "cell_type": "code",
   "execution_count": 24,
   "id": "05c14352",
   "metadata": {
    "extensions": {
     "jupyter_dashboards": {
      "version": 1,
      "views": {
       "grid_default": {},
       "report_default": {
        "hidden": false
       }
      }
     }
    },
    "scrolled": false
   },
   "outputs": [
    {
     "data": {
      "application/vnd.plotly.v1+json": {
       "config": {
        "plotlyServerURL": "https://plot.ly"
       },
       "data": [
        {
         "name": "% Vaccinated",
         "type": "bar",
         "x": [
          "Africa",
          "Asia",
          "Europe",
          "North America",
          "Oceania",
          "South America"
         ],
         "y": [
          0.3847713283780568,
          0.6775052805377846,
          0.6893484069558443,
          0.635950384485584,
          0.7416860753018212,
          0.7361666899498311
         ]
        },
        {
         "name": "% Not Vaccinated",
         "type": "bar",
         "x": [
          "Africa",
          "Asia",
          "Europe",
          "North America",
          "Oceania",
          "South America"
         ],
         "y": [
          0.6152286716219433,
          0.3224947194622152,
          0.3106515930441557,
          0.36404961551441595,
          0.2583139246981789,
          0.26383331005016875
         ]
        }
       ],
       "layout": {
        "barmode": "stack",
        "legend": {
         "title": {
          "text": "Vaccination Status"
         }
        },
        "template": {
         "data": {
          "bar": [
           {
            "error_x": {
             "color": "#2a3f5f"
            },
            "error_y": {
             "color": "#2a3f5f"
            },
            "marker": {
             "line": {
              "color": "#E5ECF6",
              "width": 0.5
             },
             "pattern": {
              "fillmode": "overlay",
              "size": 10,
              "solidity": 0.2
             }
            },
            "type": "bar"
           }
          ],
          "barpolar": [
           {
            "marker": {
             "line": {
              "color": "#E5ECF6",
              "width": 0.5
             },
             "pattern": {
              "fillmode": "overlay",
              "size": 10,
              "solidity": 0.2
             }
            },
            "type": "barpolar"
           }
          ],
          "carpet": [
           {
            "aaxis": {
             "endlinecolor": "#2a3f5f",
             "gridcolor": "white",
             "linecolor": "white",
             "minorgridcolor": "white",
             "startlinecolor": "#2a3f5f"
            },
            "baxis": {
             "endlinecolor": "#2a3f5f",
             "gridcolor": "white",
             "linecolor": "white",
             "minorgridcolor": "white",
             "startlinecolor": "#2a3f5f"
            },
            "type": "carpet"
           }
          ],
          "choropleth": [
           {
            "colorbar": {
             "outlinewidth": 0,
             "ticks": ""
            },
            "type": "choropleth"
           }
          ],
          "contour": [
           {
            "colorbar": {
             "outlinewidth": 0,
             "ticks": ""
            },
            "colorscale": [
             [
              0,
              "#0d0887"
             ],
             [
              0.1111111111111111,
              "#46039f"
             ],
             [
              0.2222222222222222,
              "#7201a8"
             ],
             [
              0.3333333333333333,
              "#9c179e"
             ],
             [
              0.4444444444444444,
              "#bd3786"
             ],
             [
              0.5555555555555556,
              "#d8576b"
             ],
             [
              0.6666666666666666,
              "#ed7953"
             ],
             [
              0.7777777777777778,
              "#fb9f3a"
             ],
             [
              0.8888888888888888,
              "#fdca26"
             ],
             [
              1,
              "#f0f921"
             ]
            ],
            "type": "contour"
           }
          ],
          "contourcarpet": [
           {
            "colorbar": {
             "outlinewidth": 0,
             "ticks": ""
            },
            "type": "contourcarpet"
           }
          ],
          "heatmap": [
           {
            "colorbar": {
             "outlinewidth": 0,
             "ticks": ""
            },
            "colorscale": [
             [
              0,
              "#0d0887"
             ],
             [
              0.1111111111111111,
              "#46039f"
             ],
             [
              0.2222222222222222,
              "#7201a8"
             ],
             [
              0.3333333333333333,
              "#9c179e"
             ],
             [
              0.4444444444444444,
              "#bd3786"
             ],
             [
              0.5555555555555556,
              "#d8576b"
             ],
             [
              0.6666666666666666,
              "#ed7953"
             ],
             [
              0.7777777777777778,
              "#fb9f3a"
             ],
             [
              0.8888888888888888,
              "#fdca26"
             ],
             [
              1,
              "#f0f921"
             ]
            ],
            "type": "heatmap"
           }
          ],
          "heatmapgl": [
           {
            "colorbar": {
             "outlinewidth": 0,
             "ticks": ""
            },
            "colorscale": [
             [
              0,
              "#0d0887"
             ],
             [
              0.1111111111111111,
              "#46039f"
             ],
             [
              0.2222222222222222,
              "#7201a8"
             ],
             [
              0.3333333333333333,
              "#9c179e"
             ],
             [
              0.4444444444444444,
              "#bd3786"
             ],
             [
              0.5555555555555556,
              "#d8576b"
             ],
             [
              0.6666666666666666,
              "#ed7953"
             ],
             [
              0.7777777777777778,
              "#fb9f3a"
             ],
             [
              0.8888888888888888,
              "#fdca26"
             ],
             [
              1,
              "#f0f921"
             ]
            ],
            "type": "heatmapgl"
           }
          ],
          "histogram": [
           {
            "marker": {
             "pattern": {
              "fillmode": "overlay",
              "size": 10,
              "solidity": 0.2
             }
            },
            "type": "histogram"
           }
          ],
          "histogram2d": [
           {
            "colorbar": {
             "outlinewidth": 0,
             "ticks": ""
            },
            "colorscale": [
             [
              0,
              "#0d0887"
             ],
             [
              0.1111111111111111,
              "#46039f"
             ],
             [
              0.2222222222222222,
              "#7201a8"
             ],
             [
              0.3333333333333333,
              "#9c179e"
             ],
             [
              0.4444444444444444,
              "#bd3786"
             ],
             [
              0.5555555555555556,
              "#d8576b"
             ],
             [
              0.6666666666666666,
              "#ed7953"
             ],
             [
              0.7777777777777778,
              "#fb9f3a"
             ],
             [
              0.8888888888888888,
              "#fdca26"
             ],
             [
              1,
              "#f0f921"
             ]
            ],
            "type": "histogram2d"
           }
          ],
          "histogram2dcontour": [
           {
            "colorbar": {
             "outlinewidth": 0,
             "ticks": ""
            },
            "colorscale": [
             [
              0,
              "#0d0887"
             ],
             [
              0.1111111111111111,
              "#46039f"
             ],
             [
              0.2222222222222222,
              "#7201a8"
             ],
             [
              0.3333333333333333,
              "#9c179e"
             ],
             [
              0.4444444444444444,
              "#bd3786"
             ],
             [
              0.5555555555555556,
              "#d8576b"
             ],
             [
              0.6666666666666666,
              "#ed7953"
             ],
             [
              0.7777777777777778,
              "#fb9f3a"
             ],
             [
              0.8888888888888888,
              "#fdca26"
             ],
             [
              1,
              "#f0f921"
             ]
            ],
            "type": "histogram2dcontour"
           }
          ],
          "mesh3d": [
           {
            "colorbar": {
             "outlinewidth": 0,
             "ticks": ""
            },
            "type": "mesh3d"
           }
          ],
          "parcoords": [
           {
            "line": {
             "colorbar": {
              "outlinewidth": 0,
              "ticks": ""
             }
            },
            "type": "parcoords"
           }
          ],
          "pie": [
           {
            "automargin": true,
            "type": "pie"
           }
          ],
          "scatter": [
           {
            "fillpattern": {
             "fillmode": "overlay",
             "size": 10,
             "solidity": 0.2
            },
            "type": "scatter"
           }
          ],
          "scatter3d": [
           {
            "line": {
             "colorbar": {
              "outlinewidth": 0,
              "ticks": ""
             }
            },
            "marker": {
             "colorbar": {
              "outlinewidth": 0,
              "ticks": ""
             }
            },
            "type": "scatter3d"
           }
          ],
          "scattercarpet": [
           {
            "marker": {
             "colorbar": {
              "outlinewidth": 0,
              "ticks": ""
             }
            },
            "type": "scattercarpet"
           }
          ],
          "scattergeo": [
           {
            "marker": {
             "colorbar": {
              "outlinewidth": 0,
              "ticks": ""
             }
            },
            "type": "scattergeo"
           }
          ],
          "scattergl": [
           {
            "marker": {
             "colorbar": {
              "outlinewidth": 0,
              "ticks": ""
             }
            },
            "type": "scattergl"
           }
          ],
          "scattermapbox": [
           {
            "marker": {
             "colorbar": {
              "outlinewidth": 0,
              "ticks": ""
             }
            },
            "type": "scattermapbox"
           }
          ],
          "scatterpolar": [
           {
            "marker": {
             "colorbar": {
              "outlinewidth": 0,
              "ticks": ""
             }
            },
            "type": "scatterpolar"
           }
          ],
          "scatterpolargl": [
           {
            "marker": {
             "colorbar": {
              "outlinewidth": 0,
              "ticks": ""
             }
            },
            "type": "scatterpolargl"
           }
          ],
          "scatterternary": [
           {
            "marker": {
             "colorbar": {
              "outlinewidth": 0,
              "ticks": ""
             }
            },
            "type": "scatterternary"
           }
          ],
          "surface": [
           {
            "colorbar": {
             "outlinewidth": 0,
             "ticks": ""
            },
            "colorscale": [
             [
              0,
              "#0d0887"
             ],
             [
              0.1111111111111111,
              "#46039f"
             ],
             [
              0.2222222222222222,
              "#7201a8"
             ],
             [
              0.3333333333333333,
              "#9c179e"
             ],
             [
              0.4444444444444444,
              "#bd3786"
             ],
             [
              0.5555555555555556,
              "#d8576b"
             ],
             [
              0.6666666666666666,
              "#ed7953"
             ],
             [
              0.7777777777777778,
              "#fb9f3a"
             ],
             [
              0.8888888888888888,
              "#fdca26"
             ],
             [
              1,
              "#f0f921"
             ]
            ],
            "type": "surface"
           }
          ],
          "table": [
           {
            "cells": {
             "fill": {
              "color": "#EBF0F8"
             },
             "line": {
              "color": "white"
             }
            },
            "header": {
             "fill": {
              "color": "#C8D4E3"
             },
             "line": {
              "color": "white"
             }
            },
            "type": "table"
           }
          ]
         },
         "layout": {
          "annotationdefaults": {
           "arrowcolor": "#2a3f5f",
           "arrowhead": 0,
           "arrowwidth": 1
          },
          "autotypenumbers": "strict",
          "coloraxis": {
           "colorbar": {
            "outlinewidth": 0,
            "ticks": ""
           }
          },
          "colorscale": {
           "diverging": [
            [
             0,
             "#8e0152"
            ],
            [
             0.1,
             "#c51b7d"
            ],
            [
             0.2,
             "#de77ae"
            ],
            [
             0.3,
             "#f1b6da"
            ],
            [
             0.4,
             "#fde0ef"
            ],
            [
             0.5,
             "#f7f7f7"
            ],
            [
             0.6,
             "#e6f5d0"
            ],
            [
             0.7,
             "#b8e186"
            ],
            [
             0.8,
             "#7fbc41"
            ],
            [
             0.9,
             "#4d9221"
            ],
            [
             1,
             "#276419"
            ]
           ],
           "sequential": [
            [
             0,
             "#0d0887"
            ],
            [
             0.1111111111111111,
             "#46039f"
            ],
            [
             0.2222222222222222,
             "#7201a8"
            ],
            [
             0.3333333333333333,
             "#9c179e"
            ],
            [
             0.4444444444444444,
             "#bd3786"
            ],
            [
             0.5555555555555556,
             "#d8576b"
            ],
            [
             0.6666666666666666,
             "#ed7953"
            ],
            [
             0.7777777777777778,
             "#fb9f3a"
            ],
            [
             0.8888888888888888,
             "#fdca26"
            ],
            [
             1,
             "#f0f921"
            ]
           ],
           "sequentialminus": [
            [
             0,
             "#0d0887"
            ],
            [
             0.1111111111111111,
             "#46039f"
            ],
            [
             0.2222222222222222,
             "#7201a8"
            ],
            [
             0.3333333333333333,
             "#9c179e"
            ],
            [
             0.4444444444444444,
             "#bd3786"
            ],
            [
             0.5555555555555556,
             "#d8576b"
            ],
            [
             0.6666666666666666,
             "#ed7953"
            ],
            [
             0.7777777777777778,
             "#fb9f3a"
            ],
            [
             0.8888888888888888,
             "#fdca26"
            ],
            [
             1,
             "#f0f921"
            ]
           ]
          },
          "colorway": [
           "#636efa",
           "#EF553B",
           "#00cc96",
           "#ab63fa",
           "#FFA15A",
           "#19d3f3",
           "#FF6692",
           "#B6E880",
           "#FF97FF",
           "#FECB52"
          ],
          "font": {
           "color": "#2a3f5f"
          },
          "geo": {
           "bgcolor": "white",
           "lakecolor": "white",
           "landcolor": "#E5ECF6",
           "showlakes": true,
           "showland": true,
           "subunitcolor": "white"
          },
          "hoverlabel": {
           "align": "left"
          },
          "hovermode": "closest",
          "mapbox": {
           "style": "light"
          },
          "paper_bgcolor": "white",
          "plot_bgcolor": "#E5ECF6",
          "polar": {
           "angularaxis": {
            "gridcolor": "white",
            "linecolor": "white",
            "ticks": ""
           },
           "bgcolor": "#E5ECF6",
           "radialaxis": {
            "gridcolor": "white",
            "linecolor": "white",
            "ticks": ""
           }
          },
          "scene": {
           "xaxis": {
            "backgroundcolor": "#E5ECF6",
            "gridcolor": "white",
            "gridwidth": 2,
            "linecolor": "white",
            "showbackground": true,
            "ticks": "",
            "zerolinecolor": "white"
           },
           "yaxis": {
            "backgroundcolor": "#E5ECF6",
            "gridcolor": "white",
            "gridwidth": 2,
            "linecolor": "white",
            "showbackground": true,
            "ticks": "",
            "zerolinecolor": "white"
           },
           "zaxis": {
            "backgroundcolor": "#E5ECF6",
            "gridcolor": "white",
            "gridwidth": 2,
            "linecolor": "white",
            "showbackground": true,
            "ticks": "",
            "zerolinecolor": "white"
           }
          },
          "shapedefaults": {
           "line": {
            "color": "#2a3f5f"
           }
          },
          "ternary": {
           "aaxis": {
            "gridcolor": "white",
            "linecolor": "white",
            "ticks": ""
           },
           "baxis": {
            "gridcolor": "white",
            "linecolor": "white",
            "ticks": ""
           },
           "bgcolor": "#E5ECF6",
           "caxis": {
            "gridcolor": "white",
            "linecolor": "white",
            "ticks": ""
           }
          },
          "title": {
           "x": 0.05
          },
          "xaxis": {
           "automargin": true,
           "gridcolor": "white",
           "linecolor": "white",
           "ticks": "",
           "title": {
            "standoff": 15
           },
           "zerolinecolor": "white",
           "zerolinewidth": 2
          },
          "yaxis": {
           "automargin": true,
           "gridcolor": "white",
           "linecolor": "white",
           "ticks": "",
           "title": {
            "standoff": 15
           },
           "zerolinecolor": "white",
           "zerolinewidth": 2
          }
         }
        },
        "title": {
         "text": "Vaccination Status by Continent"
        },
        "xaxis": {
         "title": {
          "text": "Continent"
         }
        },
        "yaxis": {
         "title": {
          "text": "% Percentage Vaccinated and Not Vaccinated"
         }
        }
       }
      },
      "text/html": [
       "<div>                            <div id=\"9ffa8ed3-8c32-4364-a835-d0542c05b9af\" class=\"plotly-graph-div\" style=\"height:525px; width:100%;\"></div>            <script type=\"text/javascript\">                require([\"plotly\"], function(Plotly) {                    window.PLOTLYENV=window.PLOTLYENV || {};                                    if (document.getElementById(\"9ffa8ed3-8c32-4364-a835-d0542c05b9af\")) {                    Plotly.newPlot(                        \"9ffa8ed3-8c32-4364-a835-d0542c05b9af\",                        [{\"name\":\"% Vaccinated\",\"x\":[\"Africa\",\"Asia\",\"Europe\",\"North America\",\"Oceania\",\"South America\"],\"y\":[0.3847713283780568,0.6775052805377846,0.6893484069558443,0.635950384485584,0.7416860753018212,0.7361666899498311],\"type\":\"bar\"},{\"name\":\"% Not Vaccinated\",\"x\":[\"Africa\",\"Asia\",\"Europe\",\"North America\",\"Oceania\",\"South America\"],\"y\":[0.6152286716219433,0.3224947194622152,0.3106515930441557,0.36404961551441595,0.2583139246981789,0.26383331005016875],\"type\":\"bar\"}],                        {\"barmode\":\"stack\",\"legend\":{\"title\":{\"text\":\"Vaccination Status\"}},\"title\":{\"text\":\"Vaccination Status by Continent\"},\"xaxis\":{\"title\":{\"text\":\"Continent\"}},\"yaxis\":{\"title\":{\"text\":\"% Percentage Vaccinated and Not Vaccinated\"}},\"template\":{\"data\":{\"histogram2dcontour\":[{\"type\":\"histogram2dcontour\",\"colorbar\":{\"outlinewidth\":0,\"ticks\":\"\"},\"colorscale\":[[0.0,\"#0d0887\"],[0.1111111111111111,\"#46039f\"],[0.2222222222222222,\"#7201a8\"],[0.3333333333333333,\"#9c179e\"],[0.4444444444444444,\"#bd3786\"],[0.5555555555555556,\"#d8576b\"],[0.6666666666666666,\"#ed7953\"],[0.7777777777777778,\"#fb9f3a\"],[0.8888888888888888,\"#fdca26\"],[1.0,\"#f0f921\"]]}],\"choropleth\":[{\"type\":\"choropleth\",\"colorbar\":{\"outlinewidth\":0,\"ticks\":\"\"}}],\"histogram2d\":[{\"type\":\"histogram2d\",\"colorbar\":{\"outlinewidth\":0,\"ticks\":\"\"},\"colorscale\":[[0.0,\"#0d0887\"],[0.1111111111111111,\"#46039f\"],[0.2222222222222222,\"#7201a8\"],[0.3333333333333333,\"#9c179e\"],[0.4444444444444444,\"#bd3786\"],[0.5555555555555556,\"#d8576b\"],[0.6666666666666666,\"#ed7953\"],[0.7777777777777778,\"#fb9f3a\"],[0.8888888888888888,\"#fdca26\"],[1.0,\"#f0f921\"]]}],\"heatmap\":[{\"type\":\"heatmap\",\"colorbar\":{\"outlinewidth\":0,\"ticks\":\"\"},\"colorscale\":[[0.0,\"#0d0887\"],[0.1111111111111111,\"#46039f\"],[0.2222222222222222,\"#7201a8\"],[0.3333333333333333,\"#9c179e\"],[0.4444444444444444,\"#bd3786\"],[0.5555555555555556,\"#d8576b\"],[0.6666666666666666,\"#ed7953\"],[0.7777777777777778,\"#fb9f3a\"],[0.8888888888888888,\"#fdca26\"],[1.0,\"#f0f921\"]]}],\"heatmapgl\":[{\"type\":\"heatmapgl\",\"colorbar\":{\"outlinewidth\":0,\"ticks\":\"\"},\"colorscale\":[[0.0,\"#0d0887\"],[0.1111111111111111,\"#46039f\"],[0.2222222222222222,\"#7201a8\"],[0.3333333333333333,\"#9c179e\"],[0.4444444444444444,\"#bd3786\"],[0.5555555555555556,\"#d8576b\"],[0.6666666666666666,\"#ed7953\"],[0.7777777777777778,\"#fb9f3a\"],[0.8888888888888888,\"#fdca26\"],[1.0,\"#f0f921\"]]}],\"contourcarpet\":[{\"type\":\"contourcarpet\",\"colorbar\":{\"outlinewidth\":0,\"ticks\":\"\"}}],\"contour\":[{\"type\":\"contour\",\"colorbar\":{\"outlinewidth\":0,\"ticks\":\"\"},\"colorscale\":[[0.0,\"#0d0887\"],[0.1111111111111111,\"#46039f\"],[0.2222222222222222,\"#7201a8\"],[0.3333333333333333,\"#9c179e\"],[0.4444444444444444,\"#bd3786\"],[0.5555555555555556,\"#d8576b\"],[0.6666666666666666,\"#ed7953\"],[0.7777777777777778,\"#fb9f3a\"],[0.8888888888888888,\"#fdca26\"],[1.0,\"#f0f921\"]]}],\"surface\":[{\"type\":\"surface\",\"colorbar\":{\"outlinewidth\":0,\"ticks\":\"\"},\"colorscale\":[[0.0,\"#0d0887\"],[0.1111111111111111,\"#46039f\"],[0.2222222222222222,\"#7201a8\"],[0.3333333333333333,\"#9c179e\"],[0.4444444444444444,\"#bd3786\"],[0.5555555555555556,\"#d8576b\"],[0.6666666666666666,\"#ed7953\"],[0.7777777777777778,\"#fb9f3a\"],[0.8888888888888888,\"#fdca26\"],[1.0,\"#f0f921\"]]}],\"mesh3d\":[{\"type\":\"mesh3d\",\"colorbar\":{\"outlinewidth\":0,\"ticks\":\"\"}}],\"scatter\":[{\"fillpattern\":{\"fillmode\":\"overlay\",\"size\":10,\"solidity\":0.2},\"type\":\"scatter\"}],\"parcoords\":[{\"type\":\"parcoords\",\"line\":{\"colorbar\":{\"outlinewidth\":0,\"ticks\":\"\"}}}],\"scatterpolargl\":[{\"type\":\"scatterpolargl\",\"marker\":{\"colorbar\":{\"outlinewidth\":0,\"ticks\":\"\"}}}],\"bar\":[{\"error_x\":{\"color\":\"#2a3f5f\"},\"error_y\":{\"color\":\"#2a3f5f\"},\"marker\":{\"line\":{\"color\":\"#E5ECF6\",\"width\":0.5},\"pattern\":{\"fillmode\":\"overlay\",\"size\":10,\"solidity\":0.2}},\"type\":\"bar\"}],\"scattergeo\":[{\"type\":\"scattergeo\",\"marker\":{\"colorbar\":{\"outlinewidth\":0,\"ticks\":\"\"}}}],\"scatterpolar\":[{\"type\":\"scatterpolar\",\"marker\":{\"colorbar\":{\"outlinewidth\":0,\"ticks\":\"\"}}}],\"histogram\":[{\"marker\":{\"pattern\":{\"fillmode\":\"overlay\",\"size\":10,\"solidity\":0.2}},\"type\":\"histogram\"}],\"scattergl\":[{\"type\":\"scattergl\",\"marker\":{\"colorbar\":{\"outlinewidth\":0,\"ticks\":\"\"}}}],\"scatter3d\":[{\"type\":\"scatter3d\",\"line\":{\"colorbar\":{\"outlinewidth\":0,\"ticks\":\"\"}},\"marker\":{\"colorbar\":{\"outlinewidth\":0,\"ticks\":\"\"}}}],\"scattermapbox\":[{\"type\":\"scattermapbox\",\"marker\":{\"colorbar\":{\"outlinewidth\":0,\"ticks\":\"\"}}}],\"scatterternary\":[{\"type\":\"scatterternary\",\"marker\":{\"colorbar\":{\"outlinewidth\":0,\"ticks\":\"\"}}}],\"scattercarpet\":[{\"type\":\"scattercarpet\",\"marker\":{\"colorbar\":{\"outlinewidth\":0,\"ticks\":\"\"}}}],\"carpet\":[{\"aaxis\":{\"endlinecolor\":\"#2a3f5f\",\"gridcolor\":\"white\",\"linecolor\":\"white\",\"minorgridcolor\":\"white\",\"startlinecolor\":\"#2a3f5f\"},\"baxis\":{\"endlinecolor\":\"#2a3f5f\",\"gridcolor\":\"white\",\"linecolor\":\"white\",\"minorgridcolor\":\"white\",\"startlinecolor\":\"#2a3f5f\"},\"type\":\"carpet\"}],\"table\":[{\"cells\":{\"fill\":{\"color\":\"#EBF0F8\"},\"line\":{\"color\":\"white\"}},\"header\":{\"fill\":{\"color\":\"#C8D4E3\"},\"line\":{\"color\":\"white\"}},\"type\":\"table\"}],\"barpolar\":[{\"marker\":{\"line\":{\"color\":\"#E5ECF6\",\"width\":0.5},\"pattern\":{\"fillmode\":\"overlay\",\"size\":10,\"solidity\":0.2}},\"type\":\"barpolar\"}],\"pie\":[{\"automargin\":true,\"type\":\"pie\"}]},\"layout\":{\"autotypenumbers\":\"strict\",\"colorway\":[\"#636efa\",\"#EF553B\",\"#00cc96\",\"#ab63fa\",\"#FFA15A\",\"#19d3f3\",\"#FF6692\",\"#B6E880\",\"#FF97FF\",\"#FECB52\"],\"font\":{\"color\":\"#2a3f5f\"},\"hovermode\":\"closest\",\"hoverlabel\":{\"align\":\"left\"},\"paper_bgcolor\":\"white\",\"plot_bgcolor\":\"#E5ECF6\",\"polar\":{\"bgcolor\":\"#E5ECF6\",\"angularaxis\":{\"gridcolor\":\"white\",\"linecolor\":\"white\",\"ticks\":\"\"},\"radialaxis\":{\"gridcolor\":\"white\",\"linecolor\":\"white\",\"ticks\":\"\"}},\"ternary\":{\"bgcolor\":\"#E5ECF6\",\"aaxis\":{\"gridcolor\":\"white\",\"linecolor\":\"white\",\"ticks\":\"\"},\"baxis\":{\"gridcolor\":\"white\",\"linecolor\":\"white\",\"ticks\":\"\"},\"caxis\":{\"gridcolor\":\"white\",\"linecolor\":\"white\",\"ticks\":\"\"}},\"coloraxis\":{\"colorbar\":{\"outlinewidth\":0,\"ticks\":\"\"}},\"colorscale\":{\"sequential\":[[0.0,\"#0d0887\"],[0.1111111111111111,\"#46039f\"],[0.2222222222222222,\"#7201a8\"],[0.3333333333333333,\"#9c179e\"],[0.4444444444444444,\"#bd3786\"],[0.5555555555555556,\"#d8576b\"],[0.6666666666666666,\"#ed7953\"],[0.7777777777777778,\"#fb9f3a\"],[0.8888888888888888,\"#fdca26\"],[1.0,\"#f0f921\"]],\"sequentialminus\":[[0.0,\"#0d0887\"],[0.1111111111111111,\"#46039f\"],[0.2222222222222222,\"#7201a8\"],[0.3333333333333333,\"#9c179e\"],[0.4444444444444444,\"#bd3786\"],[0.5555555555555556,\"#d8576b\"],[0.6666666666666666,\"#ed7953\"],[0.7777777777777778,\"#fb9f3a\"],[0.8888888888888888,\"#fdca26\"],[1.0,\"#f0f921\"]],\"diverging\":[[0,\"#8e0152\"],[0.1,\"#c51b7d\"],[0.2,\"#de77ae\"],[0.3,\"#f1b6da\"],[0.4,\"#fde0ef\"],[0.5,\"#f7f7f7\"],[0.6,\"#e6f5d0\"],[0.7,\"#b8e186\"],[0.8,\"#7fbc41\"],[0.9,\"#4d9221\"],[1,\"#276419\"]]},\"xaxis\":{\"gridcolor\":\"white\",\"linecolor\":\"white\",\"ticks\":\"\",\"title\":{\"standoff\":15},\"zerolinecolor\":\"white\",\"automargin\":true,\"zerolinewidth\":2},\"yaxis\":{\"gridcolor\":\"white\",\"linecolor\":\"white\",\"ticks\":\"\",\"title\":{\"standoff\":15},\"zerolinecolor\":\"white\",\"automargin\":true,\"zerolinewidth\":2},\"scene\":{\"xaxis\":{\"backgroundcolor\":\"#E5ECF6\",\"gridcolor\":\"white\",\"linecolor\":\"white\",\"showbackground\":true,\"ticks\":\"\",\"zerolinecolor\":\"white\",\"gridwidth\":2},\"yaxis\":{\"backgroundcolor\":\"#E5ECF6\",\"gridcolor\":\"white\",\"linecolor\":\"white\",\"showbackground\":true,\"ticks\":\"\",\"zerolinecolor\":\"white\",\"gridwidth\":2},\"zaxis\":{\"backgroundcolor\":\"#E5ECF6\",\"gridcolor\":\"white\",\"linecolor\":\"white\",\"showbackground\":true,\"ticks\":\"\",\"zerolinecolor\":\"white\",\"gridwidth\":2}},\"shapedefaults\":{\"line\":{\"color\":\"#2a3f5f\"}},\"annotationdefaults\":{\"arrowcolor\":\"#2a3f5f\",\"arrowhead\":0,\"arrowwidth\":1},\"geo\":{\"bgcolor\":\"white\",\"landcolor\":\"#E5ECF6\",\"subunitcolor\":\"white\",\"showland\":true,\"showlakes\":true,\"lakecolor\":\"white\"},\"title\":{\"x\":0.05},\"mapbox\":{\"style\":\"light\"}}}},                        {\"responsive\": true}                    ).then(function(){\n",
       "                            \n",
       "var gd = document.getElementById('9ffa8ed3-8c32-4364-a835-d0542c05b9af');\n",
       "var x = new MutationObserver(function (mutations, observer) {{\n",
       "        var display = window.getComputedStyle(gd).display;\n",
       "        if (!display || display === 'none') {{\n",
       "            console.log([gd, 'removed!']);\n",
       "            Plotly.purge(gd);\n",
       "            observer.disconnect();\n",
       "        }}\n",
       "}});\n",
       "\n",
       "// Listen for the removal of the full notebook cells\n",
       "var notebookContainer = gd.closest('#notebook-container');\n",
       "if (notebookContainer) {{\n",
       "    x.observe(notebookContainer, {childList: true});\n",
       "}}\n",
       "\n",
       "// Listen for the clearing of the current output cell\n",
       "var outputEl = gd.closest('.output');\n",
       "if (outputEl) {{\n",
       "    x.observe(outputEl, {childList: true});\n",
       "}}\n",
       "\n",
       "                        })                };                });            </script>        </div>"
      ]
     },
     "metadata": {},
     "output_type": "display_data"
    }
   ],
   "source": [
    "# Since they are stored in dictionary, take the values and keys of the % vaccinated and % not vaccinated and use them to make \n",
    "# a stacked bar graph to show the comparison of the people vaccinated and not vaccinated as a whole\n",
    "country = list(val.keys())\n",
    "country2 = list(val2.keys())\n",
    "vaccinated = list(val.values())\n",
    "non_vaccinated = list(val2.values())\n",
    "# first bar with people vaccinated\n",
    "data01 = go.Bar(\n",
    "    x = country,\n",
    "    y = vaccinated,\n",
    "    name = \"% Vaccinated\"\n",
    ")\n",
    "# second bar with people not vaccinated\n",
    "data11 = go.Bar(\n",
    "    x = country2,\n",
    "    y = non_vaccinated,\n",
    "    name = \"% Not Vaccinated\"\n",
    ")\n",
    "\n",
    "# store all of them together\n",
    "data = [data01, data11]\n",
    "\n",
    "# create the bar graph in stack\n",
    "layout = go.Layout(title = 'Vaccination Status by Continent', barmode = 'stack', legend_title='Vaccination Status', xaxis_title='Continent', yaxis_title='% Percentage Vaccinated and Not Vaccinated')\n",
    "fig = go.Figure(data = data, layout = layout)\n",
    "\n",
    "fig.show()\n"
   ]
  },
  {
   "cell_type": "markdown",
   "id": "57d57691",
   "metadata": {
    "extensions": {
     "jupyter_dashboards": {
      "version": 1,
      "views": {
       "grid_default": {},
       "report_default": {
        "hidden": false
       }
      }
     }
    }
   },
   "source": [
    "# Bar Graph of Breakthrough Susceptible and Protection against Virus"
   ]
  },
  {
   "cell_type": "markdown",
   "id": "e3309f1c",
   "metadata": {
    "extensions": {
     "jupyter_dashboards": {
      "version": 1,
      "views": {
       "grid_default": {},
       "report_default": {
        "hidden": false
       }
      }
     }
    }
   },
   "source": [
    "## We see that all of the continents are more likely to be protected from the virus as there a higher percentage and even though they are vaccinated, it does not mean that they won't get the virus meaning that they will be susceptible for breakthrough virus. The good thing is that there are less percentage of people who are likely to get breakthrough virus and infection so it shows that virus does do a good job in protecting large percentage of people as they are higher percentage for protection against virus and infection compared to breakthrough which is not a lot of percentage."
   ]
  },
  {
   "cell_type": "code",
   "execution_count": 25,
   "id": "b0d6888e",
   "metadata": {
    "extensions": {
     "jupyter_dashboards": {
      "version": 1,
      "views": {
       "grid_default": {},
       "report_default": {
        "hidden": false
       }
      }
     }
    }
   },
   "outputs": [
    {
     "data": {
      "application/vnd.plotly.v1+json": {
       "config": {
        "plotlyServerURL": "https://plot.ly"
       },
       "data": [
        {
         "name": "Breakthrough",
         "type": "bar",
         "x": [
          "Africa",
          "Asia",
          "Europe",
          "North America",
          "Oceania",
          "South America"
         ],
         "y": [
          0.05807340822187597,
          0.14577140330593735,
          0.13580833102188808,
          0.0891444384261781,
          0.07177108154286885,
          0.12945242233016058
         ]
        },
        {
         "name": "Original",
         "type": "bar",
         "x": [
          "Africa",
          "Asia",
          "Europe",
          "North America",
          "Oceania",
          "South America"
         ],
         "y": [
          0.3266979201561809,
          0.5317338772318475,
          0.5535400759339562,
          0.5468059460594059,
          0.6699149937589524,
          0.6067142676196706
         ]
        },
        {
         "name": "Breakthrough Infection",
         "type": "bar",
         "x": [
          "Africa",
          "Asia",
          "Europe",
          "North America",
          "Oceania",
          "South America"
         ],
         "y": [
          0.11925851860265638,
          0.220112921833711,
          0.21483048648420144,
          0.18011330416340235,
          0.20010924033149172,
          0.22719388063121976
         ]
        },
        {
         "name": "Original Infection",
         "type": "bar",
         "x": [
          "Africa",
          "Asia",
          "Europe",
          "North America",
          "Oceania",
          "South America"
         ],
         "y": [
          0.26551280977540037,
          0.45739235870407363,
          0.47451792047164276,
          0.45583708032218173,
          0.5415768349703295,
          0.5089728093186114
         ]
        }
       ],
       "layout": {
        "legend": {
         "title": {
          "text": "Severe and Infection Status"
         }
        },
        "template": {
         "data": {
          "bar": [
           {
            "error_x": {
             "color": "#2a3f5f"
            },
            "error_y": {
             "color": "#2a3f5f"
            },
            "marker": {
             "line": {
              "color": "#E5ECF6",
              "width": 0.5
             },
             "pattern": {
              "fillmode": "overlay",
              "size": 10,
              "solidity": 0.2
             }
            },
            "type": "bar"
           }
          ],
          "barpolar": [
           {
            "marker": {
             "line": {
              "color": "#E5ECF6",
              "width": 0.5
             },
             "pattern": {
              "fillmode": "overlay",
              "size": 10,
              "solidity": 0.2
             }
            },
            "type": "barpolar"
           }
          ],
          "carpet": [
           {
            "aaxis": {
             "endlinecolor": "#2a3f5f",
             "gridcolor": "white",
             "linecolor": "white",
             "minorgridcolor": "white",
             "startlinecolor": "#2a3f5f"
            },
            "baxis": {
             "endlinecolor": "#2a3f5f",
             "gridcolor": "white",
             "linecolor": "white",
             "minorgridcolor": "white",
             "startlinecolor": "#2a3f5f"
            },
            "type": "carpet"
           }
          ],
          "choropleth": [
           {
            "colorbar": {
             "outlinewidth": 0,
             "ticks": ""
            },
            "type": "choropleth"
           }
          ],
          "contour": [
           {
            "colorbar": {
             "outlinewidth": 0,
             "ticks": ""
            },
            "colorscale": [
             [
              0,
              "#0d0887"
             ],
             [
              0.1111111111111111,
              "#46039f"
             ],
             [
              0.2222222222222222,
              "#7201a8"
             ],
             [
              0.3333333333333333,
              "#9c179e"
             ],
             [
              0.4444444444444444,
              "#bd3786"
             ],
             [
              0.5555555555555556,
              "#d8576b"
             ],
             [
              0.6666666666666666,
              "#ed7953"
             ],
             [
              0.7777777777777778,
              "#fb9f3a"
             ],
             [
              0.8888888888888888,
              "#fdca26"
             ],
             [
              1,
              "#f0f921"
             ]
            ],
            "type": "contour"
           }
          ],
          "contourcarpet": [
           {
            "colorbar": {
             "outlinewidth": 0,
             "ticks": ""
            },
            "type": "contourcarpet"
           }
          ],
          "heatmap": [
           {
            "colorbar": {
             "outlinewidth": 0,
             "ticks": ""
            },
            "colorscale": [
             [
              0,
              "#0d0887"
             ],
             [
              0.1111111111111111,
              "#46039f"
             ],
             [
              0.2222222222222222,
              "#7201a8"
             ],
             [
              0.3333333333333333,
              "#9c179e"
             ],
             [
              0.4444444444444444,
              "#bd3786"
             ],
             [
              0.5555555555555556,
              "#d8576b"
             ],
             [
              0.6666666666666666,
              "#ed7953"
             ],
             [
              0.7777777777777778,
              "#fb9f3a"
             ],
             [
              0.8888888888888888,
              "#fdca26"
             ],
             [
              1,
              "#f0f921"
             ]
            ],
            "type": "heatmap"
           }
          ],
          "heatmapgl": [
           {
            "colorbar": {
             "outlinewidth": 0,
             "ticks": ""
            },
            "colorscale": [
             [
              0,
              "#0d0887"
             ],
             [
              0.1111111111111111,
              "#46039f"
             ],
             [
              0.2222222222222222,
              "#7201a8"
             ],
             [
              0.3333333333333333,
              "#9c179e"
             ],
             [
              0.4444444444444444,
              "#bd3786"
             ],
             [
              0.5555555555555556,
              "#d8576b"
             ],
             [
              0.6666666666666666,
              "#ed7953"
             ],
             [
              0.7777777777777778,
              "#fb9f3a"
             ],
             [
              0.8888888888888888,
              "#fdca26"
             ],
             [
              1,
              "#f0f921"
             ]
            ],
            "type": "heatmapgl"
           }
          ],
          "histogram": [
           {
            "marker": {
             "pattern": {
              "fillmode": "overlay",
              "size": 10,
              "solidity": 0.2
             }
            },
            "type": "histogram"
           }
          ],
          "histogram2d": [
           {
            "colorbar": {
             "outlinewidth": 0,
             "ticks": ""
            },
            "colorscale": [
             [
              0,
              "#0d0887"
             ],
             [
              0.1111111111111111,
              "#46039f"
             ],
             [
              0.2222222222222222,
              "#7201a8"
             ],
             [
              0.3333333333333333,
              "#9c179e"
             ],
             [
              0.4444444444444444,
              "#bd3786"
             ],
             [
              0.5555555555555556,
              "#d8576b"
             ],
             [
              0.6666666666666666,
              "#ed7953"
             ],
             [
              0.7777777777777778,
              "#fb9f3a"
             ],
             [
              0.8888888888888888,
              "#fdca26"
             ],
             [
              1,
              "#f0f921"
             ]
            ],
            "type": "histogram2d"
           }
          ],
          "histogram2dcontour": [
           {
            "colorbar": {
             "outlinewidth": 0,
             "ticks": ""
            },
            "colorscale": [
             [
              0,
              "#0d0887"
             ],
             [
              0.1111111111111111,
              "#46039f"
             ],
             [
              0.2222222222222222,
              "#7201a8"
             ],
             [
              0.3333333333333333,
              "#9c179e"
             ],
             [
              0.4444444444444444,
              "#bd3786"
             ],
             [
              0.5555555555555556,
              "#d8576b"
             ],
             [
              0.6666666666666666,
              "#ed7953"
             ],
             [
              0.7777777777777778,
              "#fb9f3a"
             ],
             [
              0.8888888888888888,
              "#fdca26"
             ],
             [
              1,
              "#f0f921"
             ]
            ],
            "type": "histogram2dcontour"
           }
          ],
          "mesh3d": [
           {
            "colorbar": {
             "outlinewidth": 0,
             "ticks": ""
            },
            "type": "mesh3d"
           }
          ],
          "parcoords": [
           {
            "line": {
             "colorbar": {
              "outlinewidth": 0,
              "ticks": ""
             }
            },
            "type": "parcoords"
           }
          ],
          "pie": [
           {
            "automargin": true,
            "type": "pie"
           }
          ],
          "scatter": [
           {
            "fillpattern": {
             "fillmode": "overlay",
             "size": 10,
             "solidity": 0.2
            },
            "type": "scatter"
           }
          ],
          "scatter3d": [
           {
            "line": {
             "colorbar": {
              "outlinewidth": 0,
              "ticks": ""
             }
            },
            "marker": {
             "colorbar": {
              "outlinewidth": 0,
              "ticks": ""
             }
            },
            "type": "scatter3d"
           }
          ],
          "scattercarpet": [
           {
            "marker": {
             "colorbar": {
              "outlinewidth": 0,
              "ticks": ""
             }
            },
            "type": "scattercarpet"
           }
          ],
          "scattergeo": [
           {
            "marker": {
             "colorbar": {
              "outlinewidth": 0,
              "ticks": ""
             }
            },
            "type": "scattergeo"
           }
          ],
          "scattergl": [
           {
            "marker": {
             "colorbar": {
              "outlinewidth": 0,
              "ticks": ""
             }
            },
            "type": "scattergl"
           }
          ],
          "scattermapbox": [
           {
            "marker": {
             "colorbar": {
              "outlinewidth": 0,
              "ticks": ""
             }
            },
            "type": "scattermapbox"
           }
          ],
          "scatterpolar": [
           {
            "marker": {
             "colorbar": {
              "outlinewidth": 0,
              "ticks": ""
             }
            },
            "type": "scatterpolar"
           }
          ],
          "scatterpolargl": [
           {
            "marker": {
             "colorbar": {
              "outlinewidth": 0,
              "ticks": ""
             }
            },
            "type": "scatterpolargl"
           }
          ],
          "scatterternary": [
           {
            "marker": {
             "colorbar": {
              "outlinewidth": 0,
              "ticks": ""
             }
            },
            "type": "scatterternary"
           }
          ],
          "surface": [
           {
            "colorbar": {
             "outlinewidth": 0,
             "ticks": ""
            },
            "colorscale": [
             [
              0,
              "#0d0887"
             ],
             [
              0.1111111111111111,
              "#46039f"
             ],
             [
              0.2222222222222222,
              "#7201a8"
             ],
             [
              0.3333333333333333,
              "#9c179e"
             ],
             [
              0.4444444444444444,
              "#bd3786"
             ],
             [
              0.5555555555555556,
              "#d8576b"
             ],
             [
              0.6666666666666666,
              "#ed7953"
             ],
             [
              0.7777777777777778,
              "#fb9f3a"
             ],
             [
              0.8888888888888888,
              "#fdca26"
             ],
             [
              1,
              "#f0f921"
             ]
            ],
            "type": "surface"
           }
          ],
          "table": [
           {
            "cells": {
             "fill": {
              "color": "#EBF0F8"
             },
             "line": {
              "color": "white"
             }
            },
            "header": {
             "fill": {
              "color": "#C8D4E3"
             },
             "line": {
              "color": "white"
             }
            },
            "type": "table"
           }
          ]
         },
         "layout": {
          "annotationdefaults": {
           "arrowcolor": "#2a3f5f",
           "arrowhead": 0,
           "arrowwidth": 1
          },
          "autotypenumbers": "strict",
          "coloraxis": {
           "colorbar": {
            "outlinewidth": 0,
            "ticks": ""
           }
          },
          "colorscale": {
           "diverging": [
            [
             0,
             "#8e0152"
            ],
            [
             0.1,
             "#c51b7d"
            ],
            [
             0.2,
             "#de77ae"
            ],
            [
             0.3,
             "#f1b6da"
            ],
            [
             0.4,
             "#fde0ef"
            ],
            [
             0.5,
             "#f7f7f7"
            ],
            [
             0.6,
             "#e6f5d0"
            ],
            [
             0.7,
             "#b8e186"
            ],
            [
             0.8,
             "#7fbc41"
            ],
            [
             0.9,
             "#4d9221"
            ],
            [
             1,
             "#276419"
            ]
           ],
           "sequential": [
            [
             0,
             "#0d0887"
            ],
            [
             0.1111111111111111,
             "#46039f"
            ],
            [
             0.2222222222222222,
             "#7201a8"
            ],
            [
             0.3333333333333333,
             "#9c179e"
            ],
            [
             0.4444444444444444,
             "#bd3786"
            ],
            [
             0.5555555555555556,
             "#d8576b"
            ],
            [
             0.6666666666666666,
             "#ed7953"
            ],
            [
             0.7777777777777778,
             "#fb9f3a"
            ],
            [
             0.8888888888888888,
             "#fdca26"
            ],
            [
             1,
             "#f0f921"
            ]
           ],
           "sequentialminus": [
            [
             0,
             "#0d0887"
            ],
            [
             0.1111111111111111,
             "#46039f"
            ],
            [
             0.2222222222222222,
             "#7201a8"
            ],
            [
             0.3333333333333333,
             "#9c179e"
            ],
            [
             0.4444444444444444,
             "#bd3786"
            ],
            [
             0.5555555555555556,
             "#d8576b"
            ],
            [
             0.6666666666666666,
             "#ed7953"
            ],
            [
             0.7777777777777778,
             "#fb9f3a"
            ],
            [
             0.8888888888888888,
             "#fdca26"
            ],
            [
             1,
             "#f0f921"
            ]
           ]
          },
          "colorway": [
           "#636efa",
           "#EF553B",
           "#00cc96",
           "#ab63fa",
           "#FFA15A",
           "#19d3f3",
           "#FF6692",
           "#B6E880",
           "#FF97FF",
           "#FECB52"
          ],
          "font": {
           "color": "#2a3f5f"
          },
          "geo": {
           "bgcolor": "white",
           "lakecolor": "white",
           "landcolor": "#E5ECF6",
           "showlakes": true,
           "showland": true,
           "subunitcolor": "white"
          },
          "hoverlabel": {
           "align": "left"
          },
          "hovermode": "closest",
          "mapbox": {
           "style": "light"
          },
          "paper_bgcolor": "white",
          "plot_bgcolor": "#E5ECF6",
          "polar": {
           "angularaxis": {
            "gridcolor": "white",
            "linecolor": "white",
            "ticks": ""
           },
           "bgcolor": "#E5ECF6",
           "radialaxis": {
            "gridcolor": "white",
            "linecolor": "white",
            "ticks": ""
           }
          },
          "scene": {
           "xaxis": {
            "backgroundcolor": "#E5ECF6",
            "gridcolor": "white",
            "gridwidth": 2,
            "linecolor": "white",
            "showbackground": true,
            "ticks": "",
            "zerolinecolor": "white"
           },
           "yaxis": {
            "backgroundcolor": "#E5ECF6",
            "gridcolor": "white",
            "gridwidth": 2,
            "linecolor": "white",
            "showbackground": true,
            "ticks": "",
            "zerolinecolor": "white"
           },
           "zaxis": {
            "backgroundcolor": "#E5ECF6",
            "gridcolor": "white",
            "gridwidth": 2,
            "linecolor": "white",
            "showbackground": true,
            "ticks": "",
            "zerolinecolor": "white"
           }
          },
          "shapedefaults": {
           "line": {
            "color": "#2a3f5f"
           }
          },
          "ternary": {
           "aaxis": {
            "gridcolor": "white",
            "linecolor": "white",
            "ticks": ""
           },
           "baxis": {
            "gridcolor": "white",
            "linecolor": "white",
            "ticks": ""
           },
           "bgcolor": "#E5ECF6",
           "caxis": {
            "gridcolor": "white",
            "linecolor": "white",
            "ticks": ""
           }
          },
          "title": {
           "x": 0.05
          },
          "xaxis": {
           "automargin": true,
           "gridcolor": "white",
           "linecolor": "white",
           "ticks": "",
           "title": {
            "standoff": 15
           },
           "zerolinecolor": "white",
           "zerolinewidth": 2
          },
          "yaxis": {
           "automargin": true,
           "gridcolor": "white",
           "linecolor": "white",
           "ticks": "",
           "title": {
            "standoff": 15
           },
           "zerolinecolor": "white",
           "zerolinewidth": 2
          }
         }
        },
        "title": {
         "text": "Severe vs Breakthrough Virus Effects"
        },
        "xaxis": {
         "title": {
          "text": "Continent"
         }
        },
        "yaxis": {
         "title": {
          "text": "% Percentage Protected/Susceptible"
         }
        }
       }
      },
      "text/html": [
       "<div>                            <div id=\"82bb152c-e09c-43dc-aac7-90a0a018decd\" class=\"plotly-graph-div\" style=\"height:525px; width:100%;\"></div>            <script type=\"text/javascript\">                require([\"plotly\"], function(Plotly) {                    window.PLOTLYENV=window.PLOTLYENV || {};                                    if (document.getElementById(\"82bb152c-e09c-43dc-aac7-90a0a018decd\")) {                    Plotly.newPlot(                        \"82bb152c-e09c-43dc-aac7-90a0a018decd\",                        [{\"name\":\"Breakthrough\",\"x\":[\"Africa\",\"Asia\",\"Europe\",\"North America\",\"Oceania\",\"South America\"],\"y\":[0.05807340822187597,0.14577140330593735,0.13580833102188808,0.0891444384261781,0.07177108154286885,0.12945242233016058],\"type\":\"bar\"},{\"name\":\"Original\",\"x\":[\"Africa\",\"Asia\",\"Europe\",\"North America\",\"Oceania\",\"South America\"],\"y\":[0.3266979201561809,0.5317338772318475,0.5535400759339562,0.5468059460594059,0.6699149937589524,0.6067142676196706],\"type\":\"bar\"},{\"name\":\"Breakthrough Infection\",\"x\":[\"Africa\",\"Asia\",\"Europe\",\"North America\",\"Oceania\",\"South America\"],\"y\":[0.11925851860265638,0.220112921833711,0.21483048648420144,0.18011330416340235,0.20010924033149172,0.22719388063121976],\"type\":\"bar\"},{\"name\":\"Original Infection\",\"x\":[\"Africa\",\"Asia\",\"Europe\",\"North America\",\"Oceania\",\"South America\"],\"y\":[0.26551280977540037,0.45739235870407363,0.47451792047164276,0.45583708032218173,0.5415768349703295,0.5089728093186114],\"type\":\"bar\"}],                        {\"legend\":{\"title\":{\"text\":\"Severe and Infection Status\"}},\"title\":{\"text\":\"Severe vs Breakthrough Virus Effects\"},\"xaxis\":{\"title\":{\"text\":\"Continent\"}},\"yaxis\":{\"title\":{\"text\":\"% Percentage Protected/Susceptible\"}},\"template\":{\"data\":{\"histogram2dcontour\":[{\"type\":\"histogram2dcontour\",\"colorbar\":{\"outlinewidth\":0,\"ticks\":\"\"},\"colorscale\":[[0.0,\"#0d0887\"],[0.1111111111111111,\"#46039f\"],[0.2222222222222222,\"#7201a8\"],[0.3333333333333333,\"#9c179e\"],[0.4444444444444444,\"#bd3786\"],[0.5555555555555556,\"#d8576b\"],[0.6666666666666666,\"#ed7953\"],[0.7777777777777778,\"#fb9f3a\"],[0.8888888888888888,\"#fdca26\"],[1.0,\"#f0f921\"]]}],\"choropleth\":[{\"type\":\"choropleth\",\"colorbar\":{\"outlinewidth\":0,\"ticks\":\"\"}}],\"histogram2d\":[{\"type\":\"histogram2d\",\"colorbar\":{\"outlinewidth\":0,\"ticks\":\"\"},\"colorscale\":[[0.0,\"#0d0887\"],[0.1111111111111111,\"#46039f\"],[0.2222222222222222,\"#7201a8\"],[0.3333333333333333,\"#9c179e\"],[0.4444444444444444,\"#bd3786\"],[0.5555555555555556,\"#d8576b\"],[0.6666666666666666,\"#ed7953\"],[0.7777777777777778,\"#fb9f3a\"],[0.8888888888888888,\"#fdca26\"],[1.0,\"#f0f921\"]]}],\"heatmap\":[{\"type\":\"heatmap\",\"colorbar\":{\"outlinewidth\":0,\"ticks\":\"\"},\"colorscale\":[[0.0,\"#0d0887\"],[0.1111111111111111,\"#46039f\"],[0.2222222222222222,\"#7201a8\"],[0.3333333333333333,\"#9c179e\"],[0.4444444444444444,\"#bd3786\"],[0.5555555555555556,\"#d8576b\"],[0.6666666666666666,\"#ed7953\"],[0.7777777777777778,\"#fb9f3a\"],[0.8888888888888888,\"#fdca26\"],[1.0,\"#f0f921\"]]}],\"heatmapgl\":[{\"type\":\"heatmapgl\",\"colorbar\":{\"outlinewidth\":0,\"ticks\":\"\"},\"colorscale\":[[0.0,\"#0d0887\"],[0.1111111111111111,\"#46039f\"],[0.2222222222222222,\"#7201a8\"],[0.3333333333333333,\"#9c179e\"],[0.4444444444444444,\"#bd3786\"],[0.5555555555555556,\"#d8576b\"],[0.6666666666666666,\"#ed7953\"],[0.7777777777777778,\"#fb9f3a\"],[0.8888888888888888,\"#fdca26\"],[1.0,\"#f0f921\"]]}],\"contourcarpet\":[{\"type\":\"contourcarpet\",\"colorbar\":{\"outlinewidth\":0,\"ticks\":\"\"}}],\"contour\":[{\"type\":\"contour\",\"colorbar\":{\"outlinewidth\":0,\"ticks\":\"\"},\"colorscale\":[[0.0,\"#0d0887\"],[0.1111111111111111,\"#46039f\"],[0.2222222222222222,\"#7201a8\"],[0.3333333333333333,\"#9c179e\"],[0.4444444444444444,\"#bd3786\"],[0.5555555555555556,\"#d8576b\"],[0.6666666666666666,\"#ed7953\"],[0.7777777777777778,\"#fb9f3a\"],[0.8888888888888888,\"#fdca26\"],[1.0,\"#f0f921\"]]}],\"surface\":[{\"type\":\"surface\",\"colorbar\":{\"outlinewidth\":0,\"ticks\":\"\"},\"colorscale\":[[0.0,\"#0d0887\"],[0.1111111111111111,\"#46039f\"],[0.2222222222222222,\"#7201a8\"],[0.3333333333333333,\"#9c179e\"],[0.4444444444444444,\"#bd3786\"],[0.5555555555555556,\"#d8576b\"],[0.6666666666666666,\"#ed7953\"],[0.7777777777777778,\"#fb9f3a\"],[0.8888888888888888,\"#fdca26\"],[1.0,\"#f0f921\"]]}],\"mesh3d\":[{\"type\":\"mesh3d\",\"colorbar\":{\"outlinewidth\":0,\"ticks\":\"\"}}],\"scatter\":[{\"fillpattern\":{\"fillmode\":\"overlay\",\"size\":10,\"solidity\":0.2},\"type\":\"scatter\"}],\"parcoords\":[{\"type\":\"parcoords\",\"line\":{\"colorbar\":{\"outlinewidth\":0,\"ticks\":\"\"}}}],\"scatterpolargl\":[{\"type\":\"scatterpolargl\",\"marker\":{\"colorbar\":{\"outlinewidth\":0,\"ticks\":\"\"}}}],\"bar\":[{\"error_x\":{\"color\":\"#2a3f5f\"},\"error_y\":{\"color\":\"#2a3f5f\"},\"marker\":{\"line\":{\"color\":\"#E5ECF6\",\"width\":0.5},\"pattern\":{\"fillmode\":\"overlay\",\"size\":10,\"solidity\":0.2}},\"type\":\"bar\"}],\"scattergeo\":[{\"type\":\"scattergeo\",\"marker\":{\"colorbar\":{\"outlinewidth\":0,\"ticks\":\"\"}}}],\"scatterpolar\":[{\"type\":\"scatterpolar\",\"marker\":{\"colorbar\":{\"outlinewidth\":0,\"ticks\":\"\"}}}],\"histogram\":[{\"marker\":{\"pattern\":{\"fillmode\":\"overlay\",\"size\":10,\"solidity\":0.2}},\"type\":\"histogram\"}],\"scattergl\":[{\"type\":\"scattergl\",\"marker\":{\"colorbar\":{\"outlinewidth\":0,\"ticks\":\"\"}}}],\"scatter3d\":[{\"type\":\"scatter3d\",\"line\":{\"colorbar\":{\"outlinewidth\":0,\"ticks\":\"\"}},\"marker\":{\"colorbar\":{\"outlinewidth\":0,\"ticks\":\"\"}}}],\"scattermapbox\":[{\"type\":\"scattermapbox\",\"marker\":{\"colorbar\":{\"outlinewidth\":0,\"ticks\":\"\"}}}],\"scatterternary\":[{\"type\":\"scatterternary\",\"marker\":{\"colorbar\":{\"outlinewidth\":0,\"ticks\":\"\"}}}],\"scattercarpet\":[{\"type\":\"scattercarpet\",\"marker\":{\"colorbar\":{\"outlinewidth\":0,\"ticks\":\"\"}}}],\"carpet\":[{\"aaxis\":{\"endlinecolor\":\"#2a3f5f\",\"gridcolor\":\"white\",\"linecolor\":\"white\",\"minorgridcolor\":\"white\",\"startlinecolor\":\"#2a3f5f\"},\"baxis\":{\"endlinecolor\":\"#2a3f5f\",\"gridcolor\":\"white\",\"linecolor\":\"white\",\"minorgridcolor\":\"white\",\"startlinecolor\":\"#2a3f5f\"},\"type\":\"carpet\"}],\"table\":[{\"cells\":{\"fill\":{\"color\":\"#EBF0F8\"},\"line\":{\"color\":\"white\"}},\"header\":{\"fill\":{\"color\":\"#C8D4E3\"},\"line\":{\"color\":\"white\"}},\"type\":\"table\"}],\"barpolar\":[{\"marker\":{\"line\":{\"color\":\"#E5ECF6\",\"width\":0.5},\"pattern\":{\"fillmode\":\"overlay\",\"size\":10,\"solidity\":0.2}},\"type\":\"barpolar\"}],\"pie\":[{\"automargin\":true,\"type\":\"pie\"}]},\"layout\":{\"autotypenumbers\":\"strict\",\"colorway\":[\"#636efa\",\"#EF553B\",\"#00cc96\",\"#ab63fa\",\"#FFA15A\",\"#19d3f3\",\"#FF6692\",\"#B6E880\",\"#FF97FF\",\"#FECB52\"],\"font\":{\"color\":\"#2a3f5f\"},\"hovermode\":\"closest\",\"hoverlabel\":{\"align\":\"left\"},\"paper_bgcolor\":\"white\",\"plot_bgcolor\":\"#E5ECF6\",\"polar\":{\"bgcolor\":\"#E5ECF6\",\"angularaxis\":{\"gridcolor\":\"white\",\"linecolor\":\"white\",\"ticks\":\"\"},\"radialaxis\":{\"gridcolor\":\"white\",\"linecolor\":\"white\",\"ticks\":\"\"}},\"ternary\":{\"bgcolor\":\"#E5ECF6\",\"aaxis\":{\"gridcolor\":\"white\",\"linecolor\":\"white\",\"ticks\":\"\"},\"baxis\":{\"gridcolor\":\"white\",\"linecolor\":\"white\",\"ticks\":\"\"},\"caxis\":{\"gridcolor\":\"white\",\"linecolor\":\"white\",\"ticks\":\"\"}},\"coloraxis\":{\"colorbar\":{\"outlinewidth\":0,\"ticks\":\"\"}},\"colorscale\":{\"sequential\":[[0.0,\"#0d0887\"],[0.1111111111111111,\"#46039f\"],[0.2222222222222222,\"#7201a8\"],[0.3333333333333333,\"#9c179e\"],[0.4444444444444444,\"#bd3786\"],[0.5555555555555556,\"#d8576b\"],[0.6666666666666666,\"#ed7953\"],[0.7777777777777778,\"#fb9f3a\"],[0.8888888888888888,\"#fdca26\"],[1.0,\"#f0f921\"]],\"sequentialminus\":[[0.0,\"#0d0887\"],[0.1111111111111111,\"#46039f\"],[0.2222222222222222,\"#7201a8\"],[0.3333333333333333,\"#9c179e\"],[0.4444444444444444,\"#bd3786\"],[0.5555555555555556,\"#d8576b\"],[0.6666666666666666,\"#ed7953\"],[0.7777777777777778,\"#fb9f3a\"],[0.8888888888888888,\"#fdca26\"],[1.0,\"#f0f921\"]],\"diverging\":[[0,\"#8e0152\"],[0.1,\"#c51b7d\"],[0.2,\"#de77ae\"],[0.3,\"#f1b6da\"],[0.4,\"#fde0ef\"],[0.5,\"#f7f7f7\"],[0.6,\"#e6f5d0\"],[0.7,\"#b8e186\"],[0.8,\"#7fbc41\"],[0.9,\"#4d9221\"],[1,\"#276419\"]]},\"xaxis\":{\"gridcolor\":\"white\",\"linecolor\":\"white\",\"ticks\":\"\",\"title\":{\"standoff\":15},\"zerolinecolor\":\"white\",\"automargin\":true,\"zerolinewidth\":2},\"yaxis\":{\"gridcolor\":\"white\",\"linecolor\":\"white\",\"ticks\":\"\",\"title\":{\"standoff\":15},\"zerolinecolor\":\"white\",\"automargin\":true,\"zerolinewidth\":2},\"scene\":{\"xaxis\":{\"backgroundcolor\":\"#E5ECF6\",\"gridcolor\":\"white\",\"linecolor\":\"white\",\"showbackground\":true,\"ticks\":\"\",\"zerolinecolor\":\"white\",\"gridwidth\":2},\"yaxis\":{\"backgroundcolor\":\"#E5ECF6\",\"gridcolor\":\"white\",\"linecolor\":\"white\",\"showbackground\":true,\"ticks\":\"\",\"zerolinecolor\":\"white\",\"gridwidth\":2},\"zaxis\":{\"backgroundcolor\":\"#E5ECF6\",\"gridcolor\":\"white\",\"linecolor\":\"white\",\"showbackground\":true,\"ticks\":\"\",\"zerolinecolor\":\"white\",\"gridwidth\":2}},\"shapedefaults\":{\"line\":{\"color\":\"#2a3f5f\"}},\"annotationdefaults\":{\"arrowcolor\":\"#2a3f5f\",\"arrowhead\":0,\"arrowwidth\":1},\"geo\":{\"bgcolor\":\"white\",\"landcolor\":\"#E5ECF6\",\"subunitcolor\":\"white\",\"showland\":true,\"showlakes\":true,\"lakecolor\":\"white\"},\"title\":{\"x\":0.05},\"mapbox\":{\"style\":\"light\"}}}},                        {\"responsive\": true}                    ).then(function(){\n",
       "                            \n",
       "var gd = document.getElementById('82bb152c-e09c-43dc-aac7-90a0a018decd');\n",
       "var x = new MutationObserver(function (mutations, observer) {{\n",
       "        var display = window.getComputedStyle(gd).display;\n",
       "        if (!display || display === 'none') {{\n",
       "            console.log([gd, 'removed!']);\n",
       "            Plotly.purge(gd);\n",
       "            observer.disconnect();\n",
       "        }}\n",
       "}});\n",
       "\n",
       "// Listen for the removal of the full notebook cells\n",
       "var notebookContainer = gd.closest('#notebook-container');\n",
       "if (notebookContainer) {{\n",
       "    x.observe(notebookContainer, {childList: true});\n",
       "}}\n",
       "\n",
       "// Listen for the clearing of the current output cell\n",
       "var outputEl = gd.closest('.output');\n",
       "if (outputEl) {{\n",
       "    x.observe(outputEl, {childList: true});\n",
       "}}\n",
       "\n",
       "                        })                };                });            </script>        </div>"
      ]
     },
     "metadata": {},
     "output_type": "display_data"
    }
   ],
   "source": [
    "# Since they are stored in dictionary, take the values and keys of the original virus and infection and \n",
    "# breakthrough virus and infection and use them to make \n",
    "# a bar graph to show the comparison of the people that are vaccinated how many of them would be protected and how many\n",
    "# even if they are vaccinated would get the virus and the infections\n",
    "country1 = list(val3.keys())\n",
    "country21 = list(val4.keys())\n",
    "breakthrough = list(val3.values())\n",
    "original = list(val4.values())\n",
    "country13 = list(val5.keys())\n",
    "country213 = list(val6.keys())\n",
    "breakthrough1 = list(val5.values())\n",
    "original1 = list(val6.values())\n",
    "# breakthrough bar graph\n",
    "databr = go.Bar(\n",
    "    x = country1,\n",
    "    y = breakthrough,\n",
    "    name = \"Breakthrough\"\n",
    ")\n",
    "# original virus bar graph\n",
    "dataor = go.Bar(\n",
    "    x = country21,\n",
    "    y = original,\n",
    "    name = \"Original\"\n",
    ")\n",
    "# breakthrough infection bar graph\n",
    "databr1 = go.Bar(\n",
    "    x = country13,\n",
    "    y = breakthrough1,\n",
    "    name = \"Breakthrough Infection\"\n",
    ")\n",
    "# original infection bar graph\n",
    "dataor1 = go.Bar(\n",
    "    x = country213,\n",
    "    y = original1,\n",
    "    name = \"Original Infection\"\n",
    ")\n",
    "\n",
    "# store the bar graph values\n",
    "databror = [databr, dataor, databr1, dataor1]\n",
    "\n",
    "# create the bar graph\n",
    "layoutorbr = go.Layout(title = 'Severe vs Breakthrough Virus Effects', legend_title='Severe and Infection Status', xaxis_title='Continent', yaxis_title='% Percentage Protected/Susceptible')\n",
    "figorbr = go.Figure(data = databror, layout = layoutorbr)\n",
    "\n",
    "figorbr.show()"
   ]
  },
  {
   "cell_type": "markdown",
   "id": "c03fb103",
   "metadata": {
    "extensions": {
     "jupyter_dashboards": {
      "version": 1,
      "views": {
       "grid_default": {},
       "report_default": {
        "hidden": false
       }
      }
     }
    }
   },
   "source": [
    "# Bar Graph of Breakthrough Susceptible and Protection against Omicron"
   ]
  },
  {
   "cell_type": "markdown",
   "id": "1f01914e",
   "metadata": {
    "extensions": {
     "jupyter_dashboards": {
      "version": 1,
      "views": {
       "grid_default": {},
       "report_default": {
        "hidden": false
       }
      }
     }
    }
   },
   "source": [
    "## In this graph we see most people are more likely to be Susceptible from Breakthrough Omicron Infection compared to being protected Omicron Virus which is a huge deal compared to the last graph where the breakthrough virus was less percentage for susceptible even when vaccinated. We see that there is less percentage of protection against the Infection Omicron and an increase in Breakthrough Omicron compared to the last graph where people are less susceptible to get the breakthrough virus and infection. This shows that people getting vaccinated does have a higher chance of getting Omicron compared to the original virus. "
   ]
  },
  {
   "cell_type": "code",
   "execution_count": 26,
   "id": "d4051cd6",
   "metadata": {
    "extensions": {
     "jupyter_dashboards": {
      "version": 1,
      "views": {
       "grid_default": {},
       "report_default": {
        "hidden": false
       }
      }
     }
    }
   },
   "outputs": [
    {
     "data": {
      "application/vnd.plotly.v1+json": {
       "config": {
        "plotlyServerURL": "https://plot.ly"
       },
       "data": [
        {
         "name": "Breakthrough Omicron",
         "type": "bar",
         "x": [
          "Africa",
          "Asia",
          "Europe",
          "North America",
          "Oceania",
          "South America"
         ],
         "y": [
          0.14474730700843863,
          0.28478603297217525,
          0.2774430011763215,
          0.227500321586281,
          0.24069554552895436,
          0.28434420730852755
         ]
        },
        {
         "name": "Original Omicron",
         "type": "bar",
         "x": [
          "Africa",
          "Asia",
          "Europe",
          "North America",
          "Oceania",
          "South America"
         ],
         "y": [
          0.2400240213696182,
          0.3927192475656095,
          0.41190540577952284,
          0.4084500628993031,
          0.5009905297728668,
          0.4518224826413036
         ]
        },
        {
         "name": "Breakthrough Infection Omicron",
         "type": "bar",
         "x": [
          "Africa",
          "Asia",
          "Europe",
          "North America",
          "Oceania",
          "South America"
         ],
         "y": [
          0.24451786168271997,
          0.4383508391334875,
          0.44314566223330565,
          0.396491451418159,
          0.45554336740331486,
          0.4672572738642344
         ]
        },
        {
         "name": "Original Infection Omicron",
         "type": "bar",
         "x": [
          "Africa",
          "Asia",
          "Europe",
          "North America",
          "Oceania",
          "South America"
         ],
         "y": [
          0.1402534666953367,
          0.23915444140429726,
          0.2462027447225385,
          0.23945893306742502,
          0.2861427078985062,
          0.268909416085597
         ]
        }
       ],
       "layout": {
        "legend": {
         "title": {
          "text": "Severe and Infection Status"
         }
        },
        "template": {
         "data": {
          "bar": [
           {
            "error_x": {
             "color": "#2a3f5f"
            },
            "error_y": {
             "color": "#2a3f5f"
            },
            "marker": {
             "line": {
              "color": "#E5ECF6",
              "width": 0.5
             },
             "pattern": {
              "fillmode": "overlay",
              "size": 10,
              "solidity": 0.2
             }
            },
            "type": "bar"
           }
          ],
          "barpolar": [
           {
            "marker": {
             "line": {
              "color": "#E5ECF6",
              "width": 0.5
             },
             "pattern": {
              "fillmode": "overlay",
              "size": 10,
              "solidity": 0.2
             }
            },
            "type": "barpolar"
           }
          ],
          "carpet": [
           {
            "aaxis": {
             "endlinecolor": "#2a3f5f",
             "gridcolor": "white",
             "linecolor": "white",
             "minorgridcolor": "white",
             "startlinecolor": "#2a3f5f"
            },
            "baxis": {
             "endlinecolor": "#2a3f5f",
             "gridcolor": "white",
             "linecolor": "white",
             "minorgridcolor": "white",
             "startlinecolor": "#2a3f5f"
            },
            "type": "carpet"
           }
          ],
          "choropleth": [
           {
            "colorbar": {
             "outlinewidth": 0,
             "ticks": ""
            },
            "type": "choropleth"
           }
          ],
          "contour": [
           {
            "colorbar": {
             "outlinewidth": 0,
             "ticks": ""
            },
            "colorscale": [
             [
              0,
              "#0d0887"
             ],
             [
              0.1111111111111111,
              "#46039f"
             ],
             [
              0.2222222222222222,
              "#7201a8"
             ],
             [
              0.3333333333333333,
              "#9c179e"
             ],
             [
              0.4444444444444444,
              "#bd3786"
             ],
             [
              0.5555555555555556,
              "#d8576b"
             ],
             [
              0.6666666666666666,
              "#ed7953"
             ],
             [
              0.7777777777777778,
              "#fb9f3a"
             ],
             [
              0.8888888888888888,
              "#fdca26"
             ],
             [
              1,
              "#f0f921"
             ]
            ],
            "type": "contour"
           }
          ],
          "contourcarpet": [
           {
            "colorbar": {
             "outlinewidth": 0,
             "ticks": ""
            },
            "type": "contourcarpet"
           }
          ],
          "heatmap": [
           {
            "colorbar": {
             "outlinewidth": 0,
             "ticks": ""
            },
            "colorscale": [
             [
              0,
              "#0d0887"
             ],
             [
              0.1111111111111111,
              "#46039f"
             ],
             [
              0.2222222222222222,
              "#7201a8"
             ],
             [
              0.3333333333333333,
              "#9c179e"
             ],
             [
              0.4444444444444444,
              "#bd3786"
             ],
             [
              0.5555555555555556,
              "#d8576b"
             ],
             [
              0.6666666666666666,
              "#ed7953"
             ],
             [
              0.7777777777777778,
              "#fb9f3a"
             ],
             [
              0.8888888888888888,
              "#fdca26"
             ],
             [
              1,
              "#f0f921"
             ]
            ],
            "type": "heatmap"
           }
          ],
          "heatmapgl": [
           {
            "colorbar": {
             "outlinewidth": 0,
             "ticks": ""
            },
            "colorscale": [
             [
              0,
              "#0d0887"
             ],
             [
              0.1111111111111111,
              "#46039f"
             ],
             [
              0.2222222222222222,
              "#7201a8"
             ],
             [
              0.3333333333333333,
              "#9c179e"
             ],
             [
              0.4444444444444444,
              "#bd3786"
             ],
             [
              0.5555555555555556,
              "#d8576b"
             ],
             [
              0.6666666666666666,
              "#ed7953"
             ],
             [
              0.7777777777777778,
              "#fb9f3a"
             ],
             [
              0.8888888888888888,
              "#fdca26"
             ],
             [
              1,
              "#f0f921"
             ]
            ],
            "type": "heatmapgl"
           }
          ],
          "histogram": [
           {
            "marker": {
             "pattern": {
              "fillmode": "overlay",
              "size": 10,
              "solidity": 0.2
             }
            },
            "type": "histogram"
           }
          ],
          "histogram2d": [
           {
            "colorbar": {
             "outlinewidth": 0,
             "ticks": ""
            },
            "colorscale": [
             [
              0,
              "#0d0887"
             ],
             [
              0.1111111111111111,
              "#46039f"
             ],
             [
              0.2222222222222222,
              "#7201a8"
             ],
             [
              0.3333333333333333,
              "#9c179e"
             ],
             [
              0.4444444444444444,
              "#bd3786"
             ],
             [
              0.5555555555555556,
              "#d8576b"
             ],
             [
              0.6666666666666666,
              "#ed7953"
             ],
             [
              0.7777777777777778,
              "#fb9f3a"
             ],
             [
              0.8888888888888888,
              "#fdca26"
             ],
             [
              1,
              "#f0f921"
             ]
            ],
            "type": "histogram2d"
           }
          ],
          "histogram2dcontour": [
           {
            "colorbar": {
             "outlinewidth": 0,
             "ticks": ""
            },
            "colorscale": [
             [
              0,
              "#0d0887"
             ],
             [
              0.1111111111111111,
              "#46039f"
             ],
             [
              0.2222222222222222,
              "#7201a8"
             ],
             [
              0.3333333333333333,
              "#9c179e"
             ],
             [
              0.4444444444444444,
              "#bd3786"
             ],
             [
              0.5555555555555556,
              "#d8576b"
             ],
             [
              0.6666666666666666,
              "#ed7953"
             ],
             [
              0.7777777777777778,
              "#fb9f3a"
             ],
             [
              0.8888888888888888,
              "#fdca26"
             ],
             [
              1,
              "#f0f921"
             ]
            ],
            "type": "histogram2dcontour"
           }
          ],
          "mesh3d": [
           {
            "colorbar": {
             "outlinewidth": 0,
             "ticks": ""
            },
            "type": "mesh3d"
           }
          ],
          "parcoords": [
           {
            "line": {
             "colorbar": {
              "outlinewidth": 0,
              "ticks": ""
             }
            },
            "type": "parcoords"
           }
          ],
          "pie": [
           {
            "automargin": true,
            "type": "pie"
           }
          ],
          "scatter": [
           {
            "fillpattern": {
             "fillmode": "overlay",
             "size": 10,
             "solidity": 0.2
            },
            "type": "scatter"
           }
          ],
          "scatter3d": [
           {
            "line": {
             "colorbar": {
              "outlinewidth": 0,
              "ticks": ""
             }
            },
            "marker": {
             "colorbar": {
              "outlinewidth": 0,
              "ticks": ""
             }
            },
            "type": "scatter3d"
           }
          ],
          "scattercarpet": [
           {
            "marker": {
             "colorbar": {
              "outlinewidth": 0,
              "ticks": ""
             }
            },
            "type": "scattercarpet"
           }
          ],
          "scattergeo": [
           {
            "marker": {
             "colorbar": {
              "outlinewidth": 0,
              "ticks": ""
             }
            },
            "type": "scattergeo"
           }
          ],
          "scattergl": [
           {
            "marker": {
             "colorbar": {
              "outlinewidth": 0,
              "ticks": ""
             }
            },
            "type": "scattergl"
           }
          ],
          "scattermapbox": [
           {
            "marker": {
             "colorbar": {
              "outlinewidth": 0,
              "ticks": ""
             }
            },
            "type": "scattermapbox"
           }
          ],
          "scatterpolar": [
           {
            "marker": {
             "colorbar": {
              "outlinewidth": 0,
              "ticks": ""
             }
            },
            "type": "scatterpolar"
           }
          ],
          "scatterpolargl": [
           {
            "marker": {
             "colorbar": {
              "outlinewidth": 0,
              "ticks": ""
             }
            },
            "type": "scatterpolargl"
           }
          ],
          "scatterternary": [
           {
            "marker": {
             "colorbar": {
              "outlinewidth": 0,
              "ticks": ""
             }
            },
            "type": "scatterternary"
           }
          ],
          "surface": [
           {
            "colorbar": {
             "outlinewidth": 0,
             "ticks": ""
            },
            "colorscale": [
             [
              0,
              "#0d0887"
             ],
             [
              0.1111111111111111,
              "#46039f"
             ],
             [
              0.2222222222222222,
              "#7201a8"
             ],
             [
              0.3333333333333333,
              "#9c179e"
             ],
             [
              0.4444444444444444,
              "#bd3786"
             ],
             [
              0.5555555555555556,
              "#d8576b"
             ],
             [
              0.6666666666666666,
              "#ed7953"
             ],
             [
              0.7777777777777778,
              "#fb9f3a"
             ],
             [
              0.8888888888888888,
              "#fdca26"
             ],
             [
              1,
              "#f0f921"
             ]
            ],
            "type": "surface"
           }
          ],
          "table": [
           {
            "cells": {
             "fill": {
              "color": "#EBF0F8"
             },
             "line": {
              "color": "white"
             }
            },
            "header": {
             "fill": {
              "color": "#C8D4E3"
             },
             "line": {
              "color": "white"
             }
            },
            "type": "table"
           }
          ]
         },
         "layout": {
          "annotationdefaults": {
           "arrowcolor": "#2a3f5f",
           "arrowhead": 0,
           "arrowwidth": 1
          },
          "autotypenumbers": "strict",
          "coloraxis": {
           "colorbar": {
            "outlinewidth": 0,
            "ticks": ""
           }
          },
          "colorscale": {
           "diverging": [
            [
             0,
             "#8e0152"
            ],
            [
             0.1,
             "#c51b7d"
            ],
            [
             0.2,
             "#de77ae"
            ],
            [
             0.3,
             "#f1b6da"
            ],
            [
             0.4,
             "#fde0ef"
            ],
            [
             0.5,
             "#f7f7f7"
            ],
            [
             0.6,
             "#e6f5d0"
            ],
            [
             0.7,
             "#b8e186"
            ],
            [
             0.8,
             "#7fbc41"
            ],
            [
             0.9,
             "#4d9221"
            ],
            [
             1,
             "#276419"
            ]
           ],
           "sequential": [
            [
             0,
             "#0d0887"
            ],
            [
             0.1111111111111111,
             "#46039f"
            ],
            [
             0.2222222222222222,
             "#7201a8"
            ],
            [
             0.3333333333333333,
             "#9c179e"
            ],
            [
             0.4444444444444444,
             "#bd3786"
            ],
            [
             0.5555555555555556,
             "#d8576b"
            ],
            [
             0.6666666666666666,
             "#ed7953"
            ],
            [
             0.7777777777777778,
             "#fb9f3a"
            ],
            [
             0.8888888888888888,
             "#fdca26"
            ],
            [
             1,
             "#f0f921"
            ]
           ],
           "sequentialminus": [
            [
             0,
             "#0d0887"
            ],
            [
             0.1111111111111111,
             "#46039f"
            ],
            [
             0.2222222222222222,
             "#7201a8"
            ],
            [
             0.3333333333333333,
             "#9c179e"
            ],
            [
             0.4444444444444444,
             "#bd3786"
            ],
            [
             0.5555555555555556,
             "#d8576b"
            ],
            [
             0.6666666666666666,
             "#ed7953"
            ],
            [
             0.7777777777777778,
             "#fb9f3a"
            ],
            [
             0.8888888888888888,
             "#fdca26"
            ],
            [
             1,
             "#f0f921"
            ]
           ]
          },
          "colorway": [
           "#636efa",
           "#EF553B",
           "#00cc96",
           "#ab63fa",
           "#FFA15A",
           "#19d3f3",
           "#FF6692",
           "#B6E880",
           "#FF97FF",
           "#FECB52"
          ],
          "font": {
           "color": "#2a3f5f"
          },
          "geo": {
           "bgcolor": "white",
           "lakecolor": "white",
           "landcolor": "#E5ECF6",
           "showlakes": true,
           "showland": true,
           "subunitcolor": "white"
          },
          "hoverlabel": {
           "align": "left"
          },
          "hovermode": "closest",
          "mapbox": {
           "style": "light"
          },
          "paper_bgcolor": "white",
          "plot_bgcolor": "#E5ECF6",
          "polar": {
           "angularaxis": {
            "gridcolor": "white",
            "linecolor": "white",
            "ticks": ""
           },
           "bgcolor": "#E5ECF6",
           "radialaxis": {
            "gridcolor": "white",
            "linecolor": "white",
            "ticks": ""
           }
          },
          "scene": {
           "xaxis": {
            "backgroundcolor": "#E5ECF6",
            "gridcolor": "white",
            "gridwidth": 2,
            "linecolor": "white",
            "showbackground": true,
            "ticks": "",
            "zerolinecolor": "white"
           },
           "yaxis": {
            "backgroundcolor": "#E5ECF6",
            "gridcolor": "white",
            "gridwidth": 2,
            "linecolor": "white",
            "showbackground": true,
            "ticks": "",
            "zerolinecolor": "white"
           },
           "zaxis": {
            "backgroundcolor": "#E5ECF6",
            "gridcolor": "white",
            "gridwidth": 2,
            "linecolor": "white",
            "showbackground": true,
            "ticks": "",
            "zerolinecolor": "white"
           }
          },
          "shapedefaults": {
           "line": {
            "color": "#2a3f5f"
           }
          },
          "ternary": {
           "aaxis": {
            "gridcolor": "white",
            "linecolor": "white",
            "ticks": ""
           },
           "baxis": {
            "gridcolor": "white",
            "linecolor": "white",
            "ticks": ""
           },
           "bgcolor": "#E5ECF6",
           "caxis": {
            "gridcolor": "white",
            "linecolor": "white",
            "ticks": ""
           }
          },
          "title": {
           "x": 0.05
          },
          "xaxis": {
           "automargin": true,
           "gridcolor": "white",
           "linecolor": "white",
           "ticks": "",
           "title": {
            "standoff": 15
           },
           "zerolinecolor": "white",
           "zerolinewidth": 2
          },
          "yaxis": {
           "automargin": true,
           "gridcolor": "white",
           "linecolor": "white",
           "ticks": "",
           "title": {
            "standoff": 15
           },
           "zerolinecolor": "white",
           "zerolinewidth": 2
          }
         }
        },
        "title": {
         "text": "Severe vs Breakthrough Virus Effects"
        },
        "xaxis": {
         "title": {
          "text": "Continent"
         }
        },
        "yaxis": {
         "title": {
          "text": "% Percentage"
         }
        }
       }
      },
      "text/html": [
       "<div>                            <div id=\"208e1537-7610-4263-ad80-c9f947a2eae1\" class=\"plotly-graph-div\" style=\"height:525px; width:100%;\"></div>            <script type=\"text/javascript\">                require([\"plotly\"], function(Plotly) {                    window.PLOTLYENV=window.PLOTLYENV || {};                                    if (document.getElementById(\"208e1537-7610-4263-ad80-c9f947a2eae1\")) {                    Plotly.newPlot(                        \"208e1537-7610-4263-ad80-c9f947a2eae1\",                        [{\"name\":\"Breakthrough Omicron\",\"x\":[\"Africa\",\"Asia\",\"Europe\",\"North America\",\"Oceania\",\"South America\"],\"y\":[0.14474730700843863,0.28478603297217525,0.2774430011763215,0.227500321586281,0.24069554552895436,0.28434420730852755],\"type\":\"bar\"},{\"name\":\"Original Omicron\",\"x\":[\"Africa\",\"Asia\",\"Europe\",\"North America\",\"Oceania\",\"South America\"],\"y\":[0.2400240213696182,0.3927192475656095,0.41190540577952284,0.4084500628993031,0.5009905297728668,0.4518224826413036],\"type\":\"bar\"},{\"name\":\"Breakthrough Infection Omicron\",\"x\":[\"Africa\",\"Asia\",\"Europe\",\"North America\",\"Oceania\",\"South America\"],\"y\":[0.24451786168271997,0.4383508391334875,0.44314566223330565,0.396491451418159,0.45554336740331486,0.4672572738642344],\"type\":\"bar\"},{\"name\":\"Original Infection Omicron\",\"x\":[\"Africa\",\"Asia\",\"Europe\",\"North America\",\"Oceania\",\"South America\"],\"y\":[0.1402534666953367,0.23915444140429726,0.2462027447225385,0.23945893306742502,0.2861427078985062,0.268909416085597],\"type\":\"bar\"}],                        {\"legend\":{\"title\":{\"text\":\"Severe and Infection Status\"}},\"title\":{\"text\":\"Severe vs Breakthrough Virus Effects\"},\"xaxis\":{\"title\":{\"text\":\"Continent\"}},\"yaxis\":{\"title\":{\"text\":\"% Percentage\"}},\"template\":{\"data\":{\"histogram2dcontour\":[{\"type\":\"histogram2dcontour\",\"colorbar\":{\"outlinewidth\":0,\"ticks\":\"\"},\"colorscale\":[[0.0,\"#0d0887\"],[0.1111111111111111,\"#46039f\"],[0.2222222222222222,\"#7201a8\"],[0.3333333333333333,\"#9c179e\"],[0.4444444444444444,\"#bd3786\"],[0.5555555555555556,\"#d8576b\"],[0.6666666666666666,\"#ed7953\"],[0.7777777777777778,\"#fb9f3a\"],[0.8888888888888888,\"#fdca26\"],[1.0,\"#f0f921\"]]}],\"choropleth\":[{\"type\":\"choropleth\",\"colorbar\":{\"outlinewidth\":0,\"ticks\":\"\"}}],\"histogram2d\":[{\"type\":\"histogram2d\",\"colorbar\":{\"outlinewidth\":0,\"ticks\":\"\"},\"colorscale\":[[0.0,\"#0d0887\"],[0.1111111111111111,\"#46039f\"],[0.2222222222222222,\"#7201a8\"],[0.3333333333333333,\"#9c179e\"],[0.4444444444444444,\"#bd3786\"],[0.5555555555555556,\"#d8576b\"],[0.6666666666666666,\"#ed7953\"],[0.7777777777777778,\"#fb9f3a\"],[0.8888888888888888,\"#fdca26\"],[1.0,\"#f0f921\"]]}],\"heatmap\":[{\"type\":\"heatmap\",\"colorbar\":{\"outlinewidth\":0,\"ticks\":\"\"},\"colorscale\":[[0.0,\"#0d0887\"],[0.1111111111111111,\"#46039f\"],[0.2222222222222222,\"#7201a8\"],[0.3333333333333333,\"#9c179e\"],[0.4444444444444444,\"#bd3786\"],[0.5555555555555556,\"#d8576b\"],[0.6666666666666666,\"#ed7953\"],[0.7777777777777778,\"#fb9f3a\"],[0.8888888888888888,\"#fdca26\"],[1.0,\"#f0f921\"]]}],\"heatmapgl\":[{\"type\":\"heatmapgl\",\"colorbar\":{\"outlinewidth\":0,\"ticks\":\"\"},\"colorscale\":[[0.0,\"#0d0887\"],[0.1111111111111111,\"#46039f\"],[0.2222222222222222,\"#7201a8\"],[0.3333333333333333,\"#9c179e\"],[0.4444444444444444,\"#bd3786\"],[0.5555555555555556,\"#d8576b\"],[0.6666666666666666,\"#ed7953\"],[0.7777777777777778,\"#fb9f3a\"],[0.8888888888888888,\"#fdca26\"],[1.0,\"#f0f921\"]]}],\"contourcarpet\":[{\"type\":\"contourcarpet\",\"colorbar\":{\"outlinewidth\":0,\"ticks\":\"\"}}],\"contour\":[{\"type\":\"contour\",\"colorbar\":{\"outlinewidth\":0,\"ticks\":\"\"},\"colorscale\":[[0.0,\"#0d0887\"],[0.1111111111111111,\"#46039f\"],[0.2222222222222222,\"#7201a8\"],[0.3333333333333333,\"#9c179e\"],[0.4444444444444444,\"#bd3786\"],[0.5555555555555556,\"#d8576b\"],[0.6666666666666666,\"#ed7953\"],[0.7777777777777778,\"#fb9f3a\"],[0.8888888888888888,\"#fdca26\"],[1.0,\"#f0f921\"]]}],\"surface\":[{\"type\":\"surface\",\"colorbar\":{\"outlinewidth\":0,\"ticks\":\"\"},\"colorscale\":[[0.0,\"#0d0887\"],[0.1111111111111111,\"#46039f\"],[0.2222222222222222,\"#7201a8\"],[0.3333333333333333,\"#9c179e\"],[0.4444444444444444,\"#bd3786\"],[0.5555555555555556,\"#d8576b\"],[0.6666666666666666,\"#ed7953\"],[0.7777777777777778,\"#fb9f3a\"],[0.8888888888888888,\"#fdca26\"],[1.0,\"#f0f921\"]]}],\"mesh3d\":[{\"type\":\"mesh3d\",\"colorbar\":{\"outlinewidth\":0,\"ticks\":\"\"}}],\"scatter\":[{\"fillpattern\":{\"fillmode\":\"overlay\",\"size\":10,\"solidity\":0.2},\"type\":\"scatter\"}],\"parcoords\":[{\"type\":\"parcoords\",\"line\":{\"colorbar\":{\"outlinewidth\":0,\"ticks\":\"\"}}}],\"scatterpolargl\":[{\"type\":\"scatterpolargl\",\"marker\":{\"colorbar\":{\"outlinewidth\":0,\"ticks\":\"\"}}}],\"bar\":[{\"error_x\":{\"color\":\"#2a3f5f\"},\"error_y\":{\"color\":\"#2a3f5f\"},\"marker\":{\"line\":{\"color\":\"#E5ECF6\",\"width\":0.5},\"pattern\":{\"fillmode\":\"overlay\",\"size\":10,\"solidity\":0.2}},\"type\":\"bar\"}],\"scattergeo\":[{\"type\":\"scattergeo\",\"marker\":{\"colorbar\":{\"outlinewidth\":0,\"ticks\":\"\"}}}],\"scatterpolar\":[{\"type\":\"scatterpolar\",\"marker\":{\"colorbar\":{\"outlinewidth\":0,\"ticks\":\"\"}}}],\"histogram\":[{\"marker\":{\"pattern\":{\"fillmode\":\"overlay\",\"size\":10,\"solidity\":0.2}},\"type\":\"histogram\"}],\"scattergl\":[{\"type\":\"scattergl\",\"marker\":{\"colorbar\":{\"outlinewidth\":0,\"ticks\":\"\"}}}],\"scatter3d\":[{\"type\":\"scatter3d\",\"line\":{\"colorbar\":{\"outlinewidth\":0,\"ticks\":\"\"}},\"marker\":{\"colorbar\":{\"outlinewidth\":0,\"ticks\":\"\"}}}],\"scattermapbox\":[{\"type\":\"scattermapbox\",\"marker\":{\"colorbar\":{\"outlinewidth\":0,\"ticks\":\"\"}}}],\"scatterternary\":[{\"type\":\"scatterternary\",\"marker\":{\"colorbar\":{\"outlinewidth\":0,\"ticks\":\"\"}}}],\"scattercarpet\":[{\"type\":\"scattercarpet\",\"marker\":{\"colorbar\":{\"outlinewidth\":0,\"ticks\":\"\"}}}],\"carpet\":[{\"aaxis\":{\"endlinecolor\":\"#2a3f5f\",\"gridcolor\":\"white\",\"linecolor\":\"white\",\"minorgridcolor\":\"white\",\"startlinecolor\":\"#2a3f5f\"},\"baxis\":{\"endlinecolor\":\"#2a3f5f\",\"gridcolor\":\"white\",\"linecolor\":\"white\",\"minorgridcolor\":\"white\",\"startlinecolor\":\"#2a3f5f\"},\"type\":\"carpet\"}],\"table\":[{\"cells\":{\"fill\":{\"color\":\"#EBF0F8\"},\"line\":{\"color\":\"white\"}},\"header\":{\"fill\":{\"color\":\"#C8D4E3\"},\"line\":{\"color\":\"white\"}},\"type\":\"table\"}],\"barpolar\":[{\"marker\":{\"line\":{\"color\":\"#E5ECF6\",\"width\":0.5},\"pattern\":{\"fillmode\":\"overlay\",\"size\":10,\"solidity\":0.2}},\"type\":\"barpolar\"}],\"pie\":[{\"automargin\":true,\"type\":\"pie\"}]},\"layout\":{\"autotypenumbers\":\"strict\",\"colorway\":[\"#636efa\",\"#EF553B\",\"#00cc96\",\"#ab63fa\",\"#FFA15A\",\"#19d3f3\",\"#FF6692\",\"#B6E880\",\"#FF97FF\",\"#FECB52\"],\"font\":{\"color\":\"#2a3f5f\"},\"hovermode\":\"closest\",\"hoverlabel\":{\"align\":\"left\"},\"paper_bgcolor\":\"white\",\"plot_bgcolor\":\"#E5ECF6\",\"polar\":{\"bgcolor\":\"#E5ECF6\",\"angularaxis\":{\"gridcolor\":\"white\",\"linecolor\":\"white\",\"ticks\":\"\"},\"radialaxis\":{\"gridcolor\":\"white\",\"linecolor\":\"white\",\"ticks\":\"\"}},\"ternary\":{\"bgcolor\":\"#E5ECF6\",\"aaxis\":{\"gridcolor\":\"white\",\"linecolor\":\"white\",\"ticks\":\"\"},\"baxis\":{\"gridcolor\":\"white\",\"linecolor\":\"white\",\"ticks\":\"\"},\"caxis\":{\"gridcolor\":\"white\",\"linecolor\":\"white\",\"ticks\":\"\"}},\"coloraxis\":{\"colorbar\":{\"outlinewidth\":0,\"ticks\":\"\"}},\"colorscale\":{\"sequential\":[[0.0,\"#0d0887\"],[0.1111111111111111,\"#46039f\"],[0.2222222222222222,\"#7201a8\"],[0.3333333333333333,\"#9c179e\"],[0.4444444444444444,\"#bd3786\"],[0.5555555555555556,\"#d8576b\"],[0.6666666666666666,\"#ed7953\"],[0.7777777777777778,\"#fb9f3a\"],[0.8888888888888888,\"#fdca26\"],[1.0,\"#f0f921\"]],\"sequentialminus\":[[0.0,\"#0d0887\"],[0.1111111111111111,\"#46039f\"],[0.2222222222222222,\"#7201a8\"],[0.3333333333333333,\"#9c179e\"],[0.4444444444444444,\"#bd3786\"],[0.5555555555555556,\"#d8576b\"],[0.6666666666666666,\"#ed7953\"],[0.7777777777777778,\"#fb9f3a\"],[0.8888888888888888,\"#fdca26\"],[1.0,\"#f0f921\"]],\"diverging\":[[0,\"#8e0152\"],[0.1,\"#c51b7d\"],[0.2,\"#de77ae\"],[0.3,\"#f1b6da\"],[0.4,\"#fde0ef\"],[0.5,\"#f7f7f7\"],[0.6,\"#e6f5d0\"],[0.7,\"#b8e186\"],[0.8,\"#7fbc41\"],[0.9,\"#4d9221\"],[1,\"#276419\"]]},\"xaxis\":{\"gridcolor\":\"white\",\"linecolor\":\"white\",\"ticks\":\"\",\"title\":{\"standoff\":15},\"zerolinecolor\":\"white\",\"automargin\":true,\"zerolinewidth\":2},\"yaxis\":{\"gridcolor\":\"white\",\"linecolor\":\"white\",\"ticks\":\"\",\"title\":{\"standoff\":15},\"zerolinecolor\":\"white\",\"automargin\":true,\"zerolinewidth\":2},\"scene\":{\"xaxis\":{\"backgroundcolor\":\"#E5ECF6\",\"gridcolor\":\"white\",\"linecolor\":\"white\",\"showbackground\":true,\"ticks\":\"\",\"zerolinecolor\":\"white\",\"gridwidth\":2},\"yaxis\":{\"backgroundcolor\":\"#E5ECF6\",\"gridcolor\":\"white\",\"linecolor\":\"white\",\"showbackground\":true,\"ticks\":\"\",\"zerolinecolor\":\"white\",\"gridwidth\":2},\"zaxis\":{\"backgroundcolor\":\"#E5ECF6\",\"gridcolor\":\"white\",\"linecolor\":\"white\",\"showbackground\":true,\"ticks\":\"\",\"zerolinecolor\":\"white\",\"gridwidth\":2}},\"shapedefaults\":{\"line\":{\"color\":\"#2a3f5f\"}},\"annotationdefaults\":{\"arrowcolor\":\"#2a3f5f\",\"arrowhead\":0,\"arrowwidth\":1},\"geo\":{\"bgcolor\":\"white\",\"landcolor\":\"#E5ECF6\",\"subunitcolor\":\"white\",\"showland\":true,\"showlakes\":true,\"lakecolor\":\"white\"},\"title\":{\"x\":0.05},\"mapbox\":{\"style\":\"light\"}}}},                        {\"responsive\": true}                    ).then(function(){\n",
       "                            \n",
       "var gd = document.getElementById('208e1537-7610-4263-ad80-c9f947a2eae1');\n",
       "var x = new MutationObserver(function (mutations, observer) {{\n",
       "        var display = window.getComputedStyle(gd).display;\n",
       "        if (!display || display === 'none') {{\n",
       "            console.log([gd, 'removed!']);\n",
       "            Plotly.purge(gd);\n",
       "            observer.disconnect();\n",
       "        }}\n",
       "}});\n",
       "\n",
       "// Listen for the removal of the full notebook cells\n",
       "var notebookContainer = gd.closest('#notebook-container');\n",
       "if (notebookContainer) {{\n",
       "    x.observe(notebookContainer, {childList: true});\n",
       "}}\n",
       "\n",
       "// Listen for the clearing of the current output cell\n",
       "var outputEl = gd.closest('.output');\n",
       "if (outputEl) {{\n",
       "    x.observe(outputEl, {childList: true});\n",
       "}}\n",
       "\n",
       "                        })                };                });            </script>        </div>"
      ]
     },
     "metadata": {},
     "output_type": "display_data"
    }
   ],
   "source": [
    "# Since they are stored in dictionary, take the values and keys of the omicron virus and infection and \n",
    "# breakthrough omicron virus and infection and use them to make \n",
    "# a bar graph to show the comparison of the people that are vaccinated how many of them would be protected and how many\n",
    "# even if they are vaccinated would get the virus and the infection\n",
    "country14 = list(val7.keys())\n",
    "country214 = list(val8.keys())\n",
    "breakthrough4 = list(val7.values())\n",
    "original4 = list(val8.values())\n",
    "country135 = list(val9.keys())\n",
    "country2135 = list(val10.keys())\n",
    "breakthrough15 = list(val9.values())\n",
    "original15 = list(val10.values())\n",
    "# omicron breakthrough bar graph\n",
    "databr2 = go.Bar(\n",
    "    x = country14,\n",
    "    y = breakthrough4,\n",
    "    name = \"Breakthrough Omicron\"\n",
    ")\n",
    "# omicron virus bar graph\n",
    "dataor2 = go.Bar(\n",
    "    x = country214,\n",
    "    y = original4,\n",
    "    name = \"Original Omicron\"\n",
    ")\n",
    "# omicron breakthrough infection bar graph\n",
    "databr21 = go.Bar(\n",
    "    x = country135,\n",
    "    y = breakthrough15,\n",
    "    name = \"Breakthrough Infection Omicron\"\n",
    ")\n",
    "# omicron infection bar graph\n",
    "dataor22 = go.Bar(\n",
    "    x = country2135,\n",
    "    y = original15,\n",
    "    name = \"Original Infection Omicron\"\n",
    ")\n",
    "# store the bar graph values\n",
    "databror1 = [databr2, dataor2, databr21, dataor22]\n",
    "\n",
    "# create the bar graph\n",
    "layoutorbr1 = go.Layout(title = 'Severe vs Breakthrough Virus Effects', legend_title='Severe and Infection Status', xaxis_title='Continent', yaxis_title='% Percentage')\n",
    "figorbr1 = go.Figure(data = databror1, layout = layoutorbr1)\n",
    "\n",
    "figorbr1.show()"
   ]
  },
  {
   "cell_type": "markdown",
   "id": "8a5c6c07",
   "metadata": {
    "extensions": {
     "jupyter_dashboards": {
      "version": 1,
      "views": {
       "grid_default": {},
       "report_default": {
        "hidden": false
       }
      }
     }
    }
   },
   "source": [
    "# Percentage of Prople Protected against Original and Omicron Virus and Infected based on Percentage of People Vaccinated"
   ]
  },
  {
   "cell_type": "markdown",
   "id": "bf45c761",
   "metadata": {
    "extensions": {
     "jupyter_dashboards": {
      "version": 1,
      "views": {
       "grid_default": {},
       "report_default": {
        "hidden": false
       }
      }
     }
    }
   },
   "source": [
    "## We see that as more percentage of people in different countries are vaccinated, they are more likely to be protected against Original Severe Virus compared to the other infection and Omicron Virus. We do see in some continents some overlap between Severe Omicron and Infection Original Protection but in some continents we see that people are more likely to be protected against Infection Original and then we see that people are protected against Severe Omicron and less Protection against Omicron Infection. It is basically in decreasing order. But people are more likely to be protected against virus and infections if they are vaccinated "
   ]
  },
  {
   "cell_type": "code",
   "execution_count": 27,
   "id": "4ecb4c8d",
   "metadata": {
    "extensions": {
     "jupyter_dashboards": {
      "version": 1,
      "views": {
       "grid_default": {},
       "report_default": {
        "hidden": false
       }
      }
     }
    },
    "scrolled": false
   },
   "outputs": [
    {
     "data": {
      "application/vnd.jupyter.widget-view+json": {
       "model_id": "52b193f2636e49ad8206ff8a18184a83",
       "version_major": 2,
       "version_minor": 0
      },
      "text/plain": [
       "interactive(children=(Dropdown(description='Continents:', layout=Layout(width='300px'), options=('Asia', 'Euro…"
      ]
     },
     "metadata": {},
     "output_type": "display_data"
    },
    {
     "data": {
      "text/plain": [
       "<function __main__.cont(countr_dropdown)>"
      ]
     },
     "execution_count": 27,
     "metadata": {},
     "output_type": "execute_result"
    }
   ],
   "source": [
    "# Using the continents find out the population vaccinated and % protected against original and omicron virus and infection\n",
    "data = {}\n",
    "for i in countries:\n",
    "    # find the country in a continent along with population vaccinated, and % protected against original\n",
    "    # virus and infection and omicron virus and infection\n",
    "    af = df_new.loc[df_new['Continent']== i, ['COUNTRY', '% Population vaccinated']]\n",
    "    os = df_new.loc[df_new['Continent']== i, ['COUNTRY', '% People Protected for OMICRON SEVERE']]\n",
    "    os1 = df_new.loc[df_new['Continent']== i, ['COUNTRY', '% People Protected for OMICRON INFECTION']]\n",
    "    os21 = df_new.loc[df_new['Continent']== i, ['COUNTRY', '% People Protected for ORGINAL SEVERE']]\n",
    "    os22 = df_new.loc[df_new['Continent']== i, ['COUNTRY', '% People Protected for ORGINAL INFECTION']]\n",
    "    data[i] = [\n",
    "        # scatter plot for % protected against omicron virus for selected continent\n",
    "        go.Scatter(\n",
    "            x=af['% Population vaccinated'], \n",
    "            y=os['% People Protected for OMICRON SEVERE'], \n",
    "            name=\"People Protected against Severe Omicron\", \n",
    "            mode='markers', \n",
    "            marker=dict(size=8), \n",
    "            text=af['COUNTRY']\n",
    "        ),\n",
    "         # scatter plot for % protected against omicron infection for selected continent\n",
    "        go.Scatter(\n",
    "            x=af['% Population vaccinated'], \n",
    "            y=os1['% People Protected for OMICRON INFECTION'], \n",
    "            name=\"People Protected against Infection Omicron\", \n",
    "            mode='markers', \n",
    "            marker=dict(size=8), \n",
    "            text=af['COUNTRY']\n",
    "        ),\n",
    "         # scatter plot for % protected against original virus for selected continent\n",
    "        go.Scatter(\n",
    "            x=af['% Population vaccinated'], \n",
    "            y=os21['% People Protected for ORGINAL SEVERE'], \n",
    "            name=\"People Protected against Severe Original\", \n",
    "            mode='markers', \n",
    "            marker=dict(size=8), \n",
    "            text=af['COUNTRY']\n",
    "        ),\n",
    "         # scatter plot for % protected against original infection for selected continent\n",
    "        go.Scatter(\n",
    "            x=af['% Population vaccinated'], \n",
    "            y=os22['% People Protected for ORGINAL INFECTION'], \n",
    "            name=\"People Protected against Infection Original\", \n",
    "            mode='markers', \n",
    "            marker=dict(size=8), \n",
    "            text=af['COUNTRY']\n",
    "        )\n",
    "    ]\n",
    "\n",
    "# create the scatter plot\n",
    "layout = go.Layout(title='Percentage of People Protected Against Virus Based on Countries in Continents', legend_title='Vaccination Status', xaxis_title='% Vaccinated', yaxis_title='% Protected for Virus')\n",
    "\n",
    "# function to receive the data containing information for the continent\n",
    "def cont(countr_dropdown):\n",
    "    fig24 = go.Figure(data=data[countr_dropdown], layout=layout)\n",
    "    fig24.show()\n",
    "# create a widget of each continent to find the information\n",
    "count_dropdown = widgets.Dropdown(options=countries,\n",
    "                                    description='Continents:', \n",
    "                                    layout={'width': '300px'})\n",
    "\n",
    "# Attach the cont function to the dropdown widget\n",
    "widgets.interact(cont, countr_dropdown=count_dropdown)"
   ]
  },
  {
   "cell_type": "markdown",
   "id": "5ffb3840",
   "metadata": {
    "extensions": {
     "jupyter_dashboards": {
      "version": 1,
      "views": {
       "grid_default": {},
       "report_default": {
        "hidden": false
       }
      }
     }
    }
   },
   "source": [
    "# Percentage of Prople Susceotible For Breakthrough Original and Omicron Virus and Infection based on Percentage of People Vaccinated"
   ]
  },
  {
   "cell_type": "markdown",
   "id": "c73e9d17",
   "metadata": {
    "extensions": {
     "jupyter_dashboards": {
      "version": 1,
      "views": {
       "grid_default": {},
       "report_default": {
        "hidden": false
       }
      }
     }
    }
   },
   "source": [
    "## We see that more people in different countries in a continent are susceptible to Breakthrough Omicron Infection even when they are vaccinated. Then we see the second higest on people being susceptible to Breakthrough Severe Omicron then we see people being susceptible to Breakthrough Infection Original and then we see breakthrough of Original Severe. This shows as even though more people are vaccinated, they can still get the virus and not everyone is protected against the virus. It shows that with Omicron rising that time, more people are likely to get breakthrough virus and infection even when they are vaccinated. "
   ]
  },
  {
   "cell_type": "code",
   "execution_count": 28,
   "id": "06836395",
   "metadata": {
    "extensions": {
     "jupyter_dashboards": {
      "version": 1,
      "views": {
       "grid_default": {},
       "report_default": {
        "hidden": false
       }
      }
     }
    }
   },
   "outputs": [
    {
     "data": {
      "application/vnd.jupyter.widget-view+json": {
       "model_id": "5ff5f7b2be9949a69409330c4a3a9f30",
       "version_major": 2,
       "version_minor": 0
      },
      "text/plain": [
       "interactive(children=(Dropdown(description='Continents:', layout=Layout(width='300px'), options=('Asia', 'Euro…"
      ]
     },
     "metadata": {},
     "output_type": "display_data"
    },
    {
     "data": {
      "text/plain": [
       "<function __main__.display_scatter_plot2(selected_continent)>"
      ]
     },
     "execution_count": 28,
     "metadata": {},
     "output_type": "execute_result"
    }
   ],
   "source": [
    "# Using the continents find out the population vaccinated and % protected against breakthrough virus and infection\n",
    "data2 = {}\n",
    "for continent in countries:\n",
    "    # find the country in a continent along with population vaccinated, and % protected against original\n",
    "    # virus and infection and omicron virus and infection\n",
    "    af2 = df_new.loc[df_new['Continent'] == continent, ['COUNTRY', '% Population vaccinated']]\n",
    "    os2 = df_new.loc[df_new['Continent'] == continent, ['COUNTRY', '% SUCEPTIBLE for  BREAKTHROUGH OMICRON SEVERE']]\n",
    "    os12 = df_new.loc[df_new['Continent'] == continent, ['COUNTRY', '% SUCEPTIBLE for  BREAKTHROUGH OMICRON INFECTION']]\n",
    "    os212 = df_new.loc[df_new['Continent'] == continent, ['COUNTRY', '% SUCEPTIBLE for  BREAKTHROUGH  ORGINAL SEVERE']]\n",
    "    os222 = df_new.loc[df_new['Continent'] == continent, ['COUNTRY', '% SUCEPTIBLE for  BREAKTHROUGH ORIGINAL  INFECTION']]\n",
    "    data2[continent] = [\n",
    "        # scatter plot for % susceptible against breakthrough omicron virus\n",
    "        go.Scatter(\n",
    "            x=af2['% Population vaccinated'], \n",
    "            y=os2['% SUCEPTIBLE for  BREAKTHROUGH OMICRON SEVERE'], \n",
    "            name=\"People Susceptible for Severe Omicron\", \n",
    "            mode='markers', \n",
    "            marker=dict(size=8), \n",
    "            text=af2['COUNTRY']\n",
    "        ),\n",
    "         # scatter plot for % susceptible against breakthrough omicron infection\n",
    "        go.Scatter(\n",
    "            x=af2['% Population vaccinated'], \n",
    "            y=os12['% SUCEPTIBLE for  BREAKTHROUGH OMICRON INFECTION'], \n",
    "            name=\"People Susceptible for Infection Omicron\", \n",
    "            mode='markers', \n",
    "            marker=dict(size=8), \n",
    "            text=af2['COUNTRY']\n",
    "        ),\n",
    "        # scatter plot for % susceptible against breakthrough original virus\n",
    "        go.Scatter(\n",
    "            x=af2['% Population vaccinated'], \n",
    "            y=os212['% SUCEPTIBLE for  BREAKTHROUGH  ORGINAL SEVERE'], \n",
    "            name=\"People Susceptible for Severe Original\", \n",
    "            mode='markers', \n",
    "            marker=dict(size=8), \n",
    "            text=af2['COUNTRY']\n",
    "        ),\n",
    "        # scatter plot for % susceptible against original infection\n",
    "        go.Scatter(\n",
    "            x=af2['% Population vaccinated'], \n",
    "            y=os222['% SUCEPTIBLE for  BREAKTHROUGH ORIGINAL  INFECTION'], \n",
    "            name=\"People Susceptible for Infection Original\", \n",
    "            mode='markers', \n",
    "            marker=dict(size=8), \n",
    "            text=af2['COUNTRY']\n",
    "        )\n",
    "    ]\n",
    "\n",
    "# create the scatter plot\n",
    "layout2 = go.Layout(\n",
    "    title='Percentage of People Protected Against Virus Based on Countries in Continents for Omicron', \n",
    "    legend_title='Omicron Virus Status', \n",
    "    xaxis_title='% Vaccinated', \n",
    "    yaxis_title='% Susceptible for Virus'\n",
    ")\n",
    "\n",
    "# function to receive the data containing information for the continent\n",
    "def display_scatter_plot2(selected_continent):\n",
    "    fig = go.Figure(data=data2[selected_continent], layout=layout2)\n",
    "    fig.show()\n",
    "\n",
    "# create a widget of each continent to find the information\n",
    "continent_dropdown2 = widgets.Dropdown(\n",
    "    options=countries,\n",
    "    description='Continents:', \n",
    "    layout={'width': '300px'}\n",
    ")\n",
    "\n",
    "# Attach the display_scatter_plot2 function to the dropdown widget\n",
    "widgets.interact(display_scatter_plot2, selected_continent=continent_dropdown2)"
   ]
  },
  {
   "cell_type": "markdown",
   "id": "73eff656",
   "metadata": {
    "extensions": {
     "jupyter_dashboards": {
      "version": 1,
      "views": {
       "grid_default": {},
       "report_default": {
        "hidden": false
       }
      }
     }
    }
   },
   "source": [
    "# Percentage of Prople Protected Against Original Var. and BA1.n Virus and Infection based on Percentage of People Vaccinated"
   ]
  },
  {
   "cell_type": "markdown",
   "id": "d0e5320a",
   "metadata": {
    "extensions": {
     "jupyter_dashboards": {
      "version": 1,
      "views": {
       "grid_default": {},
       "report_default": {
        "hidden": false
       }
      }
     }
    }
   },
   "source": [
    "## While we see that people are more lilely to be protected against Original Var. Severe, then Original Var. Infection, then BA1.n Severe and least likely to be protected against BA1.n Infection compared to others. However this time compared to other graphs we have seen, this shows that even when there are countries that have less people vaccinated and countries that have more people vaccinated, it is still the same as in people can still be protected against the virus. This shows it does not matter whether there are more people vaccinated, the protection percentage would remain the same"
   ]
  },
  {
   "cell_type": "code",
   "execution_count": 29,
   "id": "c6105eda",
   "metadata": {
    "extensions": {
     "jupyter_dashboards": {
      "version": 1,
      "views": {
       "grid_default": {},
       "report_default": {
        "hidden": false
       }
      }
     }
    }
   },
   "outputs": [
    {
     "data": {
      "application/vnd.jupyter.widget-view+json": {
       "model_id": "5f09e29eee0b49599130e5ada297c5b9",
       "version_major": 2,
       "version_minor": 0
      },
      "text/plain": [
       "interactive(children=(Dropdown(description='Continents:', layout=Layout(width='300px'), options=('Asia', 'Euro…"
      ]
     },
     "metadata": {},
     "output_type": "display_data"
    },
    {
     "data": {
      "text/plain": [
       "<function __main__.display_scatter_plot23(selected3_continent)>"
      ]
     },
     "execution_count": 29,
     "metadata": {},
     "output_type": "execute_result"
    }
   ],
   "source": [
    "# Using the continents find out the population vaccinated and % protected against BA1.n and Original Var\n",
    "data23 = {}\n",
    "for continent in countries:\n",
    "    # find the country in a continent along with population vaccinated, and % protected against BA1.n and Original Var\n",
    "    af23 = df_new.loc[df_new['Continent'] == continent, ['COUNTRY', '% Population vaccinated']]\n",
    "    os23 = df_new.loc[df_new['Continent'] == continent, ['COUNTRY', 'Protection against LATEST var BA1.n SEVERE, % average']]\n",
    "    os123 = df_new.loc[df_new['Continent'] == continent, ['COUNTRY', 'Protection against LATEST var BA1.n INFECTION, % average']]\n",
    "    os2123 = df_new.loc[df_new['Continent'] == continent, ['COUNTRY', 'Protection against ORIGINAL Var- SEVERE, % average']]\n",
    "    os2223 = df_new.loc[df_new['Continent'] == continent, ['COUNTRY', 'Protection against ORIGINAL Var- INFECTION, % average']]\n",
    "    data23[continent] = [\n",
    "        # scatter plot for % protection against BA1.n Severe\n",
    "        go.Scatter(\n",
    "            x=af23['% Population vaccinated'], \n",
    "            y=os23['Protection against LATEST var BA1.n SEVERE, % average'], \n",
    "            name=\"LATEST var BA1.n SEVERE, % averag\", \n",
    "            mode='markers', \n",
    "            marker=dict(size=8), \n",
    "            text=af23['COUNTRY']\n",
    "        ),\n",
    "        # scatter plot for % protection against BA1.n Infection\n",
    "        go.Scatter(\n",
    "            x=af23['% Population vaccinated'], \n",
    "            y=os123['Protection against LATEST var BA1.n INFECTION, % average'], \n",
    "            name=\"LATEST var BA1.n INFECTION, % average\", \n",
    "            mode='markers', \n",
    "            marker=dict(size=8), \n",
    "            text=af23['COUNTRY']\n",
    "        ),\n",
    "        # scatter plot for % protection against Original Var. Severe\n",
    "        go.Scatter(\n",
    "            x=af23['% Population vaccinated'], \n",
    "            y=os2123['Protection against ORIGINAL Var- SEVERE, % average'], \n",
    "            name=\"ORIGINAL Var- SEVERE, % average\", \n",
    "            mode='markers', \n",
    "            marker=dict(size=8), \n",
    "            text=af23['COUNTRY']\n",
    "        ),\n",
    "         # scatter plot for % protection against Original Var. Infection\n",
    "        go.Scatter(\n",
    "            x=af23['% Population vaccinated'], \n",
    "            y=os2223['Protection against ORIGINAL Var- INFECTION, % average'], \n",
    "            name=\"ORIGINAL Var- INFECTION, % average\", \n",
    "            mode='markers', \n",
    "            marker=dict(size=8), \n",
    "            text=af23['COUNTRY']\n",
    "        )\n",
    "    ]\n",
    "\n",
    "# create the scatter plot\n",
    "layout23 = go.Layout(\n",
    "    title='Protection against Original Var vs Latest BA1.', \n",
    "    legend_title='Virus Status', \n",
    "    xaxis_title='% Vaccinated', \n",
    "    yaxis_title='% Protected for Virus'\n",
    ")\n",
    "\n",
    "# function to receive the data containing information for the continent\n",
    "def display_scatter_plot23(selected3_continent):\n",
    "    fig = go.Figure(data=data23[selected3_continent], layout=layout23)\n",
    "    fig.show()\n",
    "\n",
    "# create a widget of each continent to find the information\n",
    "continent_dropdown23 = widgets.Dropdown(\n",
    "    options=countries,\n",
    "    description='Continents:', \n",
    "    layout={'width': '300px'}\n",
    ")\n",
    "\n",
    "# Attach the display_scatter_plot23 function to the dropdown widget\n",
    "widgets.interact(display_scatter_plot23, selected3_continent=continent_dropdown23)"
   ]
  }
 ],
 "metadata": {
  "extensions": {
   "jupyter_dashboards": {
    "activeView": "report_default",
    "version": 1,
    "views": {
     "grid_default": {
      "cellMargin": 10,
      "defaultCellHeight": 20,
      "maxColumns": 12,
      "name": "grid",
      "type": "grid"
     },
     "report_default": {
      "name": "report",
      "type": "report"
     }
    }
   }
  },
  "kernelspec": {
   "display_name": "Python 3 (ipykernel)",
   "language": "python",
   "name": "python3"
  },
  "language_info": {
   "codemirror_mode": {
    "name": "ipython",
    "version": 3
   },
   "file_extension": ".py",
   "mimetype": "text/x-python",
   "name": "python",
   "nbconvert_exporter": "python",
   "pygments_lexer": "ipython3",
   "version": "3.10.9"
  }
 },
 "nbformat": 4,
 "nbformat_minor": 5
}
